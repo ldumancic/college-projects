{
 "cells": [
  {
   "cell_type": "markdown",
   "metadata": {
    "id": "lRqSoQprMQjG"
   },
   "source": [
    "<center>\n",
    "Obrada prirodnog jezika\n",
    "\n",
    "Lemmatization\n",
    "\n",
    "Lucija Dumančić\n"
   ]
  },
  {
   "cell_type": "markdown",
   "metadata": {
    "id": "qVFeOt_PbTCg"
   },
   "source": [
    "# MODEL EVALUATION"
   ]
  },
  {
   "cell_type": "code",
   "execution_count": 2,
   "metadata": {
    "executionInfo": {
     "elapsed": 4056,
     "status": "ok",
     "timestamp": 1711829081088,
     "user": {
      "displayName": "Marko Kumir",
      "userId": "15629419082931327730"
     },
     "user_tz": -60
    },
    "id": "GvCe2-KLbO_r"
   },
   "outputs": [],
   "source": [
    "import pandas as pd\n",
    "import numpy as np\n",
    "from tensorflow.keras.models import load_model\n",
    "from sklearn.metrics import f1_score\n",
    "from tqdm import tqdm"
   ]
  },
  {
   "cell_type": "code",
   "execution_count": 3,
   "metadata": {
    "colab": {
     "base_uri": "https://localhost:8080/"
    },
    "executionInfo": {
     "elapsed": 4,
     "status": "ok",
     "timestamp": 1711829081088,
     "user": {
      "displayName": "Marko Kumir",
      "userId": "15629419082931327730"
     },
     "user_tz": -60
    },
    "id": "LxmHAMvwh1_w",
    "outputId": "a41381e6-74e5-45a5-fafc-2ce8277e1ec2"
   },
   "outputs": [
    {
     "name": "stdout",
     "output_type": "stream",
     "text": [
      "/content/drive/MyDrive/OPJ/Projekt\n"
     ]
    }
   ],
   "source": [
    "%cd /content/drive/MyDrive/OPJ/Projekt"
   ]
  },
  {
   "cell_type": "markdown",
   "metadata": {
    "id": "CstSuoWQ8iMm"
   },
   "source": [
    "## Load model and test data"
   ]
  },
  {
   "cell_type": "code",
   "execution_count": 4,
   "metadata": {
    "executionInfo": {
     "elapsed": 2337,
     "status": "ok",
     "timestamp": 1711829083423,
     "user": {
      "displayName": "Marko Kumir",
      "userId": "15629419082931327730"
     },
     "user_tz": -60
    },
    "id": "Att65COJ5bvt"
   },
   "outputs": [],
   "source": [
    "model = load_model(\"lemmatization_model.keras\") #loading trained lemmatization model"
   ]
  },
  {
   "cell_type": "code",
   "execution_count": 5,
   "metadata": {
    "executionInfo": {
     "elapsed": 19315,
     "status": "ok",
     "timestamp": 1711829102734,
     "user": {
      "displayName": "Marko Kumir",
      "userId": "15629419082931327730"
     },
     "user_tz": -60
    },
    "id": "8vZWOjtLx50n"
   },
   "outputs": [],
   "source": [
    "# Load test arrays from files\n",
    "vectorized_tokens_test = np.load('vectorized_tokens_test.npy')\n",
    "vectorized_lemmas_test = np.load('vectorized_lemmas_test.npy')"
   ]
  },
  {
   "cell_type": "code",
   "execution_count": 7,
   "metadata": {
    "executionInfo": {
     "elapsed": 753,
     "status": "ok",
     "timestamp": 1711829107236,
     "user": {
      "displayName": "Marko Kumir",
      "userId": "15629419082931327730"
     },
     "user_tz": -60
    },
    "id": "4H90r4u-24ch"
   },
   "outputs": [],
   "source": [
    "test = pd.read_csv('hrWaC2.1.01_test_dataset.csv')"
   ]
  },
  {
   "cell_type": "code",
   "execution_count": 8,
   "metadata": {
    "colab": {
     "base_uri": "https://localhost:8080/",
     "height": 206
    },
    "executionInfo": {
     "elapsed": 4,
     "status": "ok",
     "timestamp": 1711829107236,
     "user": {
      "displayName": "Marko Kumir",
      "userId": "15629419082931327730"
     },
     "user_tz": -60
    },
    "id": "7X8-hT6Y9xYU",
    "outputId": "fdcd357c-50b5-4913-ec15-567ca7ceb5ac"
   },
   "outputs": [
    {
     "data": {
      "application/vnd.google.colaboratory.intrinsic+json": {
       "summary": "{\n  \"name\": \"test\",\n  \"rows\": 54944,\n  \"fields\": [\n    {\n      \"column\": \"Token\",\n      \"properties\": {\n        \"dtype\": \"string\",\n        \"num_unique_values\": 54943,\n        \"samples\": [\n          \"ni\\u0161e\",\n          \"vedran\",\n          \"pirate\"\n        ],\n        \"semantic_type\": \"\",\n        \"description\": \"\"\n      }\n    },\n    {\n      \"column\": \"Lemma\",\n      \"properties\": {\n        \"dtype\": \"string\",\n        \"num_unique_values\": 28219,\n        \"samples\": [\n          \"wheel\",\n          \"filozofija\",\n          \"opse\\u017ean\"\n        ],\n        \"semantic_type\": \"\",\n        \"description\": \"\"\n      }\n    }\n  ]\n}",
       "type": "dataframe",
       "variable_name": "test"
      },
      "text/html": [
       "\n",
       "  <div id=\"df-26cdbe82-cd7d-4156-bb12-2759131b6c47\" class=\"colab-df-container\">\n",
       "    <div>\n",
       "<style scoped>\n",
       "    .dataframe tbody tr th:only-of-type {\n",
       "        vertical-align: middle;\n",
       "    }\n",
       "\n",
       "    .dataframe tbody tr th {\n",
       "        vertical-align: top;\n",
       "    }\n",
       "\n",
       "    .dataframe thead th {\n",
       "        text-align: right;\n",
       "    }\n",
       "</style>\n",
       "<table border=\"1\" class=\"dataframe\">\n",
       "  <thead>\n",
       "    <tr style=\"text-align: right;\">\n",
       "      <th></th>\n",
       "      <th>Token</th>\n",
       "      <th>Lemma</th>\n",
       "    </tr>\n",
       "  </thead>\n",
       "  <tbody>\n",
       "    <tr>\n",
       "      <th>0</th>\n",
       "      <td>rujan</td>\n",
       "      <td>rujan</td>\n",
       "    </tr>\n",
       "    <tr>\n",
       "      <th>1</th>\n",
       "      <td>da</td>\n",
       "      <td>da</td>\n",
       "    </tr>\n",
       "    <tr>\n",
       "      <th>2</th>\n",
       "      <td>znači</td>\n",
       "      <td>značiti</td>\n",
       "    </tr>\n",
       "    <tr>\n",
       "      <th>3</th>\n",
       "      <td>su</td>\n",
       "      <td>biti</td>\n",
       "    </tr>\n",
       "    <tr>\n",
       "      <th>4</th>\n",
       "      <td>bio</td>\n",
       "      <td>biti</td>\n",
       "    </tr>\n",
       "  </tbody>\n",
       "</table>\n",
       "</div>\n",
       "    <div class=\"colab-df-buttons\">\n",
       "\n",
       "  <div class=\"colab-df-container\">\n",
       "    <button class=\"colab-df-convert\" onclick=\"convertToInteractive('df-26cdbe82-cd7d-4156-bb12-2759131b6c47')\"\n",
       "            title=\"Convert this dataframe to an interactive table.\"\n",
       "            style=\"display:none;\">\n",
       "\n",
       "  <svg xmlns=\"http://www.w3.org/2000/svg\" height=\"24px\" viewBox=\"0 -960 960 960\">\n",
       "    <path d=\"M120-120v-720h720v720H120Zm60-500h600v-160H180v160Zm220 220h160v-160H400v160Zm0 220h160v-160H400v160ZM180-400h160v-160H180v160Zm440 0h160v-160H620v160ZM180-180h160v-160H180v160Zm440 0h160v-160H620v160Z\"/>\n",
       "  </svg>\n",
       "    </button>\n",
       "\n",
       "  <style>\n",
       "    .colab-df-container {\n",
       "      display:flex;\n",
       "      gap: 12px;\n",
       "    }\n",
       "\n",
       "    .colab-df-convert {\n",
       "      background-color: #E8F0FE;\n",
       "      border: none;\n",
       "      border-radius: 50%;\n",
       "      cursor: pointer;\n",
       "      display: none;\n",
       "      fill: #1967D2;\n",
       "      height: 32px;\n",
       "      padding: 0 0 0 0;\n",
       "      width: 32px;\n",
       "    }\n",
       "\n",
       "    .colab-df-convert:hover {\n",
       "      background-color: #E2EBFA;\n",
       "      box-shadow: 0px 1px 2px rgba(60, 64, 67, 0.3), 0px 1px 3px 1px rgba(60, 64, 67, 0.15);\n",
       "      fill: #174EA6;\n",
       "    }\n",
       "\n",
       "    .colab-df-buttons div {\n",
       "      margin-bottom: 4px;\n",
       "    }\n",
       "\n",
       "    [theme=dark] .colab-df-convert {\n",
       "      background-color: #3B4455;\n",
       "      fill: #D2E3FC;\n",
       "    }\n",
       "\n",
       "    [theme=dark] .colab-df-convert:hover {\n",
       "      background-color: #434B5C;\n",
       "      box-shadow: 0px 1px 3px 1px rgba(0, 0, 0, 0.15);\n",
       "      filter: drop-shadow(0px 1px 2px rgba(0, 0, 0, 0.3));\n",
       "      fill: #FFFFFF;\n",
       "    }\n",
       "  </style>\n",
       "\n",
       "    <script>\n",
       "      const buttonEl =\n",
       "        document.querySelector('#df-26cdbe82-cd7d-4156-bb12-2759131b6c47 button.colab-df-convert');\n",
       "      buttonEl.style.display =\n",
       "        google.colab.kernel.accessAllowed ? 'block' : 'none';\n",
       "\n",
       "      async function convertToInteractive(key) {\n",
       "        const element = document.querySelector('#df-26cdbe82-cd7d-4156-bb12-2759131b6c47');\n",
       "        const dataTable =\n",
       "          await google.colab.kernel.invokeFunction('convertToInteractive',\n",
       "                                                    [key], {});\n",
       "        if (!dataTable) return;\n",
       "\n",
       "        const docLinkHtml = 'Like what you see? Visit the ' +\n",
       "          '<a target=\"_blank\" href=https://colab.research.google.com/notebooks/data_table.ipynb>data table notebook</a>'\n",
       "          + ' to learn more about interactive tables.';\n",
       "        element.innerHTML = '';\n",
       "        dataTable['output_type'] = 'display_data';\n",
       "        await google.colab.output.renderOutput(dataTable, element);\n",
       "        const docLink = document.createElement('div');\n",
       "        docLink.innerHTML = docLinkHtml;\n",
       "        element.appendChild(docLink);\n",
       "      }\n",
       "    </script>\n",
       "  </div>\n",
       "\n",
       "\n",
       "<div id=\"df-5c603e7a-4248-4a26-9413-231d0d9bba85\">\n",
       "  <button class=\"colab-df-quickchart\" onclick=\"quickchart('df-5c603e7a-4248-4a26-9413-231d0d9bba85')\"\n",
       "            title=\"Suggest charts\"\n",
       "            style=\"display:none;\">\n",
       "\n",
       "<svg xmlns=\"http://www.w3.org/2000/svg\" height=\"24px\"viewBox=\"0 0 24 24\"\n",
       "     width=\"24px\">\n",
       "    <g>\n",
       "        <path d=\"M19 3H5c-1.1 0-2 .9-2 2v14c0 1.1.9 2 2 2h14c1.1 0 2-.9 2-2V5c0-1.1-.9-2-2-2zM9 17H7v-7h2v7zm4 0h-2V7h2v10zm4 0h-2v-4h2v4z\"/>\n",
       "    </g>\n",
       "</svg>\n",
       "  </button>\n",
       "\n",
       "<style>\n",
       "  .colab-df-quickchart {\n",
       "      --bg-color: #E8F0FE;\n",
       "      --fill-color: #1967D2;\n",
       "      --hover-bg-color: #E2EBFA;\n",
       "      --hover-fill-color: #174EA6;\n",
       "      --disabled-fill-color: #AAA;\n",
       "      --disabled-bg-color: #DDD;\n",
       "  }\n",
       "\n",
       "  [theme=dark] .colab-df-quickchart {\n",
       "      --bg-color: #3B4455;\n",
       "      --fill-color: #D2E3FC;\n",
       "      --hover-bg-color: #434B5C;\n",
       "      --hover-fill-color: #FFFFFF;\n",
       "      --disabled-bg-color: #3B4455;\n",
       "      --disabled-fill-color: #666;\n",
       "  }\n",
       "\n",
       "  .colab-df-quickchart {\n",
       "    background-color: var(--bg-color);\n",
       "    border: none;\n",
       "    border-radius: 50%;\n",
       "    cursor: pointer;\n",
       "    display: none;\n",
       "    fill: var(--fill-color);\n",
       "    height: 32px;\n",
       "    padding: 0;\n",
       "    width: 32px;\n",
       "  }\n",
       "\n",
       "  .colab-df-quickchart:hover {\n",
       "    background-color: var(--hover-bg-color);\n",
       "    box-shadow: 0 1px 2px rgba(60, 64, 67, 0.3), 0 1px 3px 1px rgba(60, 64, 67, 0.15);\n",
       "    fill: var(--button-hover-fill-color);\n",
       "  }\n",
       "\n",
       "  .colab-df-quickchart-complete:disabled,\n",
       "  .colab-df-quickchart-complete:disabled:hover {\n",
       "    background-color: var(--disabled-bg-color);\n",
       "    fill: var(--disabled-fill-color);\n",
       "    box-shadow: none;\n",
       "  }\n",
       "\n",
       "  .colab-df-spinner {\n",
       "    border: 2px solid var(--fill-color);\n",
       "    border-color: transparent;\n",
       "    border-bottom-color: var(--fill-color);\n",
       "    animation:\n",
       "      spin 1s steps(1) infinite;\n",
       "  }\n",
       "\n",
       "  @keyframes spin {\n",
       "    0% {\n",
       "      border-color: transparent;\n",
       "      border-bottom-color: var(--fill-color);\n",
       "      border-left-color: var(--fill-color);\n",
       "    }\n",
       "    20% {\n",
       "      border-color: transparent;\n",
       "      border-left-color: var(--fill-color);\n",
       "      border-top-color: var(--fill-color);\n",
       "    }\n",
       "    30% {\n",
       "      border-color: transparent;\n",
       "      border-left-color: var(--fill-color);\n",
       "      border-top-color: var(--fill-color);\n",
       "      border-right-color: var(--fill-color);\n",
       "    }\n",
       "    40% {\n",
       "      border-color: transparent;\n",
       "      border-right-color: var(--fill-color);\n",
       "      border-top-color: var(--fill-color);\n",
       "    }\n",
       "    60% {\n",
       "      border-color: transparent;\n",
       "      border-right-color: var(--fill-color);\n",
       "    }\n",
       "    80% {\n",
       "      border-color: transparent;\n",
       "      border-right-color: var(--fill-color);\n",
       "      border-bottom-color: var(--fill-color);\n",
       "    }\n",
       "    90% {\n",
       "      border-color: transparent;\n",
       "      border-bottom-color: var(--fill-color);\n",
       "    }\n",
       "  }\n",
       "</style>\n",
       "\n",
       "  <script>\n",
       "    async function quickchart(key) {\n",
       "      const quickchartButtonEl =\n",
       "        document.querySelector('#' + key + ' button');\n",
       "      quickchartButtonEl.disabled = true;  // To prevent multiple clicks.\n",
       "      quickchartButtonEl.classList.add('colab-df-spinner');\n",
       "      try {\n",
       "        const charts = await google.colab.kernel.invokeFunction(\n",
       "            'suggestCharts', [key], {});\n",
       "      } catch (error) {\n",
       "        console.error('Error during call to suggestCharts:', error);\n",
       "      }\n",
       "      quickchartButtonEl.classList.remove('colab-df-spinner');\n",
       "      quickchartButtonEl.classList.add('colab-df-quickchart-complete');\n",
       "    }\n",
       "    (() => {\n",
       "      let quickchartButtonEl =\n",
       "        document.querySelector('#df-5c603e7a-4248-4a26-9413-231d0d9bba85 button');\n",
       "      quickchartButtonEl.style.display =\n",
       "        google.colab.kernel.accessAllowed ? 'block' : 'none';\n",
       "    })();\n",
       "  </script>\n",
       "</div>\n",
       "    </div>\n",
       "  </div>\n"
      ],
      "text/plain": [
       "   Token    Lemma\n",
       "0  rujan    rujan\n",
       "1     da       da\n",
       "2  znači  značiti\n",
       "3     su     biti\n",
       "4    bio     biti"
      ]
     },
     "execution_count": 8,
     "metadata": {},
     "output_type": "execute_result"
    }
   ],
   "source": [
    "test.head()"
   ]
  },
  {
   "cell_type": "code",
   "execution_count": null,
   "metadata": {
    "id": "Wwja3DKk24cj"
   },
   "outputs": [],
   "source": [
    "true_lemmas = test['Lemma'].astype(str)"
   ]
  },
  {
   "cell_type": "code",
   "execution_count": null,
   "metadata": {
    "id": "QsdIi6pwv2lH"
   },
   "outputs": [],
   "source": [
    "lemma_vector_dict = {string: vector for string, vector in zip(true_lemmas, vectorized_lemmas_test)}"
   ]
  },
  {
   "cell_type": "markdown",
   "metadata": {
    "id": "RCxdTv3z--AB"
   },
   "source": [
    "Dictionary is created to map lemmas word values to their corresponding vector representations."
   ]
  },
  {
   "cell_type": "markdown",
   "metadata": {
    "id": "UM8oBU0j_YkG"
   },
   "source": [
    "## Evaluate model"
   ]
  },
  {
   "cell_type": "code",
   "execution_count": null,
   "metadata": {
    "id": "DmurPGtFVyDJ"
   },
   "outputs": [],
   "source": [
    "def nearest_lemmas(predicted_vectors):\n",
    "    nearest_lemmas = []\n",
    "\n",
    "    # Initialize progress bar\n",
    "    with tqdm(total=len(predicted_vectors), desc=\"Calculating F1\", unit=\"instance\") as pbar:\n",
    "        for pred_vector in predicted_vectors:\n",
    "            max_similarity = -1\n",
    "            nearest_lemma = None\n",
    "            for lemma, vector in lemma_vector_dict.items():\n",
    "              # Calculate cosine similarity between predicted and true vectors\n",
    "              similarity = np.dot(pred_vector, vector) / (np.linalg.norm(pred_vector) * np.linalg.norm(vector))\n",
    "              if similarity > max_similarity:\n",
    "                max_similarity = similarity\n",
    "                nearest_lemma = lemma\n",
    "            nearest_lemmas.append(nearest_lemma)\n",
    "              # Update progress bar\n",
    "            pbar.update(1)\n",
    "\n",
    "    return nearest_lemmas"
   ]
  },
  {
   "cell_type": "markdown",
   "metadata": {
    "id": "YQUfsCjf8EAt"
   },
   "source": [
    "This function takes a list of predicted vectors as input and returns a list of corresponding predicted lemmas in word shape. It iterates through each predicted vector and calculates the cosine similarity between predicted and test vectors to find the corresponding word value for most similar lemma vector."
   ]
  },
  {
   "cell_type": "code",
   "execution_count": null,
   "metadata": {
    "colab": {
     "base_uri": "https://localhost:8080/"
    },
    "executionInfo": {
     "elapsed": 3700,
     "status": "ok",
     "timestamp": 1711792543794,
     "user": {
      "displayName": "Marko Kumir",
      "userId": "15629419082931327730"
     },
     "user_tz": -60
    },
    "id": "aWQn8Spw4CNl",
    "outputId": "ed163c98-3d99-4da9-8087-80cd8a889b1b"
   },
   "outputs": [
    {
     "name": "stdout",
     "output_type": "stream",
     "text": [
      "1717/1717 [==============================] - 3s 1ms/step\n"
     ]
    }
   ],
   "source": [
    "vectorized_lemmas_predicted = model.predict(vectorized_lemmas_test)"
   ]
  },
  {
   "cell_type": "code",
   "execution_count": null,
   "metadata": {
    "colab": {
     "base_uri": "https://localhost:8080/"
    },
    "executionInfo": {
     "elapsed": 3245690,
     "status": "ok",
     "timestamp": 1711804980189,
     "user": {
      "displayName": "Marko Kumir",
      "userId": "15629419082931327730"
     },
     "user_tz": -60
    },
    "id": "nyg-eiCx4CLt",
    "outputId": "fdfc685d-31c3-420d-9e71-03733e5ee127"
   },
   "outputs": [
    {
     "name": "stderr",
     "output_type": "stream",
     "text": [
      "Calculating F1: 100%|██████████| 54944/54944 [3:27:16<00:00,  4.42instance/s]\n"
     ]
    }
   ],
   "source": [
    "predicted_lemmas = nearest_lemmas(vectorized_lemmas_predicted)"
   ]
  },
  {
   "cell_type": "code",
   "execution_count": null,
   "metadata": {
    "id": "ifepEil_4CI8"
   },
   "outputs": [],
   "source": [
    "f1 = f1_score(predicted_lemmas, true_lemmas, average='weighted')"
   ]
  },
  {
   "cell_type": "markdown",
   "metadata": {
    "id": "EDUEoXzH9lvW"
   },
   "source": [
    "Weighted average in F1 score calculation accounts for class imbalance by weighting each class's F1 score based on the number of true instances in that class."
   ]
  },
  {
   "cell_type": "code",
   "execution_count": null,
   "metadata": {
    "colab": {
     "base_uri": "https://localhost:8080/"
    },
    "executionInfo": {
     "elapsed": 252,
     "status": "ok",
     "timestamp": 1711805032164,
     "user": {
      "displayName": "Marko Kumir",
      "userId": "15629419082931327730"
     },
     "user_tz": -60
    },
    "id": "cf21zgXs4CGE",
    "outputId": "67138f62-c0c6-4cca-cb53-730b4fe5069b"
   },
   "outputs": [
    {
     "name": "stdout",
     "output_type": "stream",
     "text": [
      "F1 score: 91.62%\n"
     ]
    }
   ],
   "source": [
    "print(f\"F1 score: {f1 * 100:.2f}%\")"
   ]
  },
  {
   "cell_type": "markdown",
   "metadata": {
    "id": "VpmXzU5m9McF"
   },
   "source": [
    "We obtained an F1 score of 91.62% from our feedforward neural network lemmatization model's predictions."
   ]
  },
  {
   "cell_type": "code",
   "execution_count": null,
   "metadata": {
    "colab": {
     "base_uri": "https://localhost:8080/"
    },
    "executionInfo": {
     "elapsed": 244,
     "status": "ok",
     "timestamp": 1711814222452,
     "user": {
      "displayName": "Marko Kumir",
      "userId": "15629419082931327730"
     },
     "user_tz": -60
    },
    "id": "MErRxRiwEJV6",
    "outputId": "3194654a-c562-427c-b8d8-9cf86f97cb5d"
   },
   "outputs": [
    {
     "name": "stdout",
     "output_type": "stream",
     "text": [
      "['grad' 'godina' 'reći' 'stoljeće' 'bolnica' 'mentalan' 'žrtva' 'igra'\n",
      " 'medved' 'prije']\n",
      "['drago' 'barača' 'ožiljak' 'martina' 'godina' 'načelnik' 'osigurati'\n",
      " 'studij' 'tportal' 'njegov']\n",
      "['kod' 'izgledati' 'čaj' 'pisac' 'moći' 'verona' 'proširiti' 'sve' 'ran'\n",
      " 'plav']\n",
      "['postavljanje' 'vijeće' 'za' 'marketing' 'htjeti' 'pokretati' 'vrijeme'\n",
      " 'poznat' 'zbog' 'mogućnost']\n",
      "['izvještavati' 'projekt' 'čiji' 'značajan' 'neki' 'liječnik'\n",
      " 'sudjelovati' 'koji' 'egzorcizam' 'po']\n"
     ]
    }
   ],
   "source": [
    "print(np.array(true_lemmas[50:60]))\n",
    "print(np.array(true_lemmas[60:70]))\n",
    "print(np.array(true_lemmas[70:80]))\n",
    "print(np.array(true_lemmas[80:90]))\n",
    "print(np.array(true_lemmas[90:100]))"
   ]
  },
  {
   "cell_type": "markdown",
   "metadata": {
    "id": "Quh2Hawc9666"
   },
   "source": [
    "This is example of 50 test lemmas."
   ]
  },
  {
   "cell_type": "code",
   "execution_count": null,
   "metadata": {
    "colab": {
     "base_uri": "https://localhost:8080/"
    },
    "executionInfo": {
     "elapsed": 235,
     "status": "ok",
     "timestamp": 1711814220857,
     "user": {
      "displayName": "Marko Kumir",
      "userId": "15629419082931327730"
     },
     "user_tz": -60
    },
    "id": "RU55JB5WEC0r",
    "outputId": "7365cdb5-57a7-4c98-8645-8cdd85d85d0f"
   },
   "outputs": [
    {
     "name": "stdout",
     "output_type": "stream",
     "text": [
      "['grad', 'godina', 'žaliti', 'stoljeće', 'bolnica', 'mentalan', 'žrtva', 'odigravati', 'medved', 'prijevremen']\n",
      "['sretan', 'konjak', 'ožiljak', 'martina', 'godina', 'načelnik', 'osigurati', 'studij', 'tportal', 'njegov']\n",
      "['premještanje', 'izgledati', 'čaj', 'pisac', 'sposobnost', 'verona', 'proširiti', 'jednostavno', 'ispostaviti', 'plav']\n",
      "['postavljanje', 'predsjedništvo', 'osiguravateljski', 'marketing', 'gnjaviti', 'pokretati', 'odrastanje', 'poznati', 'pretjerivanje', 'mogućnost']\n",
      "['izvještavati', 'projekt', 'čiji', 'značajan', 'običan', 'liječnik', 'sudjelovati', 'koji', 'egzorcizam', 'primamljiv']\n"
     ]
    }
   ],
   "source": [
    "print(predicted_lemmas[50:60])\n",
    "print(predicted_lemmas[60:70])\n",
    "print(predicted_lemmas[70:80])\n",
    "print(predicted_lemmas[80:90])\n",
    "print(predicted_lemmas[90:100])"
   ]
  },
  {
   "cell_type": "markdown",
   "metadata": {
    "id": "VUPnfmq7-gf9"
   },
   "source": [
    "We're inspecting their predicted values for 50 corresponding tokens."
   ]
  }
 ],
 "metadata": {
  "colab": {
   "authorship_tag": "ABX9TyMIz76a8XjEzEE7N2tJ0yzC",
   "machine_shape": "hm",
   "mount_file_id": "197WFrl8MPf3ENAoi_tCj7z-8WJh_0YbZ",
   "provenance": []
  },
  "kernelspec": {
   "display_name": "Python 3",
   "name": "python3"
  },
  "language_info": {
   "name": "python"
  }
 },
 "nbformat": 4,
 "nbformat_minor": 0
}
