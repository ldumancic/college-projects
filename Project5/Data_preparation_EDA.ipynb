{
 "cells": [
  {
   "cell_type": "markdown",
   "metadata": {
    "id": "FAjI9KQM_9oB"
   },
   "source": [
    "<center>\n",
    "Obrada prirodnog jezika\n",
    "\n",
    "Lemmatization\n",
    "\n",
    "Lucija Dumančić\n"
   ]
  },
  {
   "cell_type": "markdown",
   "metadata": {
    "id": "_Co4oEQF_i62"
   },
   "source": [
    "# DATA PREPARATION & EDA"
   ]
  },
  {
   "cell_type": "markdown",
   "metadata": {
    "id": "-Sjv3sTkhi67"
   },
   "source": [
    "### Libraries"
   ]
  },
  {
   "cell_type": "code",
   "execution_count": 1,
   "metadata": {
    "executionInfo": {
     "elapsed": 7415,
     "status": "ok",
     "timestamp": 1711830678956,
     "user": {
      "displayName": "Marko Kumir",
      "userId": "15629419082931327730"
     },
     "user_tz": -60
    },
    "id": "-6kAsghufQS6"
   },
   "outputs": [],
   "source": [
    "import xml.etree.ElementTree as ET\n",
    "import numpy as np\n",
    "import pandas as pd\n",
    "import re\n",
    "from tqdm import tqdm\n",
    "from sklearn.model_selection import train_test_split\n",
    "import matplotlib.pyplot as plt\n",
    "from collections import Counter\n",
    "from wordcloud import WordCloud\n",
    "import spacy\n",
    "import random"
   ]
  },
  {
   "cell_type": "markdown",
   "metadata": {
    "id": "sBFz1EQsOhLl"
   },
   "source": [
    "\n",
    "\n",
    "1. **xml.etree.ElementTree**: This library allows us to parse and manipulate XML documents in Python. It provides a simple and efficient way to navigate and edit XML data.\n",
    "2. **numpy**: NumPy is a powerful library for numerical computing in Python. It provides support for large, multi-dimensional arrays and matrices, along with a collection of mathematical functions to operate on these arrays efficiently.\n",
    "3. **pandas**: Pandas is a data manipulation and analysis library for Python. It provides data structures like DataFrame and Series, which are highly efficient for working with structured data. Pandas is widely used for tasks such as data cleaning, manipulation, and analysis.\n",
    "4. **re**: The \"re\" module is Python's built-in regular expression library. Regular expressions are powerful tools for pattern matching and text manipulation. The \"re\" module provides functions and methods for searching, replacing, and manipulating text using regular expressions. It's commonly used for tasks like text preprocessing, pattern matching, and data extraction.\n",
    "5. **tqdm**: tqdm is a library for adding progress bars to Python code. It's particulary useful when iterating over large datasets or performing time-consuming operations, as it provides a visual indication of progress.\n",
    "6. **sklearn.model_selection.train_test_split**: This module from scikit-learn provides functions for splitting datasets into train and test sets. It's commonly used for evaluating the performance of machine learning models by splitting the data into training and testing subsets.\n",
    "7. **matplotlib.pyplot**: Matplotlib is a plotting library for Python, and pyplot is a module within Matplotlib that provides a MATLAB-like interface for creating plots and visualizations. It allows us to create various types of plots, such as line plots, scatter plots, bar plots, histograms, and more.\n",
    "8. **collections.Counter**: The Counter class is part of the collections module in Python. It provides a convenient way to count the occurrences of elements in a collection (e.g., a list, tuple, or string). Counters are especially handy for tasks like counting word frequencies, generating histograms, and finding most common elements in a collection.\n",
    "9. **wordcloud.WordCloud**: WordCloud is a library for creating word clouds from text data. A word cloud is a visualization technique that displays words from a text corpus, where the size of each word indicates its frequency or importance. Word clouds are often used to visualize the most common words in a text document or to highlight keywords.\n",
    "10. **spacy**: spaCy is a natural language processing library for Python. It provides tools and pre-trained models for various NLP tasks such as tokenization and lemmatization, text similarity, text classification, and more.\n",
    "\n"
   ]
  },
  {
   "cell_type": "markdown",
   "metadata": {
    "id": "JcmMeN47h4MU"
   },
   "source": [
    "### Dataset reading"
   ]
  },
  {
   "cell_type": "markdown",
   "metadata": {
    "id": "mZiK7ji-S-YM"
   },
   "source": [
    "Changing the directory to the directory where our data is saved."
   ]
  },
  {
   "cell_type": "code",
   "execution_count": 2,
   "metadata": {
    "colab": {
     "base_uri": "https://localhost:8080/"
    },
    "executionInfo": {
     "elapsed": 471,
     "status": "ok",
     "timestamp": 1711830682854,
     "user": {
      "displayName": "Marko Kumir",
      "userId": "15629419082931327730"
     },
     "user_tz": -60
    },
    "id": "7_onnk1BhtvK",
    "outputId": "7f1ae493-c20d-4e9a-f53e-27c284733a35"
   },
   "outputs": [
    {
     "name": "stdout",
     "output_type": "stream",
     "text": [
      "/content/drive/MyDrive/OPJ/Projekt\n"
     ]
    }
   ],
   "source": [
    "%cd /content/drive/MyDrive/OPJ/Projekt"
   ]
  },
  {
   "cell_type": "markdown",
   "metadata": {
    "id": "XxnoNDJtZNZS"
   },
   "source": [
    "The Croatian Web Corpus (hrWaC) is a collection of text data from Croatian websites, collected in 2011 and 2014. It underwent preprocessing steps like near-deduplication, diacritic restoration, morphosyntactic annotation, and lemmatization. The corpus is shuffled by paragraphs and contains metadata for each paragraph, including URL, domain, and language identification. The data was scraped from 14,396 website URLs and comprises 1 397 757 548 tokens. The data is split into 14 XML files with batches of 100 million tokens."
   ]
  },
  {
   "cell_type": "markdown",
   "metadata": {
    "id": "VRO4Y6HdV214"
   },
   "source": [
    "Our dataset is \"hrWaC2.1.01.xml\" with size of 2.52 GB."
   ]
  },
  {
   "cell_type": "markdown",
   "metadata": {
    "id": "l11c14zJki4h"
   },
   "source": [
    "Due to the large size of the data set, we read it in 4 MB chunks. We append each read piece of the file to a string that will eventually contain the content of the entire XML file."
   ]
  },
  {
   "cell_type": "code",
   "execution_count": null,
   "metadata": {
    "colab": {
     "base_uri": "https://localhost:8080/"
    },
    "executionInfo": {
     "elapsed": 1411904,
     "status": "ok",
     "timestamp": 1711148925965,
     "user": {
      "displayName": "Marko Kumir",
      "userId": "15629419082931327730"
     },
     "user_tz": -60
    },
    "id": "fANF_pvwh6UE",
    "outputId": "088c1d8f-e1e5-4cb8-bbc4-29f3d3bb5e47"
   },
   "outputs": [
    {
     "name": "stdout",
     "output_type": "stream",
     "text": [
      "Total megabytes read so far: 4.00 MB\n",
      "Total megabytes read so far: 8.00 MB\n",
      "Total megabytes read so far: 12.00 MB\n",
      "Total megabytes read so far: 16.00 MB\n",
      "Total megabytes read so far: 20.00 MB\n",
      "Total megabytes read so far: 24.00 MB\n",
      "Total megabytes read so far: 28.00 MB\n",
      "Total megabytes read so far: 32.00 MB\n",
      "Total megabytes read so far: 36.00 MB\n",
      "Total megabytes read so far: 40.00 MB\n",
      "Total megabytes read so far: 44.00 MB\n",
      "Total megabytes read so far: 48.00 MB\n",
      "Total megabytes read so far: 52.00 MB\n",
      "Total megabytes read so far: 56.00 MB\n",
      "Total megabytes read so far: 60.00 MB\n",
      "Total megabytes read so far: 64.00 MB\n",
      "Total megabytes read so far: 68.00 MB\n",
      "Total megabytes read so far: 72.00 MB\n",
      "Total megabytes read so far: 76.00 MB\n",
      "Total megabytes read so far: 80.00 MB\n",
      "Total megabytes read so far: 84.00 MB\n",
      "Total megabytes read so far: 88.00 MB\n",
      "Total megabytes read so far: 92.00 MB\n",
      "Total megabytes read so far: 96.00 MB\n",
      "Total megabytes read so far: 100.00 MB\n",
      "Total megabytes read so far: 104.00 MB\n",
      "Total megabytes read so far: 108.00 MB\n",
      "Total megabytes read so far: 112.00 MB\n",
      "Total megabytes read so far: 116.00 MB\n",
      "Total megabytes read so far: 120.00 MB\n",
      "Total megabytes read so far: 124.00 MB\n",
      "Total megabytes read so far: 128.00 MB\n",
      "Total megabytes read so far: 132.00 MB\n",
      "Total megabytes read so far: 136.00 MB\n",
      "Total megabytes read so far: 140.00 MB\n",
      "Total megabytes read so far: 144.00 MB\n",
      "Total megabytes read so far: 148.00 MB\n",
      "Total megabytes read so far: 152.00 MB\n",
      "Total megabytes read so far: 156.00 MB\n",
      "Total megabytes read so far: 160.00 MB\n",
      "Total megabytes read so far: 164.00 MB\n",
      "Total megabytes read so far: 168.00 MB\n",
      "Total megabytes read so far: 172.00 MB\n",
      "Total megabytes read so far: 176.00 MB\n",
      "Total megabytes read so far: 180.00 MB\n",
      "Total megabytes read so far: 184.00 MB\n",
      "Total megabytes read so far: 188.00 MB\n",
      "Total megabytes read so far: 192.00 MB\n",
      "Total megabytes read so far: 196.00 MB\n",
      "Total megabytes read so far: 200.00 MB\n",
      "Total megabytes read so far: 204.00 MB\n",
      "Total megabytes read so far: 208.00 MB\n",
      "Total megabytes read so far: 212.00 MB\n",
      "Total megabytes read so far: 216.00 MB\n",
      "Total megabytes read so far: 220.00 MB\n",
      "Total megabytes read so far: 224.00 MB\n",
      "Total megabytes read so far: 228.00 MB\n",
      "Total megabytes read so far: 232.00 MB\n",
      "Total megabytes read so far: 236.00 MB\n",
      "Total megabytes read so far: 240.00 MB\n",
      "Total megabytes read so far: 244.00 MB\n",
      "Total megabytes read so far: 248.00 MB\n",
      "Total megabytes read so far: 252.00 MB\n",
      "Total megabytes read so far: 256.00 MB\n",
      "Total megabytes read so far: 260.00 MB\n",
      "Total megabytes read so far: 264.00 MB\n",
      "Total megabytes read so far: 268.00 MB\n",
      "Total megabytes read so far: 272.00 MB\n",
      "Total megabytes read so far: 276.00 MB\n",
      "Total megabytes read so far: 280.00 MB\n",
      "Total megabytes read so far: 284.00 MB\n",
      "Total megabytes read so far: 288.00 MB\n",
      "Total megabytes read so far: 292.00 MB\n",
      "Total megabytes read so far: 296.00 MB\n",
      "Total megabytes read so far: 300.00 MB\n",
      "Total megabytes read so far: 304.00 MB\n",
      "Total megabytes read so far: 308.00 MB\n",
      "Total megabytes read so far: 312.00 MB\n",
      "Total megabytes read so far: 316.00 MB\n",
      "Total megabytes read so far: 320.00 MB\n",
      "Total megabytes read so far: 324.00 MB\n",
      "Total megabytes read so far: 328.00 MB\n",
      "Total megabytes read so far: 332.00 MB\n",
      "Total megabytes read so far: 336.00 MB\n",
      "Total megabytes read so far: 340.00 MB\n",
      "Total megabytes read so far: 344.00 MB\n",
      "Total megabytes read so far: 348.00 MB\n",
      "Total megabytes read so far: 352.00 MB\n",
      "Total megabytes read so far: 356.00 MB\n",
      "Total megabytes read so far: 360.00 MB\n",
      "Total megabytes read so far: 364.00 MB\n",
      "Total megabytes read so far: 368.00 MB\n",
      "Total megabytes read so far: 372.00 MB\n",
      "Total megabytes read so far: 376.00 MB\n",
      "Total megabytes read so far: 380.00 MB\n",
      "Total megabytes read so far: 384.00 MB\n",
      "Total megabytes read so far: 388.00 MB\n",
      "Total megabytes read so far: 392.00 MB\n",
      "Total megabytes read so far: 396.00 MB\n",
      "Total megabytes read so far: 400.00 MB\n",
      "Total megabytes read so far: 404.00 MB\n",
      "Total megabytes read so far: 408.00 MB\n",
      "Total megabytes read so far: 412.00 MB\n",
      "Total megabytes read so far: 416.00 MB\n",
      "Total megabytes read so far: 420.00 MB\n",
      "Total megabytes read so far: 424.00 MB\n",
      "Total megabytes read so far: 428.00 MB\n",
      "Total megabytes read so far: 432.00 MB\n",
      "Total megabytes read so far: 436.00 MB\n",
      "Total megabytes read so far: 440.00 MB\n",
      "Total megabytes read so far: 444.00 MB\n",
      "Total megabytes read so far: 448.00 MB\n",
      "Total megabytes read so far: 452.00 MB\n",
      "Total megabytes read so far: 456.00 MB\n",
      "Total megabytes read so far: 460.00 MB\n",
      "Total megabytes read so far: 464.00 MB\n",
      "Total megabytes read so far: 468.00 MB\n",
      "Total megabytes read so far: 472.00 MB\n",
      "Total megabytes read so far: 476.00 MB\n",
      "Total megabytes read so far: 480.00 MB\n",
      "Total megabytes read so far: 484.00 MB\n",
      "Total megabytes read so far: 488.00 MB\n",
      "Total megabytes read so far: 492.00 MB\n",
      "Total megabytes read so far: 496.00 MB\n",
      "Total megabytes read so far: 500.00 MB\n",
      "Total megabytes read so far: 504.00 MB\n",
      "Total megabytes read so far: 508.00 MB\n",
      "Total megabytes read so far: 512.00 MB\n",
      "Total megabytes read so far: 516.00 MB\n",
      "Total megabytes read so far: 520.00 MB\n",
      "Total megabytes read so far: 524.00 MB\n",
      "Total megabytes read so far: 528.00 MB\n",
      "Total megabytes read so far: 532.00 MB\n",
      "Total megabytes read so far: 536.00 MB\n",
      "Total megabytes read so far: 540.00 MB\n",
      "Total megabytes read so far: 544.00 MB\n",
      "Total megabytes read so far: 548.00 MB\n",
      "Total megabytes read so far: 552.00 MB\n",
      "Total megabytes read so far: 556.00 MB\n",
      "Total megabytes read so far: 560.00 MB\n",
      "Total megabytes read so far: 564.00 MB\n",
      "Total megabytes read so far: 568.00 MB\n",
      "Total megabytes read so far: 572.00 MB\n",
      "Total megabytes read so far: 576.00 MB\n",
      "Total megabytes read so far: 580.00 MB\n",
      "Total megabytes read so far: 584.00 MB\n",
      "Total megabytes read so far: 588.00 MB\n",
      "Total megabytes read so far: 592.00 MB\n",
      "Total megabytes read so far: 596.00 MB\n",
      "Total megabytes read so far: 600.00 MB\n",
      "Total megabytes read so far: 604.00 MB\n",
      "Total megabytes read so far: 608.00 MB\n",
      "Total megabytes read so far: 612.00 MB\n",
      "Total megabytes read so far: 616.00 MB\n",
      "Total megabytes read so far: 620.00 MB\n",
      "Total megabytes read so far: 624.00 MB\n",
      "Total megabytes read so far: 628.00 MB\n",
      "Total megabytes read so far: 632.00 MB\n",
      "Total megabytes read so far: 636.00 MB\n",
      "Total megabytes read so far: 640.00 MB\n",
      "Total megabytes read so far: 644.00 MB\n",
      "Total megabytes read so far: 648.00 MB\n",
      "Total megabytes read so far: 652.00 MB\n",
      "Total megabytes read so far: 656.00 MB\n",
      "Total megabytes read so far: 660.00 MB\n",
      "Total megabytes read so far: 664.00 MB\n",
      "Total megabytes read so far: 668.00 MB\n",
      "Total megabytes read so far: 672.00 MB\n",
      "Total megabytes read so far: 676.00 MB\n",
      "Total megabytes read so far: 680.00 MB\n",
      "Total megabytes read so far: 684.00 MB\n",
      "Total megabytes read so far: 688.00 MB\n",
      "Total megabytes read so far: 692.00 MB\n",
      "Total megabytes read so far: 696.00 MB\n",
      "Total megabytes read so far: 700.00 MB\n",
      "Total megabytes read so far: 704.00 MB\n",
      "Total megabytes read so far: 708.00 MB\n",
      "Total megabytes read so far: 712.00 MB\n",
      "Total megabytes read so far: 716.00 MB\n",
      "Total megabytes read so far: 720.00 MB\n",
      "Total megabytes read so far: 724.00 MB\n",
      "Total megabytes read so far: 728.00 MB\n",
      "Total megabytes read so far: 732.00 MB\n",
      "Total megabytes read so far: 736.00 MB\n",
      "Total megabytes read so far: 740.00 MB\n",
      "Total megabytes read so far: 744.00 MB\n",
      "Total megabytes read so far: 748.00 MB\n",
      "Total megabytes read so far: 752.00 MB\n",
      "Total megabytes read so far: 756.00 MB\n",
      "Total megabytes read so far: 760.00 MB\n",
      "Total megabytes read so far: 764.00 MB\n",
      "Total megabytes read so far: 768.00 MB\n",
      "Total megabytes read so far: 772.00 MB\n",
      "Total megabytes read so far: 776.00 MB\n",
      "Total megabytes read so far: 780.00 MB\n",
      "Total megabytes read so far: 784.00 MB\n",
      "Total megabytes read so far: 788.00 MB\n",
      "Total megabytes read so far: 792.00 MB\n",
      "Total megabytes read so far: 796.00 MB\n",
      "Total megabytes read so far: 800.00 MB\n",
      "Total megabytes read so far: 804.00 MB\n",
      "Total megabytes read so far: 808.00 MB\n",
      "Total megabytes read so far: 812.00 MB\n",
      "Total megabytes read so far: 816.00 MB\n",
      "Total megabytes read so far: 820.00 MB\n",
      "Total megabytes read so far: 824.00 MB\n",
      "Total megabytes read so far: 828.00 MB\n",
      "Total megabytes read so far: 832.00 MB\n",
      "Total megabytes read so far: 836.00 MB\n",
      "Total megabytes read so far: 840.00 MB\n",
      "Total megabytes read so far: 844.00 MB\n",
      "Total megabytes read so far: 848.00 MB\n",
      "Total megabytes read so far: 852.00 MB\n",
      "Total megabytes read so far: 856.00 MB\n",
      "Total megabytes read so far: 860.00 MB\n",
      "Total megabytes read so far: 864.00 MB\n",
      "Total megabytes read so far: 868.00 MB\n",
      "Total megabytes read so far: 872.00 MB\n",
      "Total megabytes read so far: 876.00 MB\n",
      "Total megabytes read so far: 880.00 MB\n",
      "Total megabytes read so far: 884.00 MB\n",
      "Total megabytes read so far: 888.00 MB\n",
      "Total megabytes read so far: 892.00 MB\n",
      "Total megabytes read so far: 896.00 MB\n",
      "Total megabytes read so far: 900.00 MB\n",
      "Total megabytes read so far: 904.00 MB\n",
      "Total megabytes read so far: 908.00 MB\n",
      "Total megabytes read so far: 912.00 MB\n",
      "Total megabytes read so far: 916.00 MB\n",
      "Total megabytes read so far: 920.00 MB\n",
      "Total megabytes read so far: 924.00 MB\n",
      "Total megabytes read so far: 928.00 MB\n",
      "Total megabytes read so far: 932.00 MB\n",
      "Total megabytes read so far: 936.00 MB\n",
      "Total megabytes read so far: 940.00 MB\n",
      "Total megabytes read so far: 944.00 MB\n",
      "Total megabytes read so far: 948.00 MB\n",
      "Total megabytes read so far: 952.00 MB\n",
      "Total megabytes read so far: 956.00 MB\n",
      "Total megabytes read so far: 960.00 MB\n",
      "Total megabytes read so far: 964.00 MB\n",
      "Total megabytes read so far: 968.00 MB\n",
      "Total megabytes read so far: 972.00 MB\n",
      "Total megabytes read so far: 976.00 MB\n",
      "Total megabytes read so far: 980.00 MB\n",
      "Total megabytes read so far: 984.00 MB\n",
      "Total megabytes read so far: 988.00 MB\n",
      "Total megabytes read so far: 992.00 MB\n",
      "Total megabytes read so far: 996.00 MB\n",
      "Total megabytes read so far: 1000.00 MB\n",
      "Total megabytes read so far: 1004.00 MB\n",
      "Total megabytes read so far: 1008.00 MB\n",
      "Total megabytes read so far: 1012.00 MB\n",
      "Total megabytes read so far: 1016.00 MB\n",
      "Total megabytes read so far: 1020.00 MB\n",
      "Total megabytes read so far: 1024.00 MB\n",
      "Total megabytes read so far: 1028.00 MB\n",
      "Total megabytes read so far: 1032.00 MB\n",
      "Total megabytes read so far: 1036.00 MB\n",
      "Total megabytes read so far: 1040.00 MB\n",
      "Total megabytes read so far: 1044.00 MB\n",
      "Total megabytes read so far: 1048.00 MB\n",
      "Total megabytes read so far: 1052.00 MB\n",
      "Total megabytes read so far: 1056.00 MB\n",
      "Total megabytes read so far: 1060.00 MB\n",
      "Total megabytes read so far: 1064.00 MB\n",
      "Total megabytes read so far: 1068.00 MB\n",
      "Total megabytes read so far: 1072.00 MB\n",
      "Total megabytes read so far: 1076.00 MB\n",
      "Total megabytes read so far: 1080.00 MB\n",
      "Total megabytes read so far: 1084.00 MB\n",
      "Total megabytes read so far: 1088.00 MB\n",
      "Total megabytes read so far: 1092.00 MB\n",
      "Total megabytes read so far: 1096.00 MB\n",
      "Total megabytes read so far: 1100.00 MB\n",
      "Total megabytes read so far: 1104.00 MB\n",
      "Total megabytes read so far: 1108.00 MB\n",
      "Total megabytes read so far: 1112.00 MB\n",
      "Total megabytes read so far: 1116.00 MB\n",
      "Total megabytes read so far: 1120.00 MB\n",
      "Total megabytes read so far: 1124.00 MB\n",
      "Total megabytes read so far: 1128.00 MB\n",
      "Total megabytes read so far: 1132.00 MB\n",
      "Total megabytes read so far: 1136.00 MB\n",
      "Total megabytes read so far: 1140.00 MB\n",
      "Total megabytes read so far: 1144.00 MB\n",
      "Total megabytes read so far: 1148.00 MB\n",
      "Total megabytes read so far: 1152.00 MB\n",
      "Total megabytes read so far: 1156.00 MB\n",
      "Total megabytes read so far: 1160.00 MB\n",
      "Total megabytes read so far: 1164.00 MB\n",
      "Total megabytes read so far: 1168.00 MB\n",
      "Total megabytes read so far: 1172.00 MB\n",
      "Total megabytes read so far: 1176.00 MB\n",
      "Total megabytes read so far: 1180.00 MB\n",
      "Total megabytes read so far: 1184.00 MB\n",
      "Total megabytes read so far: 1188.00 MB\n",
      "Total megabytes read so far: 1192.00 MB\n",
      "Total megabytes read so far: 1196.00 MB\n",
      "Total megabytes read so far: 1200.00 MB\n",
      "Total megabytes read so far: 1204.00 MB\n",
      "Total megabytes read so far: 1208.00 MB\n",
      "Total megabytes read so far: 1212.00 MB\n",
      "Total megabytes read so far: 1216.00 MB\n",
      "Total megabytes read so far: 1220.00 MB\n",
      "Total megabytes read so far: 1224.00 MB\n",
      "Total megabytes read so far: 1228.00 MB\n",
      "Total megabytes read so far: 1232.00 MB\n",
      "Total megabytes read so far: 1236.00 MB\n",
      "Total megabytes read so far: 1240.00 MB\n",
      "Total megabytes read so far: 1244.00 MB\n",
      "Total megabytes read so far: 1248.00 MB\n",
      "Total megabytes read so far: 1252.00 MB\n",
      "Total megabytes read so far: 1256.00 MB\n",
      "Total megabytes read so far: 1260.00 MB\n",
      "Total megabytes read so far: 1264.00 MB\n",
      "Total megabytes read so far: 1268.00 MB\n",
      "Total megabytes read so far: 1272.00 MB\n",
      "Total megabytes read so far: 1276.00 MB\n",
      "Total megabytes read so far: 1280.00 MB\n",
      "Total megabytes read so far: 1284.00 MB\n",
      "Total megabytes read so far: 1288.00 MB\n",
      "Total megabytes read so far: 1292.00 MB\n",
      "Total megabytes read so far: 1296.00 MB\n",
      "Total megabytes read so far: 1300.00 MB\n",
      "Total megabytes read so far: 1304.00 MB\n",
      "Total megabytes read so far: 1308.00 MB\n",
      "Total megabytes read so far: 1312.00 MB\n",
      "Total megabytes read so far: 1316.00 MB\n",
      "Total megabytes read so far: 1320.00 MB\n",
      "Total megabytes read so far: 1324.00 MB\n",
      "Total megabytes read so far: 1328.00 MB\n",
      "Total megabytes read so far: 1332.00 MB\n",
      "Total megabytes read so far: 1336.00 MB\n",
      "Total megabytes read so far: 1340.00 MB\n",
      "Total megabytes read so far: 1344.00 MB\n",
      "Total megabytes read so far: 1348.00 MB\n",
      "Total megabytes read so far: 1352.00 MB\n",
      "Total megabytes read so far: 1356.00 MB\n",
      "Total megabytes read so far: 1360.00 MB\n",
      "Total megabytes read so far: 1364.00 MB\n",
      "Total megabytes read so far: 1368.00 MB\n",
      "Total megabytes read so far: 1372.00 MB\n",
      "Total megabytes read so far: 1376.00 MB\n",
      "Total megabytes read so far: 1380.00 MB\n",
      "Total megabytes read so far: 1384.00 MB\n",
      "Total megabytes read so far: 1388.00 MB\n",
      "Total megabytes read so far: 1392.00 MB\n",
      "Total megabytes read so far: 1396.00 MB\n",
      "Total megabytes read so far: 1400.00 MB\n",
      "Total megabytes read so far: 1404.00 MB\n",
      "Total megabytes read so far: 1408.00 MB\n",
      "Total megabytes read so far: 1412.00 MB\n",
      "Total megabytes read so far: 1416.00 MB\n",
      "Total megabytes read so far: 1420.00 MB\n",
      "Total megabytes read so far: 1424.00 MB\n",
      "Total megabytes read so far: 1428.00 MB\n",
      "Total megabytes read so far: 1432.00 MB\n",
      "Total megabytes read so far: 1436.00 MB\n",
      "Total megabytes read so far: 1440.00 MB\n",
      "Total megabytes read so far: 1444.00 MB\n",
      "Total megabytes read so far: 1448.00 MB\n",
      "Total megabytes read so far: 1452.00 MB\n",
      "Total megabytes read so far: 1456.00 MB\n",
      "Total megabytes read so far: 1460.00 MB\n",
      "Total megabytes read so far: 1464.00 MB\n",
      "Total megabytes read so far: 1468.00 MB\n",
      "Total megabytes read so far: 1472.00 MB\n",
      "Total megabytes read so far: 1476.00 MB\n",
      "Total megabytes read so far: 1480.00 MB\n",
      "Total megabytes read so far: 1484.00 MB\n",
      "Total megabytes read so far: 1488.00 MB\n",
      "Total megabytes read so far: 1492.00 MB\n",
      "Total megabytes read so far: 1496.00 MB\n",
      "Total megabytes read so far: 1500.00 MB\n",
      "Total megabytes read so far: 1504.00 MB\n",
      "Total megabytes read so far: 1508.00 MB\n",
      "Total megabytes read so far: 1512.00 MB\n",
      "Total megabytes read so far: 1516.00 MB\n",
      "Total megabytes read so far: 1520.00 MB\n",
      "Total megabytes read so far: 1524.00 MB\n",
      "Total megabytes read so far: 1528.00 MB\n",
      "Total megabytes read so far: 1532.00 MB\n",
      "Total megabytes read so far: 1536.00 MB\n",
      "Total megabytes read so far: 1540.00 MB\n",
      "Total megabytes read so far: 1544.00 MB\n",
      "Total megabytes read so far: 1548.00 MB\n",
      "Total megabytes read so far: 1552.00 MB\n",
      "Total megabytes read so far: 1556.00 MB\n",
      "Total megabytes read so far: 1560.00 MB\n",
      "Total megabytes read so far: 1564.00 MB\n",
      "Total megabytes read so far: 1568.00 MB\n",
      "Total megabytes read so far: 1572.00 MB\n",
      "Total megabytes read so far: 1576.00 MB\n",
      "Total megabytes read so far: 1580.00 MB\n",
      "Total megabytes read so far: 1584.00 MB\n",
      "Total megabytes read so far: 1588.00 MB\n",
      "Total megabytes read so far: 1592.00 MB\n",
      "Total megabytes read so far: 1596.00 MB\n",
      "Total megabytes read so far: 1600.00 MB\n",
      "Total megabytes read so far: 1604.00 MB\n",
      "Total megabytes read so far: 1608.00 MB\n",
      "Total megabytes read so far: 1612.00 MB\n",
      "Total megabytes read so far: 1616.00 MB\n",
      "Total megabytes read so far: 1620.00 MB\n",
      "Total megabytes read so far: 1624.00 MB\n",
      "Total megabytes read so far: 1628.00 MB\n",
      "Total megabytes read so far: 1632.00 MB\n",
      "Total megabytes read so far: 1636.00 MB\n",
      "Total megabytes read so far: 1640.00 MB\n",
      "Total megabytes read so far: 1644.00 MB\n",
      "Total megabytes read so far: 1648.00 MB\n",
      "Total megabytes read so far: 1652.00 MB\n",
      "Total megabytes read so far: 1656.00 MB\n",
      "Total megabytes read so far: 1660.00 MB\n",
      "Total megabytes read so far: 1664.00 MB\n",
      "Total megabytes read so far: 1668.00 MB\n",
      "Total megabytes read so far: 1672.00 MB\n",
      "Total megabytes read so far: 1676.00 MB\n",
      "Total megabytes read so far: 1680.00 MB\n",
      "Total megabytes read so far: 1684.00 MB\n",
      "Total megabytes read so far: 1688.00 MB\n",
      "Total megabytes read so far: 1692.00 MB\n",
      "Total megabytes read so far: 1696.00 MB\n",
      "Total megabytes read so far: 1700.00 MB\n",
      "Total megabytes read so far: 1704.00 MB\n",
      "Total megabytes read so far: 1708.00 MB\n",
      "Total megabytes read so far: 1712.00 MB\n",
      "Total megabytes read so far: 1716.00 MB\n",
      "Total megabytes read so far: 1720.00 MB\n",
      "Total megabytes read so far: 1724.00 MB\n",
      "Total megabytes read so far: 1728.00 MB\n",
      "Total megabytes read so far: 1732.00 MB\n",
      "Total megabytes read so far: 1736.00 MB\n",
      "Total megabytes read so far: 1740.00 MB\n",
      "Total megabytes read so far: 1744.00 MB\n",
      "Total megabytes read so far: 1748.00 MB\n",
      "Total megabytes read so far: 1752.00 MB\n",
      "Total megabytes read so far: 1756.00 MB\n",
      "Total megabytes read so far: 1760.00 MB\n",
      "Total megabytes read so far: 1764.00 MB\n",
      "Total megabytes read so far: 1768.00 MB\n",
      "Total megabytes read so far: 1772.00 MB\n",
      "Total megabytes read so far: 1776.00 MB\n",
      "Total megabytes read so far: 1780.00 MB\n",
      "Total megabytes read so far: 1784.00 MB\n",
      "Total megabytes read so far: 1788.00 MB\n",
      "Total megabytes read so far: 1792.00 MB\n",
      "Total megabytes read so far: 1796.00 MB\n",
      "Total megabytes read so far: 1800.00 MB\n",
      "Total megabytes read so far: 1804.00 MB\n",
      "Total megabytes read so far: 1808.00 MB\n",
      "Total megabytes read so far: 1812.00 MB\n",
      "Total megabytes read so far: 1816.00 MB\n",
      "Total megabytes read so far: 1820.00 MB\n",
      "Total megabytes read so far: 1824.00 MB\n",
      "Total megabytes read so far: 1828.00 MB\n",
      "Total megabytes read so far: 1832.00 MB\n",
      "Total megabytes read so far: 1836.00 MB\n",
      "Total megabytes read so far: 1840.00 MB\n",
      "Total megabytes read so far: 1844.00 MB\n",
      "Total megabytes read so far: 1848.00 MB\n",
      "Total megabytes read so far: 1852.00 MB\n",
      "Total megabytes read so far: 1856.00 MB\n",
      "Total megabytes read so far: 1860.00 MB\n",
      "Total megabytes read so far: 1864.00 MB\n",
      "Total megabytes read so far: 1868.00 MB\n",
      "Total megabytes read so far: 1872.00 MB\n",
      "Total megabytes read so far: 1876.00 MB\n",
      "Total megabytes read so far: 1880.00 MB\n",
      "Total megabytes read so far: 1884.00 MB\n",
      "Total megabytes read so far: 1888.00 MB\n",
      "Total megabytes read so far: 1892.00 MB\n",
      "Total megabytes read so far: 1896.00 MB\n",
      "Total megabytes read so far: 1900.00 MB\n",
      "Total megabytes read so far: 1904.00 MB\n",
      "Total megabytes read so far: 1908.00 MB\n",
      "Total megabytes read so far: 1912.00 MB\n",
      "Total megabytes read so far: 1916.00 MB\n",
      "Total megabytes read so far: 1920.00 MB\n",
      "Total megabytes read so far: 1924.00 MB\n",
      "Total megabytes read so far: 1928.00 MB\n",
      "Total megabytes read so far: 1932.00 MB\n",
      "Total megabytes read so far: 1936.00 MB\n",
      "Total megabytes read so far: 1940.00 MB\n",
      "Total megabytes read so far: 1944.00 MB\n",
      "Total megabytes read so far: 1948.00 MB\n",
      "Total megabytes read so far: 1952.00 MB\n",
      "Total megabytes read so far: 1956.00 MB\n",
      "Total megabytes read so far: 1960.00 MB\n",
      "Total megabytes read so far: 1964.00 MB\n",
      "Total megabytes read so far: 1968.00 MB\n",
      "Total megabytes read so far: 1972.00 MB\n",
      "Total megabytes read so far: 1976.00 MB\n",
      "Total megabytes read so far: 1980.00 MB\n",
      "Total megabytes read so far: 1984.00 MB\n",
      "Total megabytes read so far: 1988.00 MB\n",
      "Total megabytes read so far: 1992.00 MB\n",
      "Total megabytes read so far: 1996.00 MB\n",
      "Total megabytes read so far: 2000.00 MB\n",
      "Total megabytes read so far: 2004.00 MB\n",
      "Total megabytes read so far: 2008.00 MB\n",
      "Total megabytes read so far: 2012.00 MB\n",
      "Total megabytes read so far: 2016.00 MB\n",
      "Total megabytes read so far: 2020.00 MB\n",
      "Total megabytes read so far: 2024.00 MB\n",
      "Total megabytes read so far: 2028.00 MB\n",
      "Total megabytes read so far: 2032.00 MB\n",
      "Total megabytes read so far: 2036.00 MB\n",
      "Total megabytes read so far: 2040.00 MB\n",
      "Total megabytes read so far: 2044.00 MB\n",
      "Total megabytes read so far: 2048.00 MB\n",
      "Total megabytes read so far: 2052.00 MB\n",
      "Total megabytes read so far: 2056.00 MB\n",
      "Total megabytes read so far: 2060.00 MB\n",
      "Total megabytes read so far: 2064.00 MB\n",
      "Total megabytes read so far: 2068.00 MB\n",
      "Total megabytes read so far: 2072.00 MB\n",
      "Total megabytes read so far: 2076.00 MB\n",
      "Total megabytes read so far: 2080.00 MB\n",
      "Total megabytes read so far: 2084.00 MB\n",
      "Total megabytes read so far: 2088.00 MB\n",
      "Total megabytes read so far: 2092.00 MB\n",
      "Total megabytes read so far: 2096.00 MB\n",
      "Total megabytes read so far: 2100.00 MB\n",
      "Total megabytes read so far: 2104.00 MB\n",
      "Total megabytes read so far: 2108.00 MB\n",
      "Total megabytes read so far: 2112.00 MB\n",
      "Total megabytes read so far: 2116.00 MB\n",
      "Total megabytes read so far: 2120.00 MB\n",
      "Total megabytes read so far: 2124.00 MB\n",
      "Total megabytes read so far: 2128.00 MB\n",
      "Total megabytes read so far: 2132.00 MB\n",
      "Total megabytes read so far: 2136.00 MB\n",
      "Total megabytes read so far: 2140.00 MB\n",
      "Total megabytes read so far: 2144.00 MB\n",
      "Total megabytes read so far: 2148.00 MB\n",
      "Total megabytes read so far: 2152.00 MB\n",
      "Total megabytes read so far: 2156.00 MB\n",
      "Total megabytes read so far: 2160.00 MB\n",
      "Total megabytes read so far: 2164.00 MB\n",
      "Total megabytes read so far: 2168.00 MB\n",
      "Total megabytes read so far: 2172.00 MB\n",
      "Total megabytes read so far: 2176.00 MB\n",
      "Total megabytes read so far: 2180.00 MB\n",
      "Total megabytes read so far: 2184.00 MB\n",
      "Total megabytes read so far: 2188.00 MB\n",
      "Total megabytes read so far: 2192.00 MB\n",
      "Total megabytes read so far: 2196.00 MB\n",
      "Total megabytes read so far: 2200.00 MB\n",
      "Total megabytes read so far: 2204.00 MB\n",
      "Total megabytes read so far: 2208.00 MB\n",
      "Total megabytes read so far: 2212.00 MB\n",
      "Total megabytes read so far: 2216.00 MB\n",
      "Total megabytes read so far: 2220.00 MB\n",
      "Total megabytes read so far: 2224.00 MB\n",
      "Total megabytes read so far: 2228.00 MB\n",
      "Total megabytes read so far: 2232.00 MB\n",
      "Total megabytes read so far: 2236.00 MB\n",
      "Total megabytes read so far: 2240.00 MB\n",
      "Total megabytes read so far: 2244.00 MB\n",
      "Total megabytes read so far: 2248.00 MB\n",
      "Total megabytes read so far: 2252.00 MB\n",
      "Total megabytes read so far: 2256.00 MB\n",
      "Total megabytes read so far: 2260.00 MB\n",
      "Total megabytes read so far: 2264.00 MB\n",
      "Total megabytes read so far: 2268.00 MB\n",
      "Total megabytes read so far: 2272.00 MB\n",
      "Total megabytes read so far: 2276.00 MB\n",
      "Total megabytes read so far: 2280.00 MB\n",
      "Total megabytes read so far: 2284.00 MB\n",
      "Total megabytes read so far: 2288.00 MB\n",
      "Total megabytes read so far: 2292.00 MB\n",
      "Total megabytes read so far: 2296.00 MB\n",
      "Total megabytes read so far: 2300.00 MB\n",
      "Total megabytes read so far: 2304.00 MB\n",
      "Total megabytes read so far: 2308.00 MB\n",
      "Total megabytes read so far: 2312.00 MB\n",
      "Total megabytes read so far: 2316.00 MB\n",
      "Total megabytes read so far: 2320.00 MB\n",
      "Total megabytes read so far: 2324.00 MB\n",
      "Total megabytes read so far: 2328.00 MB\n",
      "Total megabytes read so far: 2332.00 MB\n",
      "Total megabytes read so far: 2336.00 MB\n",
      "Total megabytes read so far: 2340.00 MB\n",
      "Total megabytes read so far: 2344.00 MB\n",
      "Total megabytes read so far: 2348.00 MB\n",
      "Total megabytes read so far: 2352.00 MB\n",
      "Total megabytes read so far: 2356.00 MB\n",
      "Total megabytes read so far: 2360.00 MB\n",
      "Total megabytes read so far: 2364.00 MB\n",
      "Total megabytes read so far: 2368.00 MB\n",
      "Total megabytes read so far: 2372.00 MB\n",
      "Total megabytes read so far: 2376.00 MB\n",
      "Total megabytes read so far: 2380.00 MB\n",
      "Total megabytes read so far: 2384.00 MB\n",
      "Total megabytes read so far: 2388.00 MB\n",
      "Total megabytes read so far: 2392.00 MB\n",
      "Total megabytes read so far: 2396.00 MB\n",
      "Total megabytes read so far: 2400.00 MB\n",
      "Total megabytes read so far: 2404.00 MB\n",
      "Total megabytes read so far: 2408.00 MB\n",
      "Total megabytes read so far: 2412.00 MB\n",
      "Total megabytes read so far: 2416.00 MB\n",
      "Total megabytes read so far: 2420.00 MB\n",
      "Total megabytes read so far: 2424.00 MB\n",
      "Total megabytes read so far: 2428.00 MB\n",
      "Total megabytes read so far: 2432.00 MB\n",
      "Total megabytes read so far: 2436.00 MB\n",
      "Total megabytes read so far: 2440.00 MB\n",
      "Total megabytes read so far: 2444.00 MB\n",
      "Total megabytes read so far: 2448.00 MB\n",
      "Total megabytes read so far: 2452.00 MB\n",
      "Total megabytes read so far: 2456.00 MB\n",
      "Total megabytes read so far: 2460.00 MB\n",
      "Total megabytes read so far: 2464.00 MB\n",
      "Total megabytes read so far: 2468.00 MB\n",
      "Total megabytes read so far: 2472.00 MB\n",
      "Total megabytes read so far: 2476.00 MB\n",
      "Total megabytes read so far: 2480.00 MB\n",
      "Total megabytes read so far: 2484.00 MB\n",
      "Total megabytes read so far: 2488.00 MB\n",
      "Total megabytes read so far: 2492.00 MB\n",
      "Total megabytes read so far: 2496.00 MB\n",
      "Total megabytes read so far: 2500.00 MB\n",
      "Total megabytes read so far: 2504.00 MB\n",
      "Total megabytes read so far: 2508.00 MB\n",
      "Total megabytes read so far: 2512.00 MB\n",
      "Total megabytes read so far: 2516.00 MB\n",
      "Total megabytes read so far: 2520.00 MB\n",
      "Total megabytes read so far: 2524.00 MB\n",
      "Total megabytes read so far: 2528.00 MB\n",
      "Total megabytes read so far: 2532.00 MB\n",
      "Total megabytes read so far: 2536.00 MB\n",
      "Total megabytes read so far: 2536.18 MB\n",
      "Total megabytes read so far: 2536.18 MB\n"
     ]
    }
   ],
   "source": [
    "xml_data_string = \"\"  # Initialize an empty string to store XML data.\n",
    "\n",
    "with open('hrWaC2.1.01.xml', 'r') as file:  # Open the XML file in read mode.\n",
    "    total_mbs_read = 0  # Initialize a variable to track total megabytes read.\n",
    "    while True:  # Start an infinite loop to read the file in chunks.\n",
    "        chunk = file.read(4194304)  # Read a chunk of data (4 MB in size).\n",
    "        bytes_read = len(chunk)  # Get the number of bytes read in the chunk.\n",
    "        total_mbs_read += bytes_read / (1048576)  # Convert bytes read to megabytes and update the total.\n",
    "        print(\"Total megabytes read so far: {:.2f} MB\".format(total_mbs_read))  # Print the total megabytes read.\n",
    "\n",
    "        if not chunk:  # If no more data is read (end of file), break the loop.\n",
    "            break\n",
    "        xml_data_string += chunk  # Append the chunk to the XML data string."
   ]
  },
  {
   "cell_type": "markdown",
   "metadata": {
    "id": "nx2nQct9kqSy"
   },
   "source": [
    "Print the first 1000 characters of that string to see the data structure:"
   ]
  },
  {
   "cell_type": "code",
   "execution_count": null,
   "metadata": {
    "colab": {
     "base_uri": "https://localhost:8080/"
    },
    "executionInfo": {
     "elapsed": 43,
     "status": "ok",
     "timestamp": 1711148925965,
     "user": {
      "displayName": "Marko Kumir",
      "userId": "15629419082931327730"
     },
     "user_tz": -60
    },
    "id": "KwMov-fZiCTR",
    "outputId": "b0c4b21d-6c48-4ca4-baed-1d4c970eb904"
   },
   "outputs": [
    {
     "name": "stdout",
     "output_type": "stream",
     "text": [
      "<corpus id=\"hrWaC2.1.01\" lang=\"hr\" n=\"1\">\n",
      "<p urldomain=\"autoportal.hr\" url=\"http://www.autoportal.hr/index.php/testc/6560\" lang=\"hr\" langdistr=\"hr:-0.487|sr:-0.513\">\n",
      "<s>\n",
      "Adam\tAdam\tAdam\tNpmsn\n",
      "se\tse\tsebe\tPx--sa\n",
      "otpočetka\totpočetka\totpočetka\tRgp\n",
      "nudi\tnudi\tnuditi\tVmr3s\n",
      "s\ts\tsa\tSi\n",
      "tri\ttri\ttri\tMlc\n",
      "benzinska\tbenzinska\tbenzinski\tAgpmsgn\n",
      "motora\tmotora\tmotor\tNcmsg\n",
      "<g/>\n",
      ":\t:\t:\tZ\n",
      "1.2\t1.2\t1.2\tMdc\n",
      "70\t70\t70\tMdc\n",
      "KS\tKS\tks\tY\n",
      "<g/>\n",
      ",\t,\t,\tZ\n",
      "1.4\t1.4\t1.4\tMdc\n",
      "87\t87\t87\tMdc\n",
      "KS\tKS\tks\tY\n",
      "i\ti\ti\tCc\n",
      "1.4\t1.4\t1.4\tMdc\n",
      "100\t100\t100\tMdc\n",
      "KS\tKS\tks\tY\n",
      "<g/>\n",
      ".\t.\t.\tZ\n",
      "</s>\n",
      "<s>\n",
      "Svi\tSvi\tsav\tAgpmpny\n",
      "motori\tmotori\tmotor\tNcmpn\n",
      "dolaze\tdolaze\tdolaziti\tVmr3p\n",
      "u\tu\tu\tSl\n",
      "kombinaciji\tkombinaciji\tkombinacija\tNcfsl\n",
      "s\ts\tsa\tSi\n",
      "ručnim\tručnim\tručni\tAgpmsiy\n",
      "mjenjačem\tmjenjačem\tmjenjač\tNcmsi\n",
      "s\ts\tsa\tSi\n",
      "pet\tpet\tpet\tMlc\n",
      "stupnjeva\tstupnjeva\tstupanj\tNcmpg\n",
      "prijenosa\tprijenosa\tprijenos\tNcmsg\n",
      "<g/>\n",
      ".\t.\t.\tZ\n",
      "</s>\n",
      "<s>\n",
      "Dizelski\tDizelski\tdizelski\tAgpmsny\n",
      "motor\tmotor\tmotor\tNcmsn\n",
      "nije\tnije\tbiti\tVar3s\n",
      "uopće\tuopće\tuopće\tRgp\n",
      "u\tu\tu\tSl\n",
      "planu\tplanu\tplan\tNcmsl\n",
      "<g/>\n",
      ",\t,\t,\tZ\n",
      "je\n"
     ]
    }
   ],
   "source": [
    "print(xml_data_string[0:1000])"
   ]
  },
  {
   "cell_type": "code",
   "execution_count": null,
   "metadata": {
    "colab": {
     "base_uri": "https://localhost:8080/"
    },
    "executionInfo": {
     "elapsed": 34,
     "status": "ok",
     "timestamp": 1711148930107,
     "user": {
      "displayName": "Marko Kumir",
      "userId": "15629419082931327730"
     },
     "user_tz": -60
    },
    "id": "tWCjcdhoiJMT",
    "outputId": "ea621e02-46c9-4dbc-af20-f5fe5481ac24"
   },
   "outputs": [
    {
     "name": "stdout",
     "output_type": "stream",
     "text": [
      "The length of the XML data: 2659381424\n"
     ]
    }
   ],
   "source": [
    "print(\"The length of the XML data:\",len(xml_data_string))"
   ]
  },
  {
   "cell_type": "markdown",
   "metadata": {
    "id": "qQpQaS1i0RcE"
   },
   "source": [
    "The dataset consists of three types of tags: `<p>`, `<s>`, and `<g>`. `<p>` tags represent paragraphs, where each paragraph has corresponding sentences which are tagged with `<s>` element. Each sentence token is formatted in three columns: scrapped form, original form and lemma form. `<g>` tags are present to mark non-word tokens within the sentence, such as punctuation. Main tag is `<corpus>` which represents information about the name of the data set, i.e. its id, language and serial number of the data set from the previously mentioned 14 XML files."
   ]
  },
  {
   "cell_type": "code",
   "execution_count": null,
   "metadata": {
    "colab": {
     "base_uri": "https://localhost:8080/"
    },
    "executionInfo": {
     "elapsed": 4329,
     "status": "ok",
     "timestamp": 1711148935788,
     "user": {
      "displayName": "Marko Kumir",
      "userId": "15629419082931327730"
     },
     "user_tz": -60
    },
    "id": "e2TKXlgmiMdK",
    "outputId": "d6be57f1-9ab7-4d5b-f176-25621f58d654"
   },
   "outputs": [
    {
     "name": "stdout",
     "output_type": "stream",
     "text": [
      "Number of occurrences of '</p>': 1950424\n",
      "Number of occurrences of '</s>': 4721347\n",
      "Number of occurrences of '</g>': 11013082\n"
     ]
    }
   ],
   "source": [
    "p_occurrences = xml_data_string.count('</p>')\n",
    "s_occurrences = xml_data_string.count('</s>')\n",
    "g_occurrences = xml_data_string.count('<g/>')\n",
    "\n",
    "print(\"Number of occurrences of '</p>':\", p_occurrences)\n",
    "print(\"Number of occurrences of '</s>':\", s_occurrences)\n",
    "print(\"Number of occurrences of '</g>':\", g_occurrences)"
   ]
  },
  {
   "cell_type": "code",
   "execution_count": null,
   "metadata": {
    "id": "rsfjOPzyiQ1j"
   },
   "outputs": [],
   "source": [
    "file_path = 'hrWaC2.1.01.xml'"
   ]
  },
  {
   "cell_type": "markdown",
   "metadata": {
    "id": "z5n7qs-emMSQ"
   },
   "source": [
    "We initialize three arrays for sentences, tokens, and lemmas."
   ]
  },
  {
   "cell_type": "code",
   "execution_count": null,
   "metadata": {
    "id": "lY_c9jeziTXh"
   },
   "outputs": [],
   "source": [
    "sentences=[]\n",
    "tokens=[]\n",
    "lemmas=[]"
   ]
  },
  {
   "cell_type": "code",
   "execution_count": null,
   "metadata": {
    "id": "b9B6706DiUSX"
   },
   "outputs": [],
   "source": [
    "def process_elements(element):\n",
    "    words_array = []  # Initialize an empty array to store words.\n",
    "    tokens_array = []  # Initialize an empty array to store tokens.\n",
    "    lemmas_array = []  # Initialize an empty array to store lemmas.\n",
    "\n",
    "    for token in element.text.strip().split('\\n'):  # Loop through each token in the element's text.\n",
    "        token_parts = token.split('\\t')  # Split the token into its parts using tab as separator.\n",
    "        words_array.append(token_parts[0])  # Add the word to the words array.\n",
    "        tokens_array.append(token_parts[1])  # Add the token to the tokens array.\n",
    "        lemmas_array.append(token_parts[2])  # Add the lemma to the lemmas array.\n",
    "\n",
    "    sentences.append(words_array)  # Append the words array to the global array of sentences.\n",
    "    tokens.append(tokens_array)  # Append the tokens array to the global array of tokens.\n",
    "    lemmas.append(lemmas_array)  # Append the lemmas array to the global array of lemmas."
   ]
  },
  {
   "cell_type": "code",
   "execution_count": null,
   "metadata": {
    "id": "B5HsFE2wiWD9"
   },
   "outputs": [],
   "source": [
    "for event, element in ET.iterparse(file_path, events=('start', 'end')):  # Iterate over XML events for start and end elements.\n",
    "    if event == 'end' and element.tag == 's':  # Check if the event is the end of an 's' element.\n",
    "        process_elements(element)  # Call the function to process the 's' element.\n",
    "        element.clear()  # Clear the processed 's' element from memory to release resources."
   ]
  },
  {
   "cell_type": "markdown",
   "metadata": {
    "id": "HIiNC40XsTBt"
   },
   "source": [
    "We processed every token form of each sentence in dataset and saved it to corresponding array."
   ]
  },
  {
   "cell_type": "code",
   "execution_count": null,
   "metadata": {
    "id": "xEKf9c-niXpo"
   },
   "outputs": [],
   "source": [
    "sentences_chunk = sentences[0:20000]\n",
    "tokens_chunk = tokens[0:20000]"
   ]
  },
  {
   "cell_type": "code",
   "execution_count": null,
   "metadata": {
    "id": "PEfd8SI5iY5X"
   },
   "outputs": [],
   "source": [
    "different_sentences = []\n",
    "different_tokens = []"
   ]
  },
  {
   "cell_type": "code",
   "execution_count": null,
   "metadata": {
    "id": "Ws9QQF4yiaAx"
   },
   "outputs": [],
   "source": [
    "for i in range(len(sentences_chunk)):  # Iterate over the indices of sentences_chunk.\n",
    "  # Check if the arrays of sentences and tokens at index i are not the same.\n",
    "  if not np.array_equal(sentences_chunk[i], tokens_chunk[i]):\n",
    "    different_sentences.append(sentences_chunk[i])  # Append the different sentence to the array.\n",
    "    different_tokens.append(tokens_chunk[i])  # Append the corresponding token array to the array."
   ]
  },
  {
   "cell_type": "code",
   "execution_count": null,
   "metadata": {
    "colab": {
     "base_uri": "https://localhost:8080/"
    },
    "executionInfo": {
     "elapsed": 396,
     "status": "ok",
     "timestamp": 1711398899526,
     "user": {
      "displayName": "Marko Kumir",
      "userId": "15629419082931327730"
     },
     "user_tz": -60
    },
    "id": "HPl8mNRcVTdA",
    "outputId": "24af16ed-df8f-47f5-e3d6-052a7f622f79"
   },
   "outputs": [
    {
     "name": "stdout",
     "output_type": "stream",
     "text": [
      "The number of different sentences: 169\n"
     ]
    }
   ],
   "source": [
    "print(\"The number of different sentences:\", len(different_sentences))"
   ]
  },
  {
   "cell_type": "code",
   "execution_count": null,
   "metadata": {
    "colab": {
     "base_uri": "https://localhost:8080/"
    },
    "executionInfo": {
     "elapsed": 837,
     "status": "ok",
     "timestamp": 1711398902543,
     "user": {
      "displayName": "Marko Kumir",
      "userId": "15629419082931327730"
     },
     "user_tz": -60
    },
    "id": "oJO5hKgVieG3",
    "outputId": "2abda515-412c-47d4-c839-169e8cccabed"
   },
   "outputs": [
    {
     "data": {
      "text/plain": [
       "['Pitala', 'sam', 'ju', 'da', 'li', 'mi', 'taj', 'zub', 'moze', 'puci']"
      ]
     },
     "execution_count": 29,
     "metadata": {},
     "output_type": "execute_result"
    }
   ],
   "source": [
    "different_sentences[18]"
   ]
  },
  {
   "cell_type": "code",
   "execution_count": null,
   "metadata": {
    "colab": {
     "base_uri": "https://localhost:8080/"
    },
    "executionInfo": {
     "elapsed": 3,
     "status": "ok",
     "timestamp": 1711398905809,
     "user": {
      "displayName": "Marko Kumir",
      "userId": "15629419082931327730"
     },
     "user_tz": -60
    },
    "id": "iCce3xTuifKj",
    "outputId": "66b19124-f529-461b-c6cb-0f100878afa8"
   },
   "outputs": [
    {
     "data": {
      "text/plain": [
       "['Pitala', 'sam', 'ju', 'da', 'li', 'mi', 'taj', 'zub', 'može', 'pući']"
      ]
     },
     "execution_count": 30,
     "metadata": {},
     "output_type": "execute_result"
    }
   ],
   "source": [
    "different_tokens[18]"
   ]
  },
  {
   "cell_type": "markdown",
   "metadata": {
    "id": "XOxcV6_HVai8"
   },
   "source": [
    "In this example, we can see that the scraped form of the token is different from the original form of the token. The scraped form of the token has no diacritical marks of the Croatian language."
   ]
  },
  {
   "cell_type": "code",
   "execution_count": null,
   "metadata": {
    "id": "UcKIDX0figct"
   },
   "outputs": [],
   "source": [
    "full_sentences = [' '.join(sentence) for sentence in tokens]  # Join each array of tokens into a single string with spaces between tokens."
   ]
  },
  {
   "cell_type": "markdown",
   "metadata": {
    "id": "TathPzJmVvVi"
   },
   "source": [
    "For this reason, we discard the scraped form of the token, i.e. the first column of the data set. We create sentences by combining the original forms of tokens."
   ]
  },
  {
   "cell_type": "code",
   "execution_count": null,
   "metadata": {
    "id": "JQqerOudih57"
   },
   "outputs": [],
   "source": [
    "# Create a DataFrame using pandas, with columns named 'Sentence', 'Tokens', and 'Lemmas'.\n",
    "data = pd.DataFrame({'Sentence': full_sentences, 'Tokens': tokens, 'Lemmas': lemmas})"
   ]
  },
  {
   "cell_type": "code",
   "execution_count": null,
   "metadata": {
    "colab": {
     "base_uri": "https://localhost:8080/",
     "height": 206
    },
    "executionInfo": {
     "elapsed": 409,
     "status": "ok",
     "timestamp": 1711140637187,
     "user": {
      "displayName": "Marko Kumir",
      "userId": "15629419082931327730"
     },
     "user_tz": -60
    },
    "id": "kuIFCQ1VijLv",
    "outputId": "93b50e40-0af9-4bc6-b0fd-6c118efffb83"
   },
   "outputs": [
    {
     "data": {
      "application/vnd.google.colaboratory.intrinsic+json": {
       "type": "dataframe",
       "variable_name": "data"
      },
      "text/html": [
       "\n",
       "  <div id=\"df-0b80a095-bdbc-4751-962e-48c1905c19df\" class=\"colab-df-container\">\n",
       "    <div>\n",
       "<style scoped>\n",
       "    .dataframe tbody tr th:only-of-type {\n",
       "        vertical-align: middle;\n",
       "    }\n",
       "\n",
       "    .dataframe tbody tr th {\n",
       "        vertical-align: top;\n",
       "    }\n",
       "\n",
       "    .dataframe thead th {\n",
       "        text-align: right;\n",
       "    }\n",
       "</style>\n",
       "<table border=\"1\" class=\"dataframe\">\n",
       "  <thead>\n",
       "    <tr style=\"text-align: right;\">\n",
       "      <th></th>\n",
       "      <th>Sentence</th>\n",
       "      <th>Tokens</th>\n",
       "      <th>Lemmas</th>\n",
       "    </tr>\n",
       "  </thead>\n",
       "  <tbody>\n",
       "    <tr>\n",
       "      <th>0</th>\n",
       "      <td>Adam se otpočetka nudi s tri benzinska motora</td>\n",
       "      <td>[Adam, se, otpočetka, nudi, s, tri, benzinska,...</td>\n",
       "      <td>[Adam, sebe, otpočetka, nuditi, sa, tri, benzi...</td>\n",
       "    </tr>\n",
       "    <tr>\n",
       "      <th>1</th>\n",
       "      <td>Svi motori dolaze u kombinaciji s ručnim mjenj...</td>\n",
       "      <td>[Svi, motori, dolaze, u, kombinaciji, s, ručni...</td>\n",
       "      <td>[sav, motor, dolaziti, u, kombinacija, sa, ruč...</td>\n",
       "    </tr>\n",
       "    <tr>\n",
       "      <th>2</th>\n",
       "      <td>Dizelski motor nije uopće u planu</td>\n",
       "      <td>[Dizelski, motor, nije, uopće, u, planu]</td>\n",
       "      <td>[dizelski, motor, biti, uopće, u, plan]</td>\n",
       "    </tr>\n",
       "    <tr>\n",
       "      <th>3</th>\n",
       "      <td>U kombiniranom načinu vožnje Adam 1.2 ecoFLEX ...</td>\n",
       "      <td>[U, kombiniranom, načinu, vožnje, Adam, 1.2, e...</td>\n",
       "      <td>[u, kombiniran, način, vožnja, Adam, 1.2, ecoF...</td>\n",
       "    </tr>\n",
       "    <tr>\n",
       "      <th>4</th>\n",
       "      <td>Oba modela 1.4 ecoFLEX troše samo 5,1 l / 100 ...</td>\n",
       "      <td>[Oba, modela, 1.4, ecoFLEX, troše, samo, 5,1, ...</td>\n",
       "      <td>[oba, model, 1.4, ecoFLEX, trošiti, samo, 5,1,...</td>\n",
       "    </tr>\n",
       "  </tbody>\n",
       "</table>\n",
       "</div>\n",
       "    <div class=\"colab-df-buttons\">\n",
       "\n",
       "  <div class=\"colab-df-container\">\n",
       "    <button class=\"colab-df-convert\" onclick=\"convertToInteractive('df-0b80a095-bdbc-4751-962e-48c1905c19df')\"\n",
       "            title=\"Convert this dataframe to an interactive table.\"\n",
       "            style=\"display:none;\">\n",
       "\n",
       "  <svg xmlns=\"http://www.w3.org/2000/svg\" height=\"24px\" viewBox=\"0 -960 960 960\">\n",
       "    <path d=\"M120-120v-720h720v720H120Zm60-500h600v-160H180v160Zm220 220h160v-160H400v160Zm0 220h160v-160H400v160ZM180-400h160v-160H180v160Zm440 0h160v-160H620v160ZM180-180h160v-160H180v160Zm440 0h160v-160H620v160Z\"/>\n",
       "  </svg>\n",
       "    </button>\n",
       "\n",
       "  <style>\n",
       "    .colab-df-container {\n",
       "      display:flex;\n",
       "      gap: 12px;\n",
       "    }\n",
       "\n",
       "    .colab-df-convert {\n",
       "      background-color: #E8F0FE;\n",
       "      border: none;\n",
       "      border-radius: 50%;\n",
       "      cursor: pointer;\n",
       "      display: none;\n",
       "      fill: #1967D2;\n",
       "      height: 32px;\n",
       "      padding: 0 0 0 0;\n",
       "      width: 32px;\n",
       "    }\n",
       "\n",
       "    .colab-df-convert:hover {\n",
       "      background-color: #E2EBFA;\n",
       "      box-shadow: 0px 1px 2px rgba(60, 64, 67, 0.3), 0px 1px 3px 1px rgba(60, 64, 67, 0.15);\n",
       "      fill: #174EA6;\n",
       "    }\n",
       "\n",
       "    .colab-df-buttons div {\n",
       "      margin-bottom: 4px;\n",
       "    }\n",
       "\n",
       "    [theme=dark] .colab-df-convert {\n",
       "      background-color: #3B4455;\n",
       "      fill: #D2E3FC;\n",
       "    }\n",
       "\n",
       "    [theme=dark] .colab-df-convert:hover {\n",
       "      background-color: #434B5C;\n",
       "      box-shadow: 0px 1px 3px 1px rgba(0, 0, 0, 0.15);\n",
       "      filter: drop-shadow(0px 1px 2px rgba(0, 0, 0, 0.3));\n",
       "      fill: #FFFFFF;\n",
       "    }\n",
       "  </style>\n",
       "\n",
       "    <script>\n",
       "      const buttonEl =\n",
       "        document.querySelector('#df-0b80a095-bdbc-4751-962e-48c1905c19df button.colab-df-convert');\n",
       "      buttonEl.style.display =\n",
       "        google.colab.kernel.accessAllowed ? 'block' : 'none';\n",
       "\n",
       "      async function convertToInteractive(key) {\n",
       "        const element = document.querySelector('#df-0b80a095-bdbc-4751-962e-48c1905c19df');\n",
       "        const dataTable =\n",
       "          await google.colab.kernel.invokeFunction('convertToInteractive',\n",
       "                                                    [key], {});\n",
       "        if (!dataTable) return;\n",
       "\n",
       "        const docLinkHtml = 'Like what you see? Visit the ' +\n",
       "          '<a target=\"_blank\" href=https://colab.research.google.com/notebooks/data_table.ipynb>data table notebook</a>'\n",
       "          + ' to learn more about interactive tables.';\n",
       "        element.innerHTML = '';\n",
       "        dataTable['output_type'] = 'display_data';\n",
       "        await google.colab.output.renderOutput(dataTable, element);\n",
       "        const docLink = document.createElement('div');\n",
       "        docLink.innerHTML = docLinkHtml;\n",
       "        element.appendChild(docLink);\n",
       "      }\n",
       "    </script>\n",
       "  </div>\n",
       "\n",
       "\n",
       "<div id=\"df-085efa5b-84d6-4585-92f4-f34b1912cc78\">\n",
       "  <button class=\"colab-df-quickchart\" onclick=\"quickchart('df-085efa5b-84d6-4585-92f4-f34b1912cc78')\"\n",
       "            title=\"Suggest charts\"\n",
       "            style=\"display:none;\">\n",
       "\n",
       "<svg xmlns=\"http://www.w3.org/2000/svg\" height=\"24px\"viewBox=\"0 0 24 24\"\n",
       "     width=\"24px\">\n",
       "    <g>\n",
       "        <path d=\"M19 3H5c-1.1 0-2 .9-2 2v14c0 1.1.9 2 2 2h14c1.1 0 2-.9 2-2V5c0-1.1-.9-2-2-2zM9 17H7v-7h2v7zm4 0h-2V7h2v10zm4 0h-2v-4h2v4z\"/>\n",
       "    </g>\n",
       "</svg>\n",
       "  </button>\n",
       "\n",
       "<style>\n",
       "  .colab-df-quickchart {\n",
       "      --bg-color: #E8F0FE;\n",
       "      --fill-color: #1967D2;\n",
       "      --hover-bg-color: #E2EBFA;\n",
       "      --hover-fill-color: #174EA6;\n",
       "      --disabled-fill-color: #AAA;\n",
       "      --disabled-bg-color: #DDD;\n",
       "  }\n",
       "\n",
       "  [theme=dark] .colab-df-quickchart {\n",
       "      --bg-color: #3B4455;\n",
       "      --fill-color: #D2E3FC;\n",
       "      --hover-bg-color: #434B5C;\n",
       "      --hover-fill-color: #FFFFFF;\n",
       "      --disabled-bg-color: #3B4455;\n",
       "      --disabled-fill-color: #666;\n",
       "  }\n",
       "\n",
       "  .colab-df-quickchart {\n",
       "    background-color: var(--bg-color);\n",
       "    border: none;\n",
       "    border-radius: 50%;\n",
       "    cursor: pointer;\n",
       "    display: none;\n",
       "    fill: var(--fill-color);\n",
       "    height: 32px;\n",
       "    padding: 0;\n",
       "    width: 32px;\n",
       "  }\n",
       "\n",
       "  .colab-df-quickchart:hover {\n",
       "    background-color: var(--hover-bg-color);\n",
       "    box-shadow: 0 1px 2px rgba(60, 64, 67, 0.3), 0 1px 3px 1px rgba(60, 64, 67, 0.15);\n",
       "    fill: var(--button-hover-fill-color);\n",
       "  }\n",
       "\n",
       "  .colab-df-quickchart-complete:disabled,\n",
       "  .colab-df-quickchart-complete:disabled:hover {\n",
       "    background-color: var(--disabled-bg-color);\n",
       "    fill: var(--disabled-fill-color);\n",
       "    box-shadow: none;\n",
       "  }\n",
       "\n",
       "  .colab-df-spinner {\n",
       "    border: 2px solid var(--fill-color);\n",
       "    border-color: transparent;\n",
       "    border-bottom-color: var(--fill-color);\n",
       "    animation:\n",
       "      spin 1s steps(1) infinite;\n",
       "  }\n",
       "\n",
       "  @keyframes spin {\n",
       "    0% {\n",
       "      border-color: transparent;\n",
       "      border-bottom-color: var(--fill-color);\n",
       "      border-left-color: var(--fill-color);\n",
       "    }\n",
       "    20% {\n",
       "      border-color: transparent;\n",
       "      border-left-color: var(--fill-color);\n",
       "      border-top-color: var(--fill-color);\n",
       "    }\n",
       "    30% {\n",
       "      border-color: transparent;\n",
       "      border-left-color: var(--fill-color);\n",
       "      border-top-color: var(--fill-color);\n",
       "      border-right-color: var(--fill-color);\n",
       "    }\n",
       "    40% {\n",
       "      border-color: transparent;\n",
       "      border-right-color: var(--fill-color);\n",
       "      border-top-color: var(--fill-color);\n",
       "    }\n",
       "    60% {\n",
       "      border-color: transparent;\n",
       "      border-right-color: var(--fill-color);\n",
       "    }\n",
       "    80% {\n",
       "      border-color: transparent;\n",
       "      border-right-color: var(--fill-color);\n",
       "      border-bottom-color: var(--fill-color);\n",
       "    }\n",
       "    90% {\n",
       "      border-color: transparent;\n",
       "      border-bottom-color: var(--fill-color);\n",
       "    }\n",
       "  }\n",
       "</style>\n",
       "\n",
       "  <script>\n",
       "    async function quickchart(key) {\n",
       "      const quickchartButtonEl =\n",
       "        document.querySelector('#' + key + ' button');\n",
       "      quickchartButtonEl.disabled = true;  // To prevent multiple clicks.\n",
       "      quickchartButtonEl.classList.add('colab-df-spinner');\n",
       "      try {\n",
       "        const charts = await google.colab.kernel.invokeFunction(\n",
       "            'suggestCharts', [key], {});\n",
       "      } catch (error) {\n",
       "        console.error('Error during call to suggestCharts:', error);\n",
       "      }\n",
       "      quickchartButtonEl.classList.remove('colab-df-spinner');\n",
       "      quickchartButtonEl.classList.add('colab-df-quickchart-complete');\n",
       "    }\n",
       "    (() => {\n",
       "      let quickchartButtonEl =\n",
       "        document.querySelector('#df-085efa5b-84d6-4585-92f4-f34b1912cc78 button');\n",
       "      quickchartButtonEl.style.display =\n",
       "        google.colab.kernel.accessAllowed ? 'block' : 'none';\n",
       "    })();\n",
       "  </script>\n",
       "</div>\n",
       "    </div>\n",
       "  </div>\n"
      ],
      "text/plain": [
       "                                            Sentence  \\\n",
       "0      Adam se otpočetka nudi s tri benzinska motora   \n",
       "1  Svi motori dolaze u kombinaciji s ručnim mjenj...   \n",
       "2                  Dizelski motor nije uopće u planu   \n",
       "3  U kombiniranom načinu vožnje Adam 1.2 ecoFLEX ...   \n",
       "4  Oba modela 1.4 ecoFLEX troše samo 5,1 l / 100 ...   \n",
       "\n",
       "                                              Tokens  \\\n",
       "0  [Adam, se, otpočetka, nudi, s, tri, benzinska,...   \n",
       "1  [Svi, motori, dolaze, u, kombinaciji, s, ručni...   \n",
       "2           [Dizelski, motor, nije, uopće, u, planu]   \n",
       "3  [U, kombiniranom, načinu, vožnje, Adam, 1.2, e...   \n",
       "4  [Oba, modela, 1.4, ecoFLEX, troše, samo, 5,1, ...   \n",
       "\n",
       "                                              Lemmas  \n",
       "0  [Adam, sebe, otpočetka, nuditi, sa, tri, benzi...  \n",
       "1  [sav, motor, dolaziti, u, kombinacija, sa, ruč...  \n",
       "2            [dizelski, motor, biti, uopće, u, plan]  \n",
       "3  [u, kombiniran, način, vožnja, Adam, 1.2, ecoF...  \n",
       "4  [oba, model, 1.4, ecoFLEX, trošiti, samo, 5,1,...  "
      ]
     },
     "execution_count": 27,
     "metadata": {},
     "output_type": "execute_result"
    }
   ],
   "source": [
    "data.head()"
   ]
  },
  {
   "cell_type": "markdown",
   "metadata": {
    "id": "ZjWjwwRoXazt"
   },
   "source": [
    "We create our dataframe with 3 columns. The first column is \"Sentence\" which is a combination of the original token forms, the second column is \"Tokens\" which contains the original token forms and the last column is \"Lemmas\" which contains the lemmatized form of each token."
   ]
  },
  {
   "cell_type": "code",
   "execution_count": null,
   "metadata": {
    "colab": {
     "base_uri": "https://localhost:8080/"
    },
    "executionInfo": {
     "elapsed": 54634,
     "status": "ok",
     "timestamp": 1710596183549,
     "user": {
      "displayName": "Marko Kumir",
      "userId": "15629419082931327730"
     },
     "user_tz": -60
    },
    "id": "h0CGgOL-ikx5",
    "outputId": "392dfdda-1914-4575-c9a6-f2e0594a394d"
   },
   "outputs": [
    {
     "name": "stdout",
     "output_type": "stream",
     "text": [
      "CSV file has been saved.\n"
     ]
    }
   ],
   "source": [
    "data.to_csv('hrWaC2.1.01.csv', index=False)  # Write the DataFrame to a CSV file without including the index.\n",
    "print(\"CSV file has been saved.\")  # Print a message indicating that the CSV file has been successfully saved."
   ]
  },
  {
   "cell_type": "markdown",
   "metadata": {
    "id": "ylp8K7NaXayF"
   },
   "source": [
    "We saved the dataframe as a CSV file for easier further work."
   ]
  },
  {
   "cell_type": "markdown",
   "metadata": {
    "id": "FfgAX0PiqVVL"
   },
   "source": [
    "### Dataset saved to CSV"
   ]
  },
  {
   "cell_type": "code",
   "execution_count": 3,
   "metadata": {
    "executionInfo": {
     "elapsed": 252735,
     "status": "ok",
     "timestamp": 1711830955155,
     "user": {
      "displayName": "Marko Kumir",
      "userId": "15629419082931327730"
     },
     "user_tz": -60
    },
    "id": "WcMll1RhgrUy"
   },
   "outputs": [],
   "source": [
    "dataset = pd.read_csv(\"hrWaC2.1.01.csv\",  # Read the CSV file named \"hrWaC2.1.01.csv\" into a pandas DataFrame.\n",
    "                      converters={\"Tokens\": eval, \"Lemmas\": eval})  # Use the eval function to convert columns 'Tokens' and 'Lemmas' to their original type."
   ]
  },
  {
   "cell_type": "code",
   "execution_count": 4,
   "metadata": {
    "colab": {
     "base_uri": "https://localhost:8080/",
     "height": 206
    },
    "executionInfo": {
     "elapsed": 8,
     "status": "ok",
     "timestamp": 1711830955156,
     "user": {
      "displayName": "Marko Kumir",
      "userId": "15629419082931327730"
     },
     "user_tz": -60
    },
    "id": "H1h7s4NEinNi",
    "outputId": "6984fdc3-31b9-4ee3-c421-858722442b53"
   },
   "outputs": [
    {
     "data": {
      "application/vnd.google.colaboratory.intrinsic+json": {
       "type": "dataframe",
       "variable_name": "dataset"
      },
      "text/html": [
       "\n",
       "  <div id=\"df-6da67bb4-ce7a-4fdb-8bda-7e41e2041fd5\" class=\"colab-df-container\">\n",
       "    <div>\n",
       "<style scoped>\n",
       "    .dataframe tbody tr th:only-of-type {\n",
       "        vertical-align: middle;\n",
       "    }\n",
       "\n",
       "    .dataframe tbody tr th {\n",
       "        vertical-align: top;\n",
       "    }\n",
       "\n",
       "    .dataframe thead th {\n",
       "        text-align: right;\n",
       "    }\n",
       "</style>\n",
       "<table border=\"1\" class=\"dataframe\">\n",
       "  <thead>\n",
       "    <tr style=\"text-align: right;\">\n",
       "      <th></th>\n",
       "      <th>Sentence</th>\n",
       "      <th>Tokens</th>\n",
       "      <th>Lemmas</th>\n",
       "    </tr>\n",
       "  </thead>\n",
       "  <tbody>\n",
       "    <tr>\n",
       "      <th>0</th>\n",
       "      <td>Adam se otpočetka nudi s tri benzinska motora</td>\n",
       "      <td>[Adam, se, otpočetka, nudi, s, tri, benzinska,...</td>\n",
       "      <td>[Adam, sebe, otpočetka, nuditi, sa, tri, benzi...</td>\n",
       "    </tr>\n",
       "    <tr>\n",
       "      <th>1</th>\n",
       "      <td>Svi motori dolaze u kombinaciji s ručnim mjenj...</td>\n",
       "      <td>[Svi, motori, dolaze, u, kombinaciji, s, ručni...</td>\n",
       "      <td>[sav, motor, dolaziti, u, kombinacija, sa, ruč...</td>\n",
       "    </tr>\n",
       "    <tr>\n",
       "      <th>2</th>\n",
       "      <td>Dizelski motor nije uopće u planu</td>\n",
       "      <td>[Dizelski, motor, nije, uopće, u, planu]</td>\n",
       "      <td>[dizelski, motor, biti, uopće, u, plan]</td>\n",
       "    </tr>\n",
       "    <tr>\n",
       "      <th>3</th>\n",
       "      <td>U kombiniranom načinu vožnje Adam 1.2 ecoFLEX ...</td>\n",
       "      <td>[U, kombiniranom, načinu, vožnje, Adam, 1.2, e...</td>\n",
       "      <td>[u, kombiniran, način, vožnja, Adam, 1.2, ecoF...</td>\n",
       "    </tr>\n",
       "    <tr>\n",
       "      <th>4</th>\n",
       "      <td>Oba modela 1.4 ecoFLEX troše samo 5,1 l / 100 ...</td>\n",
       "      <td>[Oba, modela, 1.4, ecoFLEX, troše, samo, 5,1, ...</td>\n",
       "      <td>[oba, model, 1.4, ecoFLEX, trošiti, samo, 5,1,...</td>\n",
       "    </tr>\n",
       "  </tbody>\n",
       "</table>\n",
       "</div>\n",
       "    <div class=\"colab-df-buttons\">\n",
       "\n",
       "  <div class=\"colab-df-container\">\n",
       "    <button class=\"colab-df-convert\" onclick=\"convertToInteractive('df-6da67bb4-ce7a-4fdb-8bda-7e41e2041fd5')\"\n",
       "            title=\"Convert this dataframe to an interactive table.\"\n",
       "            style=\"display:none;\">\n",
       "\n",
       "  <svg xmlns=\"http://www.w3.org/2000/svg\" height=\"24px\" viewBox=\"0 -960 960 960\">\n",
       "    <path d=\"M120-120v-720h720v720H120Zm60-500h600v-160H180v160Zm220 220h160v-160H400v160Zm0 220h160v-160H400v160ZM180-400h160v-160H180v160Zm440 0h160v-160H620v160ZM180-180h160v-160H180v160Zm440 0h160v-160H620v160Z\"/>\n",
       "  </svg>\n",
       "    </button>\n",
       "\n",
       "  <style>\n",
       "    .colab-df-container {\n",
       "      display:flex;\n",
       "      gap: 12px;\n",
       "    }\n",
       "\n",
       "    .colab-df-convert {\n",
       "      background-color: #E8F0FE;\n",
       "      border: none;\n",
       "      border-radius: 50%;\n",
       "      cursor: pointer;\n",
       "      display: none;\n",
       "      fill: #1967D2;\n",
       "      height: 32px;\n",
       "      padding: 0 0 0 0;\n",
       "      width: 32px;\n",
       "    }\n",
       "\n",
       "    .colab-df-convert:hover {\n",
       "      background-color: #E2EBFA;\n",
       "      box-shadow: 0px 1px 2px rgba(60, 64, 67, 0.3), 0px 1px 3px 1px rgba(60, 64, 67, 0.15);\n",
       "      fill: #174EA6;\n",
       "    }\n",
       "\n",
       "    .colab-df-buttons div {\n",
       "      margin-bottom: 4px;\n",
       "    }\n",
       "\n",
       "    [theme=dark] .colab-df-convert {\n",
       "      background-color: #3B4455;\n",
       "      fill: #D2E3FC;\n",
       "    }\n",
       "\n",
       "    [theme=dark] .colab-df-convert:hover {\n",
       "      background-color: #434B5C;\n",
       "      box-shadow: 0px 1px 3px 1px rgba(0, 0, 0, 0.15);\n",
       "      filter: drop-shadow(0px 1px 2px rgba(0, 0, 0, 0.3));\n",
       "      fill: #FFFFFF;\n",
       "    }\n",
       "  </style>\n",
       "\n",
       "    <script>\n",
       "      const buttonEl =\n",
       "        document.querySelector('#df-6da67bb4-ce7a-4fdb-8bda-7e41e2041fd5 button.colab-df-convert');\n",
       "      buttonEl.style.display =\n",
       "        google.colab.kernel.accessAllowed ? 'block' : 'none';\n",
       "\n",
       "      async function convertToInteractive(key) {\n",
       "        const element = document.querySelector('#df-6da67bb4-ce7a-4fdb-8bda-7e41e2041fd5');\n",
       "        const dataTable =\n",
       "          await google.colab.kernel.invokeFunction('convertToInteractive',\n",
       "                                                    [key], {});\n",
       "        if (!dataTable) return;\n",
       "\n",
       "        const docLinkHtml = 'Like what you see? Visit the ' +\n",
       "          '<a target=\"_blank\" href=https://colab.research.google.com/notebooks/data_table.ipynb>data table notebook</a>'\n",
       "          + ' to learn more about interactive tables.';\n",
       "        element.innerHTML = '';\n",
       "        dataTable['output_type'] = 'display_data';\n",
       "        await google.colab.output.renderOutput(dataTable, element);\n",
       "        const docLink = document.createElement('div');\n",
       "        docLink.innerHTML = docLinkHtml;\n",
       "        element.appendChild(docLink);\n",
       "      }\n",
       "    </script>\n",
       "  </div>\n",
       "\n",
       "\n",
       "<div id=\"df-3053d2a1-c567-4cc9-9b44-c600d0764856\">\n",
       "  <button class=\"colab-df-quickchart\" onclick=\"quickchart('df-3053d2a1-c567-4cc9-9b44-c600d0764856')\"\n",
       "            title=\"Suggest charts\"\n",
       "            style=\"display:none;\">\n",
       "\n",
       "<svg xmlns=\"http://www.w3.org/2000/svg\" height=\"24px\"viewBox=\"0 0 24 24\"\n",
       "     width=\"24px\">\n",
       "    <g>\n",
       "        <path d=\"M19 3H5c-1.1 0-2 .9-2 2v14c0 1.1.9 2 2 2h14c1.1 0 2-.9 2-2V5c0-1.1-.9-2-2-2zM9 17H7v-7h2v7zm4 0h-2V7h2v10zm4 0h-2v-4h2v4z\"/>\n",
       "    </g>\n",
       "</svg>\n",
       "  </button>\n",
       "\n",
       "<style>\n",
       "  .colab-df-quickchart {\n",
       "      --bg-color: #E8F0FE;\n",
       "      --fill-color: #1967D2;\n",
       "      --hover-bg-color: #E2EBFA;\n",
       "      --hover-fill-color: #174EA6;\n",
       "      --disabled-fill-color: #AAA;\n",
       "      --disabled-bg-color: #DDD;\n",
       "  }\n",
       "\n",
       "  [theme=dark] .colab-df-quickchart {\n",
       "      --bg-color: #3B4455;\n",
       "      --fill-color: #D2E3FC;\n",
       "      --hover-bg-color: #434B5C;\n",
       "      --hover-fill-color: #FFFFFF;\n",
       "      --disabled-bg-color: #3B4455;\n",
       "      --disabled-fill-color: #666;\n",
       "  }\n",
       "\n",
       "  .colab-df-quickchart {\n",
       "    background-color: var(--bg-color);\n",
       "    border: none;\n",
       "    border-radius: 50%;\n",
       "    cursor: pointer;\n",
       "    display: none;\n",
       "    fill: var(--fill-color);\n",
       "    height: 32px;\n",
       "    padding: 0;\n",
       "    width: 32px;\n",
       "  }\n",
       "\n",
       "  .colab-df-quickchart:hover {\n",
       "    background-color: var(--hover-bg-color);\n",
       "    box-shadow: 0 1px 2px rgba(60, 64, 67, 0.3), 0 1px 3px 1px rgba(60, 64, 67, 0.15);\n",
       "    fill: var(--button-hover-fill-color);\n",
       "  }\n",
       "\n",
       "  .colab-df-quickchart-complete:disabled,\n",
       "  .colab-df-quickchart-complete:disabled:hover {\n",
       "    background-color: var(--disabled-bg-color);\n",
       "    fill: var(--disabled-fill-color);\n",
       "    box-shadow: none;\n",
       "  }\n",
       "\n",
       "  .colab-df-spinner {\n",
       "    border: 2px solid var(--fill-color);\n",
       "    border-color: transparent;\n",
       "    border-bottom-color: var(--fill-color);\n",
       "    animation:\n",
       "      spin 1s steps(1) infinite;\n",
       "  }\n",
       "\n",
       "  @keyframes spin {\n",
       "    0% {\n",
       "      border-color: transparent;\n",
       "      border-bottom-color: var(--fill-color);\n",
       "      border-left-color: var(--fill-color);\n",
       "    }\n",
       "    20% {\n",
       "      border-color: transparent;\n",
       "      border-left-color: var(--fill-color);\n",
       "      border-top-color: var(--fill-color);\n",
       "    }\n",
       "    30% {\n",
       "      border-color: transparent;\n",
       "      border-left-color: var(--fill-color);\n",
       "      border-top-color: var(--fill-color);\n",
       "      border-right-color: var(--fill-color);\n",
       "    }\n",
       "    40% {\n",
       "      border-color: transparent;\n",
       "      border-right-color: var(--fill-color);\n",
       "      border-top-color: var(--fill-color);\n",
       "    }\n",
       "    60% {\n",
       "      border-color: transparent;\n",
       "      border-right-color: var(--fill-color);\n",
       "    }\n",
       "    80% {\n",
       "      border-color: transparent;\n",
       "      border-right-color: var(--fill-color);\n",
       "      border-bottom-color: var(--fill-color);\n",
       "    }\n",
       "    90% {\n",
       "      border-color: transparent;\n",
       "      border-bottom-color: var(--fill-color);\n",
       "    }\n",
       "  }\n",
       "</style>\n",
       "\n",
       "  <script>\n",
       "    async function quickchart(key) {\n",
       "      const quickchartButtonEl =\n",
       "        document.querySelector('#' + key + ' button');\n",
       "      quickchartButtonEl.disabled = true;  // To prevent multiple clicks.\n",
       "      quickchartButtonEl.classList.add('colab-df-spinner');\n",
       "      try {\n",
       "        const charts = await google.colab.kernel.invokeFunction(\n",
       "            'suggestCharts', [key], {});\n",
       "      } catch (error) {\n",
       "        console.error('Error during call to suggestCharts:', error);\n",
       "      }\n",
       "      quickchartButtonEl.classList.remove('colab-df-spinner');\n",
       "      quickchartButtonEl.classList.add('colab-df-quickchart-complete');\n",
       "    }\n",
       "    (() => {\n",
       "      let quickchartButtonEl =\n",
       "        document.querySelector('#df-3053d2a1-c567-4cc9-9b44-c600d0764856 button');\n",
       "      quickchartButtonEl.style.display =\n",
       "        google.colab.kernel.accessAllowed ? 'block' : 'none';\n",
       "    })();\n",
       "  </script>\n",
       "</div>\n",
       "    </div>\n",
       "  </div>\n"
      ],
      "text/plain": [
       "                                            Sentence  \\\n",
       "0      Adam se otpočetka nudi s tri benzinska motora   \n",
       "1  Svi motori dolaze u kombinaciji s ručnim mjenj...   \n",
       "2                  Dizelski motor nije uopće u planu   \n",
       "3  U kombiniranom načinu vožnje Adam 1.2 ecoFLEX ...   \n",
       "4  Oba modela 1.4 ecoFLEX troše samo 5,1 l / 100 ...   \n",
       "\n",
       "                                              Tokens  \\\n",
       "0  [Adam, se, otpočetka, nudi, s, tri, benzinska,...   \n",
       "1  [Svi, motori, dolaze, u, kombinaciji, s, ručni...   \n",
       "2           [Dizelski, motor, nije, uopće, u, planu]   \n",
       "3  [U, kombiniranom, načinu, vožnje, Adam, 1.2, e...   \n",
       "4  [Oba, modela, 1.4, ecoFLEX, troše, samo, 5,1, ...   \n",
       "\n",
       "                                              Lemmas  \n",
       "0  [Adam, sebe, otpočetka, nuditi, sa, tri, benzi...  \n",
       "1  [sav, motor, dolaziti, u, kombinacija, sa, ruč...  \n",
       "2            [dizelski, motor, biti, uopće, u, plan]  \n",
       "3  [u, kombiniran, način, vožnja, Adam, 1.2, ecoF...  \n",
       "4  [oba, model, 1.4, ecoFLEX, trošiti, samo, 5,1,...  "
      ]
     },
     "execution_count": 4,
     "metadata": {},
     "output_type": "execute_result"
    }
   ],
   "source": [
    "dataset.head()"
   ]
  },
  {
   "cell_type": "markdown",
   "metadata": {
    "id": "4HFuCDT4rqqL"
   },
   "source": [
    "### Preprocessing data"
   ]
  },
  {
   "cell_type": "code",
   "execution_count": 5,
   "metadata": {
    "colab": {
     "base_uri": "https://localhost:8080/"
    },
    "executionInfo": {
     "elapsed": 6,
     "status": "ok",
     "timestamp": 1711830955156,
     "user": {
      "displayName": "Marko Kumir",
      "userId": "15629419082931327730"
     },
     "user_tz": -60
    },
    "id": "c9eXU0wUioTa",
    "outputId": "a22a345a-1e14-4b45-8d38-200ca1e6c14d"
   },
   "outputs": [
    {
     "data": {
      "text/plain": [
       "(4721347, 3)"
      ]
     },
     "execution_count": 5,
     "metadata": {},
     "output_type": "execute_result"
    }
   ],
   "source": [
    "dataset.shape"
   ]
  },
  {
   "cell_type": "code",
   "execution_count": 6,
   "metadata": {
    "colab": {
     "base_uri": "https://localhost:8080/"
    },
    "executionInfo": {
     "elapsed": 379,
     "status": "ok",
     "timestamp": 1711830958275,
     "user": {
      "displayName": "Marko Kumir",
      "userId": "15629419082931327730"
     },
     "user_tz": -60
    },
    "id": "TajDLOD3ipe2",
    "outputId": "c0bc8daa-3077-41b3-9e25-07ac3ffacb17"
   },
   "outputs": [
    {
     "data": {
      "text/plain": [
       "716660"
      ]
     },
     "execution_count": 6,
     "metadata": {},
     "output_type": "execute_result"
    }
   ],
   "source": [
    "dataset.duplicated(subset='Sentence').sum()  # Check for duplicate rows based on the 'Sentence' column and return a boolean Series indicating duplicates.\n",
    "                                            # Sum up the number of True values in the boolean Series, representing the count of duplicate rows."
   ]
  },
  {
   "cell_type": "markdown",
   "metadata": {
    "id": "vQ0m4QpdEMTj"
   },
   "source": [
    "Check for duplicate sentences"
   ]
  },
  {
   "cell_type": "code",
   "execution_count": 7,
   "metadata": {
    "executionInfo": {
     "elapsed": 902,
     "status": "ok",
     "timestamp": 1711830961880,
     "user": {
      "displayName": "Marko Kumir",
      "userId": "15629419082931327730"
     },
     "user_tz": -60
    },
    "id": "i3KzlONPiszf"
   },
   "outputs": [],
   "source": [
    "dataset.drop_duplicates(subset='Sentence',\n",
    "                         keep='first',\n",
    "                         inplace=True)  # Modify the DataFrame in place (without creating a new one)."
   ]
  },
  {
   "cell_type": "markdown",
   "metadata": {
    "id": "2AlLC76YEAyl"
   },
   "source": [
    "Remove duplicate rows based on the 'Sentence' column and keep the first occurrence of each duplicated row."
   ]
  },
  {
   "cell_type": "code",
   "execution_count": 8,
   "metadata": {
    "colab": {
     "base_uri": "https://localhost:8080/"
    },
    "executionInfo": {
     "elapsed": 891,
     "status": "ok",
     "timestamp": 1711830965082,
     "user": {
      "displayName": "Marko Kumir",
      "userId": "15629419082931327730"
     },
     "user_tz": -60
    },
    "id": "AxHwnlA2iulJ",
    "outputId": "995c4041-75cd-4e24-d112-0d749a14d27c"
   },
   "outputs": [
    {
     "data": {
      "text/plain": [
       "0"
      ]
     },
     "execution_count": 8,
     "metadata": {},
     "output_type": "execute_result"
    }
   ],
   "source": [
    "dataset.duplicated(subset='Sentence').sum()"
   ]
  },
  {
   "cell_type": "code",
   "execution_count": 9,
   "metadata": {
    "colab": {
     "base_uri": "https://localhost:8080/"
    },
    "executionInfo": {
     "elapsed": 4,
     "status": "ok",
     "timestamp": 1711830965082,
     "user": {
      "displayName": "Marko Kumir",
      "userId": "15629419082931327730"
     },
     "user_tz": -60
    },
    "id": "hLRE8QJbivgN",
    "outputId": "6c8dd061-af59-4d24-c8fb-dd9684dab017"
   },
   "outputs": [
    {
     "data": {
      "text/plain": [
       "(4004687, 3)"
      ]
     },
     "execution_count": 9,
     "metadata": {},
     "output_type": "execute_result"
    }
   ],
   "source": [
    "dataset.shape"
   ]
  },
  {
   "cell_type": "markdown",
   "metadata": {
    "id": "QngnDenIixYs"
   },
   "source": [
    "We now see that our data is cleaned. Duplicate sentences are droped."
   ]
  },
  {
   "cell_type": "code",
   "execution_count": 10,
   "metadata": {
    "colab": {
     "base_uri": "https://localhost:8080/"
    },
    "executionInfo": {
     "elapsed": 1172,
     "status": "ok",
     "timestamp": 1711830966252,
     "user": {
      "displayName": "Marko Kumir",
      "userId": "15629419082931327730"
     },
     "user_tz": -60
    },
    "id": "BaJf-TyGiyYd",
    "outputId": "f6cbccdd-8332-4d0a-ae1e-5930f8b4e0ee"
   },
   "outputs": [
    {
     "name": "stdout",
     "output_type": "stream",
     "text": [
      "Number of sentences with mismatched token and lemma lengts: 0\n"
     ]
    }
   ],
   "source": [
    "br = 0  # Initialize a counter for the number of sentences where the number of tokens does not match the number of lemmas.\n",
    "\n",
    "for tokens, lemmas in zip(dataset['Tokens'], dataset['Lemmas']):  # Iterate over corresponding arrays of tokens and lemmas in the DataFrame.\n",
    "  if len(tokens) != len(lemmas):  # Check if the lengths of tokens and lemmas are different.\n",
    "    br += 1  # Increment the counter for mismatched lengths.\n",
    "\n",
    "print(\"Number of sentences with mismatched token and lemma lengts:\", br)"
   ]
  },
  {
   "cell_type": "markdown",
   "metadata": {
    "id": "WXl8cjb-bbhg"
   },
   "source": [
    "We compared the length of each token array and each lemma array to verify the data set."
   ]
  },
  {
   "cell_type": "code",
   "execution_count": 11,
   "metadata": {
    "executionInfo": {
     "elapsed": 3,
     "status": "ok",
     "timestamp": 1711830966252,
     "user": {
      "displayName": "Marko Kumir",
      "userId": "15629419082931327730"
     },
     "user_tz": -60
    },
    "id": "Xglrz4CLi2FZ"
   },
   "outputs": [],
   "source": [
    "def process_column(column):\n",
    "  regex_pattern = re.compile(r'[^\\w\\s]|[\\d_]')  # Compile a regex pattern to match non-alphanumeric characters and digits.\n",
    "  cleaned_column = [re.sub(regex_pattern, \"\", word).lower() for sentence in column for word in sentence]  # Clean each word in each sentence in the column by removing non-alphanumeric characters, converting to lowercase.\n",
    "  return cleaned_column  # Return the cleaned column."
   ]
  },
  {
   "cell_type": "code",
   "execution_count": 12,
   "metadata": {
    "executionInfo": {
     "elapsed": 141660,
     "status": "ok",
     "timestamp": 1711831107909,
     "user": {
      "displayName": "Marko Kumir",
      "userId": "15629419082931327730"
     },
     "user_tz": -60
    },
    "id": "8CLeduEyi3GE"
   },
   "outputs": [],
   "source": [
    "tokens_array = process_column(dataset['Tokens'])  # Process the 'Tokens' column of the dataset to remove non-alphanumeric characters and convert words to lowercase.\n",
    "lemmas_array = process_column(dataset['Lemmas'])  # Process the 'Lemmas' column of the dataset to remove non-alphanumeric characters and convert words to lowercase."
   ]
  },
  {
   "cell_type": "markdown",
   "metadata": {
    "id": "-IbpnjCdeCHA"
   },
   "source": [
    "We now have two arrays of preprocessed tokens and lemmas."
   ]
  },
  {
   "cell_type": "code",
   "execution_count": 13,
   "metadata": {
    "colab": {
     "base_uri": "https://localhost:8080/"
    },
    "executionInfo": {
     "elapsed": 9,
     "status": "ok",
     "timestamp": 1711831107909,
     "user": {
      "displayName": "Marko Kumir",
      "userId": "15629419082931327730"
     },
     "user_tz": -60
    },
    "id": "zEkML5Lx_3_s",
    "outputId": "deab0635-238d-4bc5-ce3c-542dd1c708bb"
   },
   "outputs": [
    {
     "name": "stdout",
     "output_type": "stream",
     "text": [
      "The length of array with tokens: 40593565\n",
      "The length of array with lemmas: 40593565\n"
     ]
    }
   ],
   "source": [
    "print(\"The length of array with tokens:\", len(tokens_array))\n",
    "print(\"The length of array with lemmas:\", len(lemmas_array))"
   ]
  },
  {
   "cell_type": "code",
   "execution_count": 14,
   "metadata": {
    "colab": {
     "base_uri": "https://localhost:8080/"
    },
    "executionInfo": {
     "elapsed": 7,
     "status": "ok",
     "timestamp": 1711831107910,
     "user": {
      "displayName": "Marko Kumir",
      "userId": "15629419082931327730"
     },
     "user_tz": -60
    },
    "id": "NriByt7Bi7At",
    "outputId": "08bad580-c7d8-4241-8bcd-0f4ed19fdf56"
   },
   "outputs": [
    {
     "name": "stdout",
     "output_type": "stream",
     "text": [
      "The first 10 elements of the array with tokens: ['adam', 'se', 'otpočetka', 'nudi', 's', 'tri', 'benzinska', 'motora', 'svi', 'motori']\n",
      "The first 10 elements of the array with lemmas: ['adam', 'sebe', 'otpočetka', 'nuditi', 'sa', 'tri', 'benzinski', 'motor', 'sav', 'motor']\n"
     ]
    }
   ],
   "source": [
    "print(\"The first 10 elements of the array with tokens:\", tokens_array[:10])\n",
    "print(\"The first 10 elements of the array with lemmas:\", lemmas_array[:10])"
   ]
  },
  {
   "cell_type": "code",
   "execution_count": 15,
   "metadata": {
    "colab": {
     "base_uri": "https://localhost:8080/"
    },
    "executionInfo": {
     "elapsed": 79633,
     "status": "ok",
     "timestamp": 1711831188048,
     "user": {
      "displayName": "Marko Kumir",
      "userId": "15629419082931327730"
     },
     "user_tz": -60
    },
    "id": "fqjojxgei9ib",
    "outputId": "4466b455-c6b1-4f6f-8b64-1a08ca351665"
   },
   "outputs": [
    {
     "name": "stderr",
     "output_type": "stream",
     "text": [
      "100%|██████████| 40593565/40593565 [01:19<00:00, 511561.24it/s]\n"
     ]
    }
   ],
   "source": [
    "# Initialize an empty dictionary to store token-lemma mappings and another for lemma frequencies.\n",
    "token_lemma_dict = {}\n",
    "lemma_frequency_dict = {}\n",
    "\n",
    "# Create a tqdm progress bar to track the processing progress.\n",
    "with tqdm(total=len(tokens_array)) as pbar:\n",
    "  # Iterate through corresponding token-lemma pairs.\n",
    "  for token, lemma in zip(tokens_array, lemmas_array):\n",
    "      if token not in token_lemma_dict:\n",
    "        # If token is not already in the dictionary, add it with its lemma and set count to 1.\n",
    "        token_lemma_dict[token] = {'lemma': lemma, 'count': 1} # Creating a list to store multiple lemmas if necessary\n",
    "      elif token in token_lemma_dict:\n",
    "        # If the token already exists, increment its count.\n",
    "        token_lemma_dict[token]['count'] += 1\n",
    "      # Check if the lemma is already in the dictionary.\n",
    "      if lemma not in lemma_frequency_dict:\n",
    "        # If not, add the lemma with a count of 1.\n",
    "        lemma_frequency_dict[lemma] = 1\n",
    "      elif lemma in lemma_frequency_dict:\n",
    "        # If lemma already exists, increment its count.\n",
    "        lemma_frequency_dict[lemma] += 1\n",
    "      # Update the progress bar to indicate processing progress.\n",
    "      pbar.update(1)"
   ]
  },
  {
   "cell_type": "markdown",
   "metadata": {
    "id": "J132fhFgfq_R"
   },
   "source": [
    "We have created a dictionary in which the key is a token and the value is its lemma and the number of occurrences in the corpus. That way we have all unique tokens. In the second dictionary, we set the lemma as the key, and the value is its number of occurrences. These dictionaries are very useful for us later in descriptive statistics."
   ]
  },
  {
   "cell_type": "code",
   "execution_count": 16,
   "metadata": {
    "colab": {
     "base_uri": "https://localhost:8080/"
    },
    "executionInfo": {
     "elapsed": 10,
     "status": "ok",
     "timestamp": 1711831188048,
     "user": {
      "displayName": "Marko Kumir",
      "userId": "15629419082931327730"
     },
     "user_tz": -60
    },
    "id": "ZY1Jz1-gi-3s",
    "outputId": "728ece44-5c6b-4138-800c-f26ca220f18b"
   },
   "outputs": [
    {
     "data": {
      "text/plain": [
       "{'lemma': '', 'count': 1471833}"
      ]
     },
     "execution_count": 16,
     "metadata": {},
     "output_type": "execute_result"
    }
   ],
   "source": [
    "token_lemma_dict.pop(\"\")  # Remove the empty string key from token_lemma_dict."
   ]
  },
  {
   "cell_type": "code",
   "execution_count": 17,
   "metadata": {
    "colab": {
     "base_uri": "https://localhost:8080/"
    },
    "executionInfo": {
     "elapsed": 8,
     "status": "ok",
     "timestamp": 1711831188049,
     "user": {
      "displayName": "Marko Kumir",
      "userId": "15629419082931327730"
     },
     "user_tz": -60
    },
    "id": "4JgxsZNsO3Nn",
    "outputId": "8d263345-c6c4-450c-d190-b6553854efeb"
   },
   "outputs": [
    {
     "data": {
      "text/plain": [
       "1471826"
      ]
     },
     "execution_count": 17,
     "metadata": {},
     "output_type": "execute_result"
    }
   ],
   "source": [
    "lemma_frequency_dict.pop(\"\")  # Remove the empty string key from lemma_frequency_dict."
   ]
  },
  {
   "cell_type": "code",
   "execution_count": 18,
   "metadata": {
    "colab": {
     "base_uri": "https://localhost:8080/"
    },
    "executionInfo": {
     "elapsed": 6,
     "status": "ok",
     "timestamp": 1711831188049,
     "user": {
      "displayName": "Marko Kumir",
      "userId": "15629419082931327730"
     },
     "user_tz": -60
    },
    "id": "x8RHUjyhD2NM",
    "outputId": "b32e9623-6a1d-46e8-927a-6ece507a1cd4"
   },
   "outputs": [
    {
     "name": "stdout",
     "output_type": "stream",
     "text": [
      "The length of token_lemma dictionary: 864938\n",
      "The length of lemma_frequency dictionary: 537479\n"
     ]
    }
   ],
   "source": [
    "print(\"The length of token_lemma dictionary:\", len(token_lemma_dict))\n",
    "print(\"The length of lemma_frequency dictionary:\", len(lemma_frequency_dict))"
   ]
  },
  {
   "cell_type": "code",
   "execution_count": 19,
   "metadata": {
    "colab": {
     "base_uri": "https://localhost:8080/"
    },
    "executionInfo": {
     "elapsed": 4,
     "status": "ok",
     "timestamp": 1711831188049,
     "user": {
      "displayName": "Marko Kumir",
      "userId": "15629419082931327730"
     },
     "user_tz": -60
    },
    "id": "Mka0PKE8jCt3",
    "outputId": "7fe8feec-0782-4702-8661-506f43e1e3df"
   },
   "outputs": [
    {
     "name": "stdout",
     "output_type": "stream",
     "text": [
      "The first 10 items in the token_lemma dictionary:\n",
      "\n",
      "adam: adam, 385\n",
      "se: sebe, 745695\n",
      "otpočetka: otpočetka, 86\n",
      "nudi: nuditi, 4774\n",
      "s: sa, 235740\n",
      "tri: tri, 26432\n",
      "benzinska: benzinski, 112\n",
      "motora: motor, 2061\n",
      "svi: sav, 34803\n",
      "motori: motor, 381\n"
     ]
    }
   ],
   "source": [
    "print(\"The first 10 items in the token_lemma dictionary:\\n\")\n",
    "\n",
    "for i, (token, data) in enumerate(token_lemma_dict.items()):  # Iterate over the first 10 items in the token_lemma_dict.\n",
    "    if i >= 10:  # Exit the loop when 10 items have been processed.\n",
    "        break\n",
    "    print(f\"{token}: {data['lemma']}, {data['count']}\")  # Print the token, its corresponding lemma, and its count."
   ]
  },
  {
   "cell_type": "code",
   "execution_count": 20,
   "metadata": {
    "executionInfo": {
     "elapsed": 1343,
     "status": "ok",
     "timestamp": 1711831189389,
     "user": {
      "displayName": "Marko Kumir",
      "userId": "15629419082931327730"
     },
     "user_tz": -60
    },
    "id": "jBPXH5FkLP3b"
   },
   "outputs": [],
   "source": [
    "sorted_token_lemma_dict = sorted(token_lemma_dict.items(), key=lambda x: x[1]['count'], reverse=True)\n",
    "# Sort the token_lemma_dict based on the count of each token-lemma pair in descending order.\n",
    "\n",
    "sorted_token_lemma_dict = {item[0]: item[1] for item in sorted_token_lemma_dict}\n",
    "# Convert the sorted list of tuples back to a dictionary, preserving the order."
   ]
  },
  {
   "cell_type": "code",
   "execution_count": 21,
   "metadata": {
    "colab": {
     "base_uri": "https://localhost:8080/"
    },
    "executionInfo": {
     "elapsed": 14,
     "status": "ok",
     "timestamp": 1711831189390,
     "user": {
      "displayName": "Marko Kumir",
      "userId": "15629419082931327730"
     },
     "user_tz": -60
    },
    "id": "pVIIIAAripbN",
    "outputId": "7837a0c0-3901-47bc-8f91-f46a68013432"
   },
   "outputs": [
    {
     "name": "stdout",
     "output_type": "stream",
     "text": [
      "The first 10 items in sorted token_lemma dictionary:\n",
      "\n",
      "je: biti, 1348528\n",
      "i: i, 1327411\n",
      "u: u, 1261534\n",
      "se: sebe, 745695\n",
      "na: na, 672314\n",
      "da: da, 574342\n",
      "za: za, 478065\n",
      "su: biti, 435947\n",
      "od: od, 294414\n",
      "s: sa, 235740\n"
     ]
    }
   ],
   "source": [
    "print(\"The first 10 items in sorted token_lemma dictionary:\\n\")\n",
    "\n",
    "for i, (token, data) in enumerate(sorted_token_lemma_dict.items()):  # Iterate over the first 10 items in the sorted_token_lemma_dict.\n",
    "    if i >= 10:  # Exit the loop when 10 items have been processed.\n",
    "        break\n",
    "    print(f\"{token}: {data['lemma']}, {data['count']}\")  # Print the token, its corresponding lemma, and its count."
   ]
  },
  {
   "cell_type": "code",
   "execution_count": 22,
   "metadata": {
    "colab": {
     "base_uri": "https://localhost:8080/"
    },
    "executionInfo": {
     "elapsed": 11,
     "status": "ok",
     "timestamp": 1711831189390,
     "user": {
      "displayName": "Marko Kumir",
      "userId": "15629419082931327730"
     },
     "user_tz": -60
    },
    "id": "TAFg14NxN5Jw",
    "outputId": "0b716530-2aa9-4bd9-912a-5efb3c0b5d37"
   },
   "outputs": [
    {
     "name": "stdout",
     "output_type": "stream",
     "text": [
      "The first 10 items in the lemma_frequency dictionary:\n",
      "\n",
      "adam: 573\n",
      "sebe: 778940\n",
      "otpočetka: 86\n",
      "nuditi: 8530\n",
      "sa: 336641\n",
      "tri: 27124\n",
      "benzinski: 999\n",
      "motor: 5778\n",
      "sav: 191108\n",
      "dolaziti: 17046\n"
     ]
    }
   ],
   "source": [
    "print(\"The first 10 items in the lemma_frequency dictionary:\\n\")\n",
    "\n",
    "for i, (lemma, frequency) in enumerate(lemma_frequency_dict.items()):  # Iterate over the first 10 items in the lemma_frequency_dict.\n",
    "    if i >= 10:  # Exit the loop when 10 items have been processed.\n",
    "        break\n",
    "    print(f\"{lemma}: {frequency}\")  # Print the lemma and its corresponding frequency."
   ]
  },
  {
   "cell_type": "code",
   "execution_count": 23,
   "metadata": {
    "executionInfo": {
     "elapsed": 7,
     "status": "ok",
     "timestamp": 1711831189390,
     "user": {
      "displayName": "Marko Kumir",
      "userId": "15629419082931327730"
     },
     "user_tz": -60
    },
    "id": "j3GDmu1uOXR_"
   },
   "outputs": [],
   "source": [
    "sorted_lemma_frequency_dict = sorted(lemma_frequency_dict.items(), key=lambda x: x[1], reverse=True)\n",
    "# Sort the lemma_frequency_dict based on the frequency of each lemma in descending order.\n",
    "\n",
    "sorted_lemma_frequency_dict = {item[0]: item[1] for item in sorted_lemma_frequency_dict}\n",
    "# Convert the sorted list of tuples back to a dictionary, preserving the order."
   ]
  },
  {
   "cell_type": "code",
   "execution_count": 24,
   "metadata": {
    "colab": {
     "base_uri": "https://localhost:8080/"
    },
    "executionInfo": {
     "elapsed": 6,
     "status": "ok",
     "timestamp": 1711831189390,
     "user": {
      "displayName": "Marko Kumir",
      "userId": "15629419082931327730"
     },
     "user_tz": -60
    },
    "id": "xewA5s9ki1bj",
    "outputId": "9dfec1f6-fa9f-4761-9c75-907cdfa2d196"
   },
   "outputs": [
    {
     "name": "stdout",
     "output_type": "stream",
     "text": [
      "The first 10 items in sorted lemma_frequency dictionary:\n",
      "\n",
      "biti: 2670032\n",
      "i: 1327549\n",
      "u: 1261574\n",
      "sebe: 778940\n",
      "na: 672376\n",
      "da: 573989\n",
      "koji: 491519\n",
      "za: 478074\n",
      "taj: 412382\n",
      "sa: 336641\n"
     ]
    }
   ],
   "source": [
    "print(\"The first 10 items in sorted lemma_frequency dictionary:\\n\")\n",
    "\n",
    "for i, (lemma, frequency) in enumerate(sorted_lemma_frequency_dict.items()):  # Iterate over the first 10 items in the sorted_lemma_frequency_dict.\n",
    "    if i >= 10:  # Exit the loop when 10 items have been processed.\n",
    "        break\n",
    "    print(f\"{lemma}: {frequency}\")  # Print the lemma and its corresponding frequency."
   ]
  },
  {
   "cell_type": "code",
   "execution_count": 25,
   "metadata": {
    "executionInfo": {
     "elapsed": 4,
     "status": "ok",
     "timestamp": 1711831189915,
     "user": {
      "displayName": "Marko Kumir",
      "userId": "15629419082931327730"
     },
     "user_tz": -60
    },
    "id": "aBndSLlDKJCD"
   },
   "outputs": [],
   "source": [
    "lemmas_with_frequency_1 = []\n",
    "\n",
    "# Iterate through the dictionary\n",
    "for lemma, frequency in lemma_frequency_dict.items():\n",
    "    # Check if the frequency is 1\n",
    "    if frequency == 1:\n",
    "        # If yes, append the lemma to the array\n",
    "        lemmas_with_frequency_1.append(lemma)"
   ]
  },
  {
   "cell_type": "markdown",
   "metadata": {
    "id": "6gbbzLiKE08r"
   },
   "source": [
    "Create an array of lemmas that appear only once in the dataset."
   ]
  },
  {
   "cell_type": "code",
   "execution_count": 26,
   "metadata": {
    "colab": {
     "base_uri": "https://localhost:8080/"
    },
    "executionInfo": {
     "elapsed": 3,
     "status": "ok",
     "timestamp": 1711831189915,
     "user": {
      "displayName": "Marko Kumir",
      "userId": "15629419082931327730"
     },
     "user_tz": -60
    },
    "id": "3rxeyJw4Nz5Z",
    "outputId": "59db5c4e-6a8c-4be5-935e-4d7e378a5d82"
   },
   "outputs": [
    {
     "name": "stdout",
     "output_type": "stream",
     "text": [
      "Number of lemmas with frequency 1: 317014\n",
      "First few lemmas with frequency 1: ['perdstaviti', 'rafaele', 'umirovljenikaogranak', 'kaisera', 'fendermeg', 'mmfender', 'ružabrcković', 'implemantacija', 'bjondina', 'tolica']\n"
     ]
    }
   ],
   "source": [
    "print(\"Number of lemmas with frequency 1:\", len(lemmas_with_frequency_1))\n",
    "print(\"First few lemmas with frequency 1:\", lemmas_with_frequency_1[:10])"
   ]
  },
  {
   "cell_type": "markdown",
   "metadata": {
    "id": "rX3_RCbrPJB0"
   },
   "source": [
    "### Processed dataset"
   ]
  },
  {
   "cell_type": "code",
   "execution_count": null,
   "metadata": {
    "id": "LonZMkHmbclm"
   },
   "outputs": [],
   "source": [
    "X = tokens_array  # Assign the token array to X.\n",
    "y = lemmas_array  # Assign the lemma array to y."
   ]
  },
  {
   "cell_type": "code",
   "execution_count": null,
   "metadata": {
    "id": "9LrxL48UHtVY"
   },
   "outputs": [],
   "source": [
    "X_train, X_test, y_train, y_test = train_test_split(X, y, test_size=0.2, random_state=42)"
   ]
  },
  {
   "cell_type": "markdown",
   "metadata": {
    "id": "g0i5EkpM4NW5"
   },
   "source": [
    "We split the data into training and testing datasets with a test size of 20%, using a random state for reproducibility."
   ]
  },
  {
   "cell_type": "code",
   "execution_count": null,
   "metadata": {
    "id": "AvhEqJzv1EMr"
   },
   "outputs": [],
   "source": [
    "#due to faster iteration\n",
    "lemmas_with_frequency_1 = set(lemmas_with_frequency_1)"
   ]
  },
  {
   "cell_type": "code",
   "execution_count": null,
   "metadata": {
    "id": "vWTYSyrGbgXp"
   },
   "outputs": [],
   "source": [
    "def unique_dict(x_array, y_array):\n",
    "  # Initialize an empty dictionary to store unique token-lemma mappings.\n",
    "  d = {}\n",
    "\n",
    "  # Create a tqdm progress bar to track processing progress.\n",
    "  with tqdm(total=len(x_array)) as pbar:\n",
    "    # Iterate through corresponding token-lemma pairs.\n",
    "    for token, lemma in zip(x_array, y_array):\n",
    "      # Check if the token is not already in the dictionary and if the lemma is not in lemmas_with_frequency_1 array.\n",
    "      if token not in d and lemma not in lemmas_with_frequency_1:\n",
    "        d[token] = lemma  # If conditions are met, add the token with its lemma to the dictionary.\n",
    "      pbar.update(1)  # Update the progress bar.\n",
    "  d.pop(\"\")  # Remove the empty string key if it exists.\n",
    "  return d  # Return the unique token-lemma dictionary."
   ]
  },
  {
   "cell_type": "markdown",
   "metadata": {
    "id": "s8TczeuO4jD-"
   },
   "source": [
    "This function is made for creating train and test datasets. It selects only those tokens whose lemma appears more than once. This selection ensures that tokens which would otherwise be ineffective for training or prediction are excluded. This is particularly important because, during the data splitting process, such tokens might end up exclusively in either the training or testing dataset, resulting in biased or unreliable model performance."
   ]
  },
  {
   "cell_type": "markdown",
   "metadata": {
    "id": "dlczK1cRIyXj"
   },
   "source": [
    "#### Train dataset"
   ]
  },
  {
   "cell_type": "code",
   "execution_count": null,
   "metadata": {
    "colab": {
     "base_uri": "https://localhost:8080/"
    },
    "executionInfo": {
     "elapsed": 33991,
     "status": "ok",
     "timestamp": 1711655032326,
     "user": {
      "displayName": "Marko Kumir",
      "userId": "15629419082931327730"
     },
     "user_tz": -60
    },
    "id": "1jUTv1HWbigG",
    "outputId": "5fa4136e-7d0e-4877-b623-3d2d405e6e5a"
   },
   "outputs": [
    {
     "name": "stderr",
     "output_type": "stream",
     "text": [
      "100%|██████████| 32474852/32474852 [00:33<00:00, 960351.39it/s]\n"
     ]
    }
   ],
   "source": [
    "train_dictionary = unique_dict(X_train, y_train)\n",
    "# Generate a unique token-lemma dictionary using the training data."
   ]
  },
  {
   "cell_type": "code",
   "execution_count": null,
   "metadata": {
    "id": "9YQCSOtSblLN"
   },
   "outputs": [],
   "source": [
    "train_dataset = pd.DataFrame({'Token': train_dictionary.keys(), 'Lemma': train_dictionary.values()})\n",
    "# Create a DataFrame using pandas with columns 'Token' and 'Lemma' from the unique token-lemma dictionary generated from the training data."
   ]
  },
  {
   "cell_type": "code",
   "execution_count": null,
   "metadata": {
    "colab": {
     "base_uri": "https://localhost:8080/",
     "height": 206
    },
    "executionInfo": {
     "elapsed": 290,
     "status": "ok",
     "timestamp": 1711654598061,
     "user": {
      "displayName": "Marko Kumir",
      "userId": "15629419082931327730"
     },
     "user_tz": -60
    },
    "id": "nvgb4IXObnb5",
    "outputId": "2f9b0217-3faa-4684-87ba-3a11cb9df95c"
   },
   "outputs": [
    {
     "data": {
      "application/vnd.google.colaboratory.intrinsic+json": {
       "type": "dataframe",
       "variable_name": "train_dataset"
      },
      "text/html": [
       "\n",
       "  <div id=\"df-75917f10-b975-43d6-ab6a-83aea0e0a4f2\" class=\"colab-df-container\">\n",
       "    <div>\n",
       "<style scoped>\n",
       "    .dataframe tbody tr th:only-of-type {\n",
       "        vertical-align: middle;\n",
       "    }\n",
       "\n",
       "    .dataframe tbody tr th {\n",
       "        vertical-align: top;\n",
       "    }\n",
       "\n",
       "    .dataframe thead th {\n",
       "        text-align: right;\n",
       "    }\n",
       "</style>\n",
       "<table border=\"1\" class=\"dataframe\">\n",
       "  <thead>\n",
       "    <tr style=\"text-align: right;\">\n",
       "      <th></th>\n",
       "      <th>Token</th>\n",
       "      <th>Lemma</th>\n",
       "    </tr>\n",
       "  </thead>\n",
       "  <tbody>\n",
       "    <tr>\n",
       "      <th>0</th>\n",
       "      <td>rujan</td>\n",
       "      <td>rujan</td>\n",
       "    </tr>\n",
       "    <tr>\n",
       "      <th>1</th>\n",
       "      <td>da</td>\n",
       "      <td>da</td>\n",
       "    </tr>\n",
       "    <tr>\n",
       "      <th>2</th>\n",
       "      <td>znači</td>\n",
       "      <td>značiti</td>\n",
       "    </tr>\n",
       "    <tr>\n",
       "      <th>3</th>\n",
       "      <td>su</td>\n",
       "      <td>biti</td>\n",
       "    </tr>\n",
       "    <tr>\n",
       "      <th>4</th>\n",
       "      <td>bio</td>\n",
       "      <td>biti</td>\n",
       "    </tr>\n",
       "  </tbody>\n",
       "</table>\n",
       "</div>\n",
       "    <div class=\"colab-df-buttons\">\n",
       "\n",
       "  <div class=\"colab-df-container\">\n",
       "    <button class=\"colab-df-convert\" onclick=\"convertToInteractive('df-75917f10-b975-43d6-ab6a-83aea0e0a4f2')\"\n",
       "            title=\"Convert this dataframe to an interactive table.\"\n",
       "            style=\"display:none;\">\n",
       "\n",
       "  <svg xmlns=\"http://www.w3.org/2000/svg\" height=\"24px\" viewBox=\"0 -960 960 960\">\n",
       "    <path d=\"M120-120v-720h720v720H120Zm60-500h600v-160H180v160Zm220 220h160v-160H400v160Zm0 220h160v-160H400v160ZM180-400h160v-160H180v160Zm440 0h160v-160H620v160ZM180-180h160v-160H180v160Zm440 0h160v-160H620v160Z\"/>\n",
       "  </svg>\n",
       "    </button>\n",
       "\n",
       "  <style>\n",
       "    .colab-df-container {\n",
       "      display:flex;\n",
       "      gap: 12px;\n",
       "    }\n",
       "\n",
       "    .colab-df-convert {\n",
       "      background-color: #E8F0FE;\n",
       "      border: none;\n",
       "      border-radius: 50%;\n",
       "      cursor: pointer;\n",
       "      display: none;\n",
       "      fill: #1967D2;\n",
       "      height: 32px;\n",
       "      padding: 0 0 0 0;\n",
       "      width: 32px;\n",
       "    }\n",
       "\n",
       "    .colab-df-convert:hover {\n",
       "      background-color: #E2EBFA;\n",
       "      box-shadow: 0px 1px 2px rgba(60, 64, 67, 0.3), 0px 1px 3px 1px rgba(60, 64, 67, 0.15);\n",
       "      fill: #174EA6;\n",
       "    }\n",
       "\n",
       "    .colab-df-buttons div {\n",
       "      margin-bottom: 4px;\n",
       "    }\n",
       "\n",
       "    [theme=dark] .colab-df-convert {\n",
       "      background-color: #3B4455;\n",
       "      fill: #D2E3FC;\n",
       "    }\n",
       "\n",
       "    [theme=dark] .colab-df-convert:hover {\n",
       "      background-color: #434B5C;\n",
       "      box-shadow: 0px 1px 3px 1px rgba(0, 0, 0, 0.15);\n",
       "      filter: drop-shadow(0px 1px 2px rgba(0, 0, 0, 0.3));\n",
       "      fill: #FFFFFF;\n",
       "    }\n",
       "  </style>\n",
       "\n",
       "    <script>\n",
       "      const buttonEl =\n",
       "        document.querySelector('#df-75917f10-b975-43d6-ab6a-83aea0e0a4f2 button.colab-df-convert');\n",
       "      buttonEl.style.display =\n",
       "        google.colab.kernel.accessAllowed ? 'block' : 'none';\n",
       "\n",
       "      async function convertToInteractive(key) {\n",
       "        const element = document.querySelector('#df-75917f10-b975-43d6-ab6a-83aea0e0a4f2');\n",
       "        const dataTable =\n",
       "          await google.colab.kernel.invokeFunction('convertToInteractive',\n",
       "                                                    [key], {});\n",
       "        if (!dataTable) return;\n",
       "\n",
       "        const docLinkHtml = 'Like what you see? Visit the ' +\n",
       "          '<a target=\"_blank\" href=https://colab.research.google.com/notebooks/data_table.ipynb>data table notebook</a>'\n",
       "          + ' to learn more about interactive tables.';\n",
       "        element.innerHTML = '';\n",
       "        dataTable['output_type'] = 'display_data';\n",
       "        await google.colab.output.renderOutput(dataTable, element);\n",
       "        const docLink = document.createElement('div');\n",
       "        docLink.innerHTML = docLinkHtml;\n",
       "        element.appendChild(docLink);\n",
       "      }\n",
       "    </script>\n",
       "  </div>\n",
       "\n",
       "\n",
       "<div id=\"df-2f379eef-c0c5-418d-a488-f3f7f446ce19\">\n",
       "  <button class=\"colab-df-quickchart\" onclick=\"quickchart('df-2f379eef-c0c5-418d-a488-f3f7f446ce19')\"\n",
       "            title=\"Suggest charts\"\n",
       "            style=\"display:none;\">\n",
       "\n",
       "<svg xmlns=\"http://www.w3.org/2000/svg\" height=\"24px\"viewBox=\"0 0 24 24\"\n",
       "     width=\"24px\">\n",
       "    <g>\n",
       "        <path d=\"M19 3H5c-1.1 0-2 .9-2 2v14c0 1.1.9 2 2 2h14c1.1 0 2-.9 2-2V5c0-1.1-.9-2-2-2zM9 17H7v-7h2v7zm4 0h-2V7h2v10zm4 0h-2v-4h2v4z\"/>\n",
       "    </g>\n",
       "</svg>\n",
       "  </button>\n",
       "\n",
       "<style>\n",
       "  .colab-df-quickchart {\n",
       "      --bg-color: #E8F0FE;\n",
       "      --fill-color: #1967D2;\n",
       "      --hover-bg-color: #E2EBFA;\n",
       "      --hover-fill-color: #174EA6;\n",
       "      --disabled-fill-color: #AAA;\n",
       "      --disabled-bg-color: #DDD;\n",
       "  }\n",
       "\n",
       "  [theme=dark] .colab-df-quickchart {\n",
       "      --bg-color: #3B4455;\n",
       "      --fill-color: #D2E3FC;\n",
       "      --hover-bg-color: #434B5C;\n",
       "      --hover-fill-color: #FFFFFF;\n",
       "      --disabled-bg-color: #3B4455;\n",
       "      --disabled-fill-color: #666;\n",
       "  }\n",
       "\n",
       "  .colab-df-quickchart {\n",
       "    background-color: var(--bg-color);\n",
       "    border: none;\n",
       "    border-radius: 50%;\n",
       "    cursor: pointer;\n",
       "    display: none;\n",
       "    fill: var(--fill-color);\n",
       "    height: 32px;\n",
       "    padding: 0;\n",
       "    width: 32px;\n",
       "  }\n",
       "\n",
       "  .colab-df-quickchart:hover {\n",
       "    background-color: var(--hover-bg-color);\n",
       "    box-shadow: 0 1px 2px rgba(60, 64, 67, 0.3), 0 1px 3px 1px rgba(60, 64, 67, 0.15);\n",
       "    fill: var(--button-hover-fill-color);\n",
       "  }\n",
       "\n",
       "  .colab-df-quickchart-complete:disabled,\n",
       "  .colab-df-quickchart-complete:disabled:hover {\n",
       "    background-color: var(--disabled-bg-color);\n",
       "    fill: var(--disabled-fill-color);\n",
       "    box-shadow: none;\n",
       "  }\n",
       "\n",
       "  .colab-df-spinner {\n",
       "    border: 2px solid var(--fill-color);\n",
       "    border-color: transparent;\n",
       "    border-bottom-color: var(--fill-color);\n",
       "    animation:\n",
       "      spin 1s steps(1) infinite;\n",
       "  }\n",
       "\n",
       "  @keyframes spin {\n",
       "    0% {\n",
       "      border-color: transparent;\n",
       "      border-bottom-color: var(--fill-color);\n",
       "      border-left-color: var(--fill-color);\n",
       "    }\n",
       "    20% {\n",
       "      border-color: transparent;\n",
       "      border-left-color: var(--fill-color);\n",
       "      border-top-color: var(--fill-color);\n",
       "    }\n",
       "    30% {\n",
       "      border-color: transparent;\n",
       "      border-left-color: var(--fill-color);\n",
       "      border-top-color: var(--fill-color);\n",
       "      border-right-color: var(--fill-color);\n",
       "    }\n",
       "    40% {\n",
       "      border-color: transparent;\n",
       "      border-right-color: var(--fill-color);\n",
       "      border-top-color: var(--fill-color);\n",
       "    }\n",
       "    60% {\n",
       "      border-color: transparent;\n",
       "      border-right-color: var(--fill-color);\n",
       "    }\n",
       "    80% {\n",
       "      border-color: transparent;\n",
       "      border-right-color: var(--fill-color);\n",
       "      border-bottom-color: var(--fill-color);\n",
       "    }\n",
       "    90% {\n",
       "      border-color: transparent;\n",
       "      border-bottom-color: var(--fill-color);\n",
       "    }\n",
       "  }\n",
       "</style>\n",
       "\n",
       "  <script>\n",
       "    async function quickchart(key) {\n",
       "      const quickchartButtonEl =\n",
       "        document.querySelector('#' + key + ' button');\n",
       "      quickchartButtonEl.disabled = true;  // To prevent multiple clicks.\n",
       "      quickchartButtonEl.classList.add('colab-df-spinner');\n",
       "      try {\n",
       "        const charts = await google.colab.kernel.invokeFunction(\n",
       "            'suggestCharts', [key], {});\n",
       "      } catch (error) {\n",
       "        console.error('Error during call to suggestCharts:', error);\n",
       "      }\n",
       "      quickchartButtonEl.classList.remove('colab-df-spinner');\n",
       "      quickchartButtonEl.classList.add('colab-df-quickchart-complete');\n",
       "    }\n",
       "    (() => {\n",
       "      let quickchartButtonEl =\n",
       "        document.querySelector('#df-2f379eef-c0c5-418d-a488-f3f7f446ce19 button');\n",
       "      quickchartButtonEl.style.display =\n",
       "        google.colab.kernel.accessAllowed ? 'block' : 'none';\n",
       "    })();\n",
       "  </script>\n",
       "</div>\n",
       "    </div>\n",
       "  </div>\n"
      ],
      "text/plain": [
       "   Token    Lemma\n",
       "0  rujan    rujan\n",
       "1     da       da\n",
       "2  znači  značiti\n",
       "3     su     biti\n",
       "4    bio     biti"
      ]
     },
     "execution_count": 57,
     "metadata": {},
     "output_type": "execute_result"
    }
   ],
   "source": [
    "train_dataset.head()"
   ]
  },
  {
   "cell_type": "code",
   "execution_count": null,
   "metadata": {
    "colab": {
     "base_uri": "https://localhost:8080/"
    },
    "executionInfo": {
     "elapsed": 6,
     "status": "ok",
     "timestamp": 1711654599057,
     "user": {
      "displayName": "Marko Kumir",
      "userId": "15629419082931327730"
     },
     "user_tz": -60
    },
    "id": "jPaHYcn3bpme",
    "outputId": "7a2a8c20-fbde-4391-a8bb-33265e66d133"
   },
   "outputs": [
    {
     "data": {
      "text/plain": [
       "(549442, 2)"
      ]
     },
     "execution_count": 58,
     "metadata": {},
     "output_type": "execute_result"
    }
   ],
   "source": [
    "train_dataset.shape"
   ]
  },
  {
   "cell_type": "code",
   "execution_count": null,
   "metadata": {
    "colab": {
     "base_uri": "https://localhost:8080/"
    },
    "executionInfo": {
     "elapsed": 1965,
     "status": "ok",
     "timestamp": 1710597045212,
     "user": {
      "displayName": "Marko Kumir",
      "userId": "15629419082931327730"
     },
     "user_tz": -60
    },
    "id": "hlDVZiYObxcG",
    "outputId": "cd05b9e9-8579-4b42-cc8c-9e11e37eb160"
   },
   "outputs": [
    {
     "name": "stdout",
     "output_type": "stream",
     "text": [
      "CSV file has been saved.\n"
     ]
    }
   ],
   "source": [
    "train_dataset.to_csv('hrWaC2.1.01_train_dataset.csv', index=False)\n",
    "# Write the training dataset DataFrame to a CSV file without including the index.\n",
    "\n",
    "print(\"CSV file has been saved.\")\n",
    "# Print a message indicating that the CSV file has been successfully saved."
   ]
  },
  {
   "cell_type": "markdown",
   "metadata": {
    "id": "v_KjzIQCI1x3"
   },
   "source": [
    "#### Test dataset"
   ]
  },
  {
   "cell_type": "code",
   "execution_count": null,
   "metadata": {
    "colab": {
     "base_uri": "https://localhost:8080/"
    },
    "executionInfo": {
     "elapsed": 8124,
     "status": "ok",
     "timestamp": 1711662155473,
     "user": {
      "displayName": "Marko Kumir",
      "userId": "15629419082931327730"
     },
     "user_tz": -60
    },
    "id": "8k93C3enbrYZ",
    "outputId": "6cd618ea-47b0-4124-f2ca-de5dbe989405"
   },
   "outputs": [
    {
     "name": "stderr",
     "output_type": "stream",
     "text": [
      "100%|██████████| 8118713/8118713 [00:08<00:00, 989771.05it/s]\n"
     ]
    }
   ],
   "source": [
    "test_dictionary = unique_dict(X_test, y_test)\n",
    "# Generate a unique token-lemma dictionary using the testing data."
   ]
  },
  {
   "cell_type": "code",
   "execution_count": null,
   "metadata": {
    "colab": {
     "base_uri": "https://localhost:8080/"
    },
    "executionInfo": {
     "elapsed": 9,
     "status": "ok",
     "timestamp": 1711662155473,
     "user": {
      "displayName": "Marko Kumir",
      "userId": "15629419082931327730"
     },
     "user_tz": -60
    },
    "id": "qM7GfxtsgWAj",
    "outputId": "b7fbe2cd-18a8-41a7-9882-c593062aab59"
   },
   "outputs": [
    {
     "data": {
      "text/plain": [
       "320498"
      ]
     },
     "execution_count": 187,
     "metadata": {},
     "output_type": "execute_result"
    }
   ],
   "source": [
    "len(test_dictionary)"
   ]
  },
  {
   "cell_type": "markdown",
   "metadata": {
    "id": "pP7jxRWhfsx3"
   },
   "source": [
    "Due to the information that there are around 550k unique tokens prepared for training, we will limit the size of unique test tokens to be 10% of the train tokens' size, which is about 55k tokens for prediction."
   ]
  },
  {
   "cell_type": "code",
   "execution_count": null,
   "metadata": {
    "id": "rz1isLsWl7Uz"
   },
   "outputs": [],
   "source": [
    "test_length = round(0.10 * len(train_dataset))"
   ]
  },
  {
   "cell_type": "code",
   "execution_count": null,
   "metadata": {
    "id": "Xdz1Ht-alyr0"
   },
   "outputs": [],
   "source": [
    "test_tokens = list(train_dictionary.keys())[:test_length]\n",
    "test_lemmas = list(train_dictionary.values())[:test_length]"
   ]
  },
  {
   "cell_type": "code",
   "execution_count": null,
   "metadata": {
    "id": "gFGGL1Hhbs9V"
   },
   "outputs": [],
   "source": [
    "test_dataset = pd.DataFrame({'Token': test_tokens, 'Lemma': test_lemmas})\n",
    "# Create a DataFrame using pandas with columns 'Token' and 'Lemma' from the unique token-lemma dictionary generated from the testing data."
   ]
  },
  {
   "cell_type": "code",
   "execution_count": null,
   "metadata": {
    "colab": {
     "base_uri": "https://localhost:8080/",
     "height": 206
    },
    "executionInfo": {
     "elapsed": 369,
     "status": "ok",
     "timestamp": 1711662168256,
     "user": {
      "displayName": "Marko Kumir",
      "userId": "15629419082931327730"
     },
     "user_tz": -60
    },
    "id": "VT0mIz_-mw3x",
    "outputId": "f4803ece-0fe4-47f4-eb35-d69b33e4d677"
   },
   "outputs": [
    {
     "data": {
      "application/vnd.google.colaboratory.intrinsic+json": {
       "summary": "{\n  \"name\": \"test_dataset\",\n  \"rows\": 54944,\n  \"fields\": [\n    {\n      \"column\": \"Token\",\n      \"properties\": {\n        \"dtype\": \"string\",\n        \"num_unique_values\": 54944,\n        \"samples\": [\n          \"ri\\u017einu\",\n          \"emitira\",\n          \"milosr\\u0111e\"\n        ],\n        \"semantic_type\": \"\",\n        \"description\": \"\"\n      }\n    },\n    {\n      \"column\": \"Lemma\",\n      \"properties\": {\n        \"dtype\": \"string\",\n        \"num_unique_values\": 28220,\n        \"samples\": [\n          \"jeronim\",\n          \"automatic\",\n          \"tra\\u017eilica\"\n        ],\n        \"semantic_type\": \"\",\n        \"description\": \"\"\n      }\n    }\n  ]\n}",
       "type": "dataframe",
       "variable_name": "test_dataset"
      },
      "text/html": [
       "\n",
       "  <div id=\"df-11743dfd-5506-48a0-8d4f-2afdec7a188b\" class=\"colab-df-container\">\n",
       "    <div>\n",
       "<style scoped>\n",
       "    .dataframe tbody tr th:only-of-type {\n",
       "        vertical-align: middle;\n",
       "    }\n",
       "\n",
       "    .dataframe tbody tr th {\n",
       "        vertical-align: top;\n",
       "    }\n",
       "\n",
       "    .dataframe thead th {\n",
       "        text-align: right;\n",
       "    }\n",
       "</style>\n",
       "<table border=\"1\" class=\"dataframe\">\n",
       "  <thead>\n",
       "    <tr style=\"text-align: right;\">\n",
       "      <th></th>\n",
       "      <th>Token</th>\n",
       "      <th>Lemma</th>\n",
       "    </tr>\n",
       "  </thead>\n",
       "  <tbody>\n",
       "    <tr>\n",
       "      <th>0</th>\n",
       "      <td>rujan</td>\n",
       "      <td>rujan</td>\n",
       "    </tr>\n",
       "    <tr>\n",
       "      <th>1</th>\n",
       "      <td>da</td>\n",
       "      <td>da</td>\n",
       "    </tr>\n",
       "    <tr>\n",
       "      <th>2</th>\n",
       "      <td>znači</td>\n",
       "      <td>značiti</td>\n",
       "    </tr>\n",
       "    <tr>\n",
       "      <th>3</th>\n",
       "      <td>su</td>\n",
       "      <td>biti</td>\n",
       "    </tr>\n",
       "    <tr>\n",
       "      <th>4</th>\n",
       "      <td>bio</td>\n",
       "      <td>biti</td>\n",
       "    </tr>\n",
       "  </tbody>\n",
       "</table>\n",
       "</div>\n",
       "    <div class=\"colab-df-buttons\">\n",
       "\n",
       "  <div class=\"colab-df-container\">\n",
       "    <button class=\"colab-df-convert\" onclick=\"convertToInteractive('df-11743dfd-5506-48a0-8d4f-2afdec7a188b')\"\n",
       "            title=\"Convert this dataframe to an interactive table.\"\n",
       "            style=\"display:none;\">\n",
       "\n",
       "  <svg xmlns=\"http://www.w3.org/2000/svg\" height=\"24px\" viewBox=\"0 -960 960 960\">\n",
       "    <path d=\"M120-120v-720h720v720H120Zm60-500h600v-160H180v160Zm220 220h160v-160H400v160Zm0 220h160v-160H400v160ZM180-400h160v-160H180v160Zm440 0h160v-160H620v160ZM180-180h160v-160H180v160Zm440 0h160v-160H620v160Z\"/>\n",
       "  </svg>\n",
       "    </button>\n",
       "\n",
       "  <style>\n",
       "    .colab-df-container {\n",
       "      display:flex;\n",
       "      gap: 12px;\n",
       "    }\n",
       "\n",
       "    .colab-df-convert {\n",
       "      background-color: #E8F0FE;\n",
       "      border: none;\n",
       "      border-radius: 50%;\n",
       "      cursor: pointer;\n",
       "      display: none;\n",
       "      fill: #1967D2;\n",
       "      height: 32px;\n",
       "      padding: 0 0 0 0;\n",
       "      width: 32px;\n",
       "    }\n",
       "\n",
       "    .colab-df-convert:hover {\n",
       "      background-color: #E2EBFA;\n",
       "      box-shadow: 0px 1px 2px rgba(60, 64, 67, 0.3), 0px 1px 3px 1px rgba(60, 64, 67, 0.15);\n",
       "      fill: #174EA6;\n",
       "    }\n",
       "\n",
       "    .colab-df-buttons div {\n",
       "      margin-bottom: 4px;\n",
       "    }\n",
       "\n",
       "    [theme=dark] .colab-df-convert {\n",
       "      background-color: #3B4455;\n",
       "      fill: #D2E3FC;\n",
       "    }\n",
       "\n",
       "    [theme=dark] .colab-df-convert:hover {\n",
       "      background-color: #434B5C;\n",
       "      box-shadow: 0px 1px 3px 1px rgba(0, 0, 0, 0.15);\n",
       "      filter: drop-shadow(0px 1px 2px rgba(0, 0, 0, 0.3));\n",
       "      fill: #FFFFFF;\n",
       "    }\n",
       "  </style>\n",
       "\n",
       "    <script>\n",
       "      const buttonEl =\n",
       "        document.querySelector('#df-11743dfd-5506-48a0-8d4f-2afdec7a188b button.colab-df-convert');\n",
       "      buttonEl.style.display =\n",
       "        google.colab.kernel.accessAllowed ? 'block' : 'none';\n",
       "\n",
       "      async function convertToInteractive(key) {\n",
       "        const element = document.querySelector('#df-11743dfd-5506-48a0-8d4f-2afdec7a188b');\n",
       "        const dataTable =\n",
       "          await google.colab.kernel.invokeFunction('convertToInteractive',\n",
       "                                                    [key], {});\n",
       "        if (!dataTable) return;\n",
       "\n",
       "        const docLinkHtml = 'Like what you see? Visit the ' +\n",
       "          '<a target=\"_blank\" href=https://colab.research.google.com/notebooks/data_table.ipynb>data table notebook</a>'\n",
       "          + ' to learn more about interactive tables.';\n",
       "        element.innerHTML = '';\n",
       "        dataTable['output_type'] = 'display_data';\n",
       "        await google.colab.output.renderOutput(dataTable, element);\n",
       "        const docLink = document.createElement('div');\n",
       "        docLink.innerHTML = docLinkHtml;\n",
       "        element.appendChild(docLink);\n",
       "      }\n",
       "    </script>\n",
       "  </div>\n",
       "\n",
       "\n",
       "<div id=\"df-9c8492fd-ade5-4c63-8f06-afbe87170922\">\n",
       "  <button class=\"colab-df-quickchart\" onclick=\"quickchart('df-9c8492fd-ade5-4c63-8f06-afbe87170922')\"\n",
       "            title=\"Suggest charts\"\n",
       "            style=\"display:none;\">\n",
       "\n",
       "<svg xmlns=\"http://www.w3.org/2000/svg\" height=\"24px\"viewBox=\"0 0 24 24\"\n",
       "     width=\"24px\">\n",
       "    <g>\n",
       "        <path d=\"M19 3H5c-1.1 0-2 .9-2 2v14c0 1.1.9 2 2 2h14c1.1 0 2-.9 2-2V5c0-1.1-.9-2-2-2zM9 17H7v-7h2v7zm4 0h-2V7h2v10zm4 0h-2v-4h2v4z\"/>\n",
       "    </g>\n",
       "</svg>\n",
       "  </button>\n",
       "\n",
       "<style>\n",
       "  .colab-df-quickchart {\n",
       "      --bg-color: #E8F0FE;\n",
       "      --fill-color: #1967D2;\n",
       "      --hover-bg-color: #E2EBFA;\n",
       "      --hover-fill-color: #174EA6;\n",
       "      --disabled-fill-color: #AAA;\n",
       "      --disabled-bg-color: #DDD;\n",
       "  }\n",
       "\n",
       "  [theme=dark] .colab-df-quickchart {\n",
       "      --bg-color: #3B4455;\n",
       "      --fill-color: #D2E3FC;\n",
       "      --hover-bg-color: #434B5C;\n",
       "      --hover-fill-color: #FFFFFF;\n",
       "      --disabled-bg-color: #3B4455;\n",
       "      --disabled-fill-color: #666;\n",
       "  }\n",
       "\n",
       "  .colab-df-quickchart {\n",
       "    background-color: var(--bg-color);\n",
       "    border: none;\n",
       "    border-radius: 50%;\n",
       "    cursor: pointer;\n",
       "    display: none;\n",
       "    fill: var(--fill-color);\n",
       "    height: 32px;\n",
       "    padding: 0;\n",
       "    width: 32px;\n",
       "  }\n",
       "\n",
       "  .colab-df-quickchart:hover {\n",
       "    background-color: var(--hover-bg-color);\n",
       "    box-shadow: 0 1px 2px rgba(60, 64, 67, 0.3), 0 1px 3px 1px rgba(60, 64, 67, 0.15);\n",
       "    fill: var(--button-hover-fill-color);\n",
       "  }\n",
       "\n",
       "  .colab-df-quickchart-complete:disabled,\n",
       "  .colab-df-quickchart-complete:disabled:hover {\n",
       "    background-color: var(--disabled-bg-color);\n",
       "    fill: var(--disabled-fill-color);\n",
       "    box-shadow: none;\n",
       "  }\n",
       "\n",
       "  .colab-df-spinner {\n",
       "    border: 2px solid var(--fill-color);\n",
       "    border-color: transparent;\n",
       "    border-bottom-color: var(--fill-color);\n",
       "    animation:\n",
       "      spin 1s steps(1) infinite;\n",
       "  }\n",
       "\n",
       "  @keyframes spin {\n",
       "    0% {\n",
       "      border-color: transparent;\n",
       "      border-bottom-color: var(--fill-color);\n",
       "      border-left-color: var(--fill-color);\n",
       "    }\n",
       "    20% {\n",
       "      border-color: transparent;\n",
       "      border-left-color: var(--fill-color);\n",
       "      border-top-color: var(--fill-color);\n",
       "    }\n",
       "    30% {\n",
       "      border-color: transparent;\n",
       "      border-left-color: var(--fill-color);\n",
       "      border-top-color: var(--fill-color);\n",
       "      border-right-color: var(--fill-color);\n",
       "    }\n",
       "    40% {\n",
       "      border-color: transparent;\n",
       "      border-right-color: var(--fill-color);\n",
       "      border-top-color: var(--fill-color);\n",
       "    }\n",
       "    60% {\n",
       "      border-color: transparent;\n",
       "      border-right-color: var(--fill-color);\n",
       "    }\n",
       "    80% {\n",
       "      border-color: transparent;\n",
       "      border-right-color: var(--fill-color);\n",
       "      border-bottom-color: var(--fill-color);\n",
       "    }\n",
       "    90% {\n",
       "      border-color: transparent;\n",
       "      border-bottom-color: var(--fill-color);\n",
       "    }\n",
       "  }\n",
       "</style>\n",
       "\n",
       "  <script>\n",
       "    async function quickchart(key) {\n",
       "      const quickchartButtonEl =\n",
       "        document.querySelector('#' + key + ' button');\n",
       "      quickchartButtonEl.disabled = true;  // To prevent multiple clicks.\n",
       "      quickchartButtonEl.classList.add('colab-df-spinner');\n",
       "      try {\n",
       "        const charts = await google.colab.kernel.invokeFunction(\n",
       "            'suggestCharts', [key], {});\n",
       "      } catch (error) {\n",
       "        console.error('Error during call to suggestCharts:', error);\n",
       "      }\n",
       "      quickchartButtonEl.classList.remove('colab-df-spinner');\n",
       "      quickchartButtonEl.classList.add('colab-df-quickchart-complete');\n",
       "    }\n",
       "    (() => {\n",
       "      let quickchartButtonEl =\n",
       "        document.querySelector('#df-9c8492fd-ade5-4c63-8f06-afbe87170922 button');\n",
       "      quickchartButtonEl.style.display =\n",
       "        google.colab.kernel.accessAllowed ? 'block' : 'none';\n",
       "    })();\n",
       "  </script>\n",
       "</div>\n",
       "    </div>\n",
       "  </div>\n"
      ],
      "text/plain": [
       "   Token    Lemma\n",
       "0  rujan    rujan\n",
       "1     da       da\n",
       "2  znači  značiti\n",
       "3     su     biti\n",
       "4    bio     biti"
      ]
     },
     "execution_count": 192,
     "metadata": {},
     "output_type": "execute_result"
    }
   ],
   "source": [
    "test_dataset.head()"
   ]
  },
  {
   "cell_type": "code",
   "execution_count": null,
   "metadata": {
    "colab": {
     "base_uri": "https://localhost:8080/"
    },
    "executionInfo": {
     "elapsed": 254,
     "status": "ok",
     "timestamp": 1711662171534,
     "user": {
      "displayName": "Marko Kumir",
      "userId": "15629419082931327730"
     },
     "user_tz": -60
    },
    "id": "prDXefK7mF87",
    "outputId": "42ea90e9-e992-40ee-e6e9-068d976b7a4c"
   },
   "outputs": [
    {
     "data": {
      "text/plain": [
       "(54944, 2)"
      ]
     },
     "execution_count": 193,
     "metadata": {},
     "output_type": "execute_result"
    }
   ],
   "source": [
    "test_dataset.shape"
   ]
  },
  {
   "cell_type": "code",
   "execution_count": null,
   "metadata": {
    "colab": {
     "base_uri": "https://localhost:8080/"
    },
    "executionInfo": {
     "elapsed": 286,
     "status": "ok",
     "timestamp": 1711662195721,
     "user": {
      "displayName": "Marko Kumir",
      "userId": "15629419082931327730"
     },
     "user_tz": -60
    },
    "id": "MEGM5ng4bzBf",
    "outputId": "536160fa-215d-412a-f944-e9ec30ba5b57"
   },
   "outputs": [
    {
     "name": "stdout",
     "output_type": "stream",
     "text": [
      "CSV file has been saved.\n"
     ]
    }
   ],
   "source": [
    "test_dataset.to_csv('hrWaC2.1.01_test_dataset.csv', index=False)\n",
    "# Write the testing dataset DataFrame to a CSV file without including the index.\n",
    "\n",
    "print(\"CSV file has been saved.\")\n",
    "# Print a message indicating that the CSV file has been successfully saved."
   ]
  },
  {
   "cell_type": "markdown",
   "metadata": {
    "id": "zx3V7F2-jMbc"
   },
   "source": [
    "## Descriptive statistics"
   ]
  },
  {
   "cell_type": "markdown",
   "metadata": {
    "id": "DMbWQFnIkuMU"
   },
   "source": [
    "#### Unique Tokens vs Unique Lemmas"
   ]
  },
  {
   "cell_type": "code",
   "execution_count": 27,
   "metadata": {
    "executionInfo": {
     "elapsed": 815,
     "status": "ok",
     "timestamp": 1711831239018,
     "user": {
      "displayName": "Marko Kumir",
      "userId": "15629419082931327730"
     },
     "user_tz": -60
    },
    "id": "pFyCvWaCReHx"
   },
   "outputs": [],
   "source": [
    "num_unique_tokens = len(token_lemma_dict)  # Get the number of unique tokens by the length of token_lemma dictionary.\n",
    "num_unique_lemmas = len(lemma_frequency_dict)  # Get the number of unique lemmas by the length of lemma_frequency dictionary."
   ]
  },
  {
   "cell_type": "code",
   "execution_count": 28,
   "metadata": {
    "colab": {
     "base_uri": "https://localhost:8080/",
     "height": 551
    },
    "executionInfo": {
     "elapsed": 441,
     "status": "ok",
     "timestamp": 1711831241143,
     "user": {
      "displayName": "Marko Kumir",
      "userId": "15629419082931327730"
     },
     "user_tz": -60
    },
    "id": "2r6SaJTVbEWB",
    "outputId": "df655264-785a-4bbc-cfa1-6735688762b6"
   },
   "outputs": [
    {
     "data": {
      "image/png": "[encoded data removed]",
      "text/plain": [
       "<Figure size 800x600 with 1 Axes>"
      ]
     },
     "metadata": {},
     "output_type": "display_data"
    }
   ],
   "source": [
    "fig, ax = plt.subplots(figsize=(8, 6))  # Create a figure and axis object for the plot with specified size.\n",
    "\n",
    "bars = ax.bar(['Unique Tokens', 'Unique Lemmas'], [num_unique_tokens, num_unique_lemmas], color=['#ff9900', '#ffff80'], edgecolor='white')\n",
    "# Create bars representing the counts of unique tokens and unique lemmas with specified colors and edgecolor.\n",
    "\n",
    "# Add labels to each bar showing the corresponding count.\n",
    "for bar in bars:\n",
    "    height = bar.get_height()  # Get the height of the bar.\n",
    "    ax.annotate('{}'.format(height),\n",
    "                xy=(bar.get_x() + bar.get_width() / 2, height),  # Position of the label.\n",
    "                xytext=(0, 3),  # 3 points vertical offset from the top of the bar.\n",
    "                textcoords=\"offset points\",  # Offset in points.\n",
    "                ha='center', va='bottom', fontsize=12)  # Horizontal and vertical alignment of the text.\n",
    "\n",
    "# Add title and labels to the plot.\n",
    "plt.title('Number of Unique Tokens vs Unique Lemmas', fontsize=16)  # Set the title of the plot.\n",
    "plt.ylabel('Count', fontsize=14)  # Label the y-axis.\n",
    "\n",
    "# Adjust tick parameters for better readability.\n",
    "ax.tick_params(axis='both', which='major', labelsize=12)  # Set tick parameters for major ticks.\n",
    "ax.tick_params(axis='both', which='minor', labelsize=10)  # Set tick parameters for minor ticks.\n",
    "\n",
    "# Remove top and right spines.\n",
    "ax.spines['top'].set_visible(False)  # Hide the top spine.\n",
    "ax.spines['right'].set_visible(False)  # Hide the right spine.\n",
    "\n",
    "plt.show()  # Display the plot."
   ]
  },
  {
   "cell_type": "markdown",
   "metadata": {
    "id": "DhUzOPhfytel"
   },
   "source": [
    "This visualization displays a comparison between the number of unique tokens and unique lemmas in a dataset using a bar chart."
   ]
  },
  {
   "cell_type": "markdown",
   "metadata": {
    "id": "c3I0ulf62trP"
   },
   "source": [
    "From the graph, we can see that we have 864938 unique tokens and 537479 unique lemmas, which indicates that one lemma appears in many different tokens."
   ]
  },
  {
   "cell_type": "markdown",
   "metadata": {
    "id": "VFgx3N7JrcLM"
   },
   "source": [
    "#### Token-to-Lemma Ratio"
   ]
  },
  {
   "cell_type": "markdown",
   "metadata": {
    "id": "euMvav06zCjL"
   },
   "source": [
    "Here we calculate the token-to-lemma ratio, which shows the average number of different tokens for each lemma in a dataset. It divides the count of unique tokens by the count of unique lemmas. The result indicates how many tokens, on average, correspond to each lemma."
   ]
  },
  {
   "cell_type": "code",
   "execution_count": 29,
   "metadata": {
    "colab": {
     "base_uri": "https://localhost:8080/"
    },
    "executionInfo": {
     "elapsed": 808,
     "status": "ok",
     "timestamp": 1711831245889,
     "user": {
      "displayName": "Marko Kumir",
      "userId": "15629419082931327730"
     },
     "user_tz": -60
    },
    "id": "HAA67-IAq_kc",
    "outputId": "02865f6f-10bb-4318-c2f7-7669ba52afcd"
   },
   "outputs": [
    {
     "name": "stdout",
     "output_type": "stream",
     "text": [
      "Token-to-Lemma Ratio: 1.61\n"
     ]
    }
   ],
   "source": [
    "token_to_lemma_ratio = num_unique_tokens / num_unique_lemmas\n",
    "\n",
    "print(\"Token-to-Lemma Ratio:\", round(token_to_lemma_ratio, 2))"
   ]
  },
  {
   "cell_type": "markdown",
   "metadata": {
    "id": "uudLWNq6rPli"
   },
   "source": [
    "On average, there are approximately 1.61 unique tokens for each unique lemma in the dataset."
   ]
  },
  {
   "cell_type": "markdown",
   "metadata": {
    "id": "_iHP8EREk0H7"
   },
   "source": [
    "#### Top 10 Tokens and Lemmas"
   ]
  },
  {
   "cell_type": "code",
   "execution_count": 30,
   "metadata": {
    "executionInfo": {
     "elapsed": 2,
     "status": "ok",
     "timestamp": 1711831246305,
     "user": {
      "displayName": "Marko Kumir",
      "userId": "15629419082931327730"
     },
     "user_tz": -60
    },
    "id": "WW9WhzzSjU1_"
   },
   "outputs": [],
   "source": [
    "top_tokens = list(sorted_token_lemma_dict.keys())[:10]\n",
    "# Get the top 10 tokens from the sorted_token_lemma_dict and convert them to a list.\n",
    "\n",
    "counts = [sorted_token_lemma_dict[token]['count'] for token in top_tokens]\n",
    "# Retrieve the counts corresponding to the top 10 tokens from the sorted_token_lemma_dict and store them in a list."
   ]
  },
  {
   "cell_type": "code",
   "execution_count": 31,
   "metadata": {
    "colab": {
     "base_uri": "https://localhost:8080/",
     "height": 607
    },
    "executionInfo": {
     "elapsed": 8,
     "status": "ok",
     "timestamp": 1711831248124,
     "user": {
      "displayName": "Marko Kumir",
      "userId": "15629419082931327730"
     },
     "user_tz": -60
    },
    "id": "BHDghoZijri2",
    "outputId": "406b1992-c218-4882-f705-a373e0294653"
   },
   "outputs": [
    {
     "data": {
      "image/png": "[encoded data removed]",
      "text/plain": [
       "<Figure size 1000x600 with 1 Axes>"
      ]
     },
     "metadata": {},
     "output_type": "display_data"
    }
   ],
   "source": [
    "# Plotting the top 10 tokens by count in a horizontal bar chart.\n",
    "fig, ax = plt.subplots(figsize=(10, 6))  # Create a figure and axis object for the plot with specified size.\n",
    "\n",
    "bars = ax.barh(top_tokens, counts, color='#ff9900', edgecolor='white')  # Create horizontal bars.\n",
    "\n",
    "# Add labels to each bar showing the corresponding count.\n",
    "for bar in bars:\n",
    "    width = bar.get_width()  # Get the width of the bar.\n",
    "    ax.annotate('{}'.format(width),\n",
    "                xy=(width, bar.get_y() + bar.get_height() / 2),  # Position of the label.\n",
    "                xytext=(3, 0),  # 3 points horizontal offset from the end of the bar.\n",
    "                textcoords=\"offset points\",  # Offset in points.\n",
    "                ha='left', va='center', fontsize=12)  # Horizontal and vertical alignment of the text.\n",
    "\n",
    "# Add title and labels to the plot.\n",
    "plt.title('Top 10 Tokens by Count', fontsize=16)  # Set the title of the plot.\n",
    "plt.xlabel('Count', fontsize=14)  # Label the x-axis.\n",
    "plt.ylabel('Token', fontsize=14)  # Label the y-axis.\n",
    "\n",
    "# Adjust tick parameters for better readability.\n",
    "ax.tick_params(axis='both', which='major', labelsize=12)  # Set tick parameters for major ticks.\n",
    "\n",
    "# Remove top and right spines.\n",
    "ax.spines['top'].set_visible(False)  # Hide the top spine.\n",
    "ax.spines['right'].set_visible(False)  # Hide the right spine.\n",
    "\n",
    "plt.tight_layout()  # Adjust layout to prevent overlapping elements.\n",
    "plt.show()  # Display the plot."
   ]
  },
  {
   "cell_type": "markdown",
   "metadata": {
    "id": "q77sWpRb4BlD"
   },
   "source": [
    "In this diagram, we can see the representation of the first 10 tokens according to their occurrence in the data set and the number of their occurrences. The most frequently occurring token is \"je\" with 1348528 occurrences."
   ]
  },
  {
   "cell_type": "code",
   "execution_count": 32,
   "metadata": {
    "executionInfo": {
     "elapsed": 9,
     "status": "ok",
     "timestamp": 1711831252413,
     "user": {
      "displayName": "Marko Kumir",
      "userId": "15629419082931327730"
     },
     "user_tz": -60
    },
    "id": "B9UmbyAJj4No"
   },
   "outputs": [],
   "source": [
    "top_lemmas = list(sorted_lemma_frequency_dict.keys())[:10]\n",
    "# Get the top 10 lemmas from the sorted_lemma_frequency_dict and convert them to a list.\n",
    "\n",
    "frequencies = list(sorted_lemma_frequency_dict.values())[:10]\n",
    "# Get the frequencies corresponding to the top 10 lemmas from the sorted_lemma_frequency_dict and convert them to a list."
   ]
  },
  {
   "cell_type": "code",
   "execution_count": 33,
   "metadata": {
    "colab": {
     "base_uri": "https://localhost:8080/",
     "height": 607
    },
    "executionInfo": {
     "elapsed": 8,
     "status": "ok",
     "timestamp": 1711831252414,
     "user": {
      "displayName": "Marko Kumir",
      "userId": "15629419082931327730"
     },
     "user_tz": -60
    },
    "id": "Wn6G8FX4kMVY",
    "outputId": "319d0f58-4213-402a-8aa4-a79b8d1c419f"
   },
   "outputs": [
    {
     "data": {
      "image/png": "[encoded data removed]",
      "text/plain": [
       "<Figure size 1000x600 with 1 Axes>"
      ]
     },
     "metadata": {},
     "output_type": "display_data"
    }
   ],
   "source": [
    "# Plotting the top 10 lemmas by frequency in a horizontal bar chart.\n",
    "fig, ax = plt.subplots(figsize=(10, 6))  # Create a figure and axis object for the plot with specified size.\n",
    "\n",
    "bars = ax.barh(top_lemmas, frequencies, color='#ffff80', edgecolor='white')  # Create horizontal bars.\n",
    "\n",
    "# Add labels to each bar showing the corresponding frequency.\n",
    "for bar in bars:\n",
    "    width = bar.get_width()  # Get the width of the bar.\n",
    "    ax.annotate('{}'.format(width),\n",
    "                xy=(width, bar.get_y() + bar.get_height() / 2),  # Position of the label.\n",
    "                xytext=(3, 0),  # 3 points horizontal offset from the end of the bar.\n",
    "                textcoords=\"offset points\",  # Offset in points.\n",
    "                ha='left', va='center', fontsize=12)  # Horizontal and vertical alignment of the text.\n",
    "\n",
    "# Add title and labels to the plot.\n",
    "plt.title('Top 10 Lemmas by Frequency', fontsize=16)  # Set the title of the plot.\n",
    "plt.xlabel('Frequency', fontsize=14)  # Label the x-axis.\n",
    "plt.ylabel('Lemma', fontsize=14)  # Label the y-axis.\n",
    "\n",
    "# Adjust tick parameters for better readability.\n",
    "ax.tick_params(axis='both', which='major', labelsize=12)  # Set tick parameters for major ticks.\n",
    "\n",
    "# Remove top and right spines.\n",
    "ax.spines['top'].set_visible(False)  # Hide the top spine.\n",
    "ax.spines['right'].set_visible(False)  # Hide the right spine.\n",
    "\n",
    "plt.tight_layout()  # Adjust layout to prevent overlapping elements.\n",
    "plt.show()  # Display the plot."
   ]
  },
  {
   "cell_type": "markdown",
   "metadata": {
    "id": "0vEGMtIVK_U-"
   },
   "source": [
    "We did the same thing for the lemmas. The top 10 lemmas by number of appearances are visualized. The most frequent lemma is \"biti\" with 2670032 occurrences."
   ]
  },
  {
   "cell_type": "markdown",
   "metadata": {
    "id": "ccHne1tVlnnu"
   },
   "source": [
    "#### Token and Lemma Length Distribution"
   ]
  },
  {
   "cell_type": "code",
   "execution_count": 34,
   "metadata": {
    "executionInfo": {
     "elapsed": 835,
     "status": "ok",
     "timestamp": 1711831255952,
     "user": {
      "displayName": "Marko Kumir",
      "userId": "15629419082931327730"
     },
     "user_tz": -60
    },
    "id": "kvmR0fc9lom4"
   },
   "outputs": [],
   "source": [
    "longest_token = max(sorted_token_lemma_dict, key=lambda x: len(x))\n",
    "# Find the token with the maximum length in sorted_token_lemma_dict.\n",
    "\n",
    "shortest_token = min(sorted_token_lemma_dict, key=lambda x: len(x))\n",
    "# Find the token with the minimum length in sorted_token_lemma_dict.\n",
    "\n",
    "longest_count = sorted_token_lemma_dict[longest_token]['count']\n",
    "# Get the count of occurrences for the longest token.\n",
    "\n",
    "shortest_count = sorted_token_lemma_dict[shortest_token]['count']\n",
    "# Get the count of occurrences for the shortest token."
   ]
  },
  {
   "cell_type": "code",
   "execution_count": 35,
   "metadata": {
    "colab": {
     "base_uri": "https://localhost:8080/"
    },
    "executionInfo": {
     "elapsed": 381,
     "status": "ok",
     "timestamp": 1711831258957,
     "user": {
      "displayName": "Marko Kumir",
      "userId": "15629419082931327730"
     },
     "user_tz": -60
    },
    "id": "cYrFr75Zl5eu",
    "outputId": "a7a3ebf3-7769-4a78-d272-f3f45808f8a9"
   },
   "outputs": [
    {
     "name": "stdout",
     "output_type": "stream",
     "text": [
      "Longest Token: httpwwwherakleahrherakleasavjetujeposlovnislucajevituristickazajednicagradamaloglosinjacasestudylosinjotokvitalnostiikvaliteteusluge, Count: 1\n",
      "Shortest Token: i, Count: 1327411\n"
     ]
    }
   ],
   "source": [
    "print(f\"Longest Token: {longest_token}, Count: {longest_count}\")\n",
    "print(f\"Shortest Token: {shortest_token}, Count: {shortest_count}\")"
   ]
  },
  {
   "cell_type": "markdown",
   "metadata": {
    "id": "TlSnQ-Ij2nN3"
   },
   "source": [
    "Here we find the longest and shortest tokens in the dataset based on their character length. We use a lambda function to determine the length of each token, and then find the token with the maximum and minimum length. In addition, we retrieve the sums associated with the longest and shortest tokens from a sorted dictionary containing token-lemma pairs and their corresponding sums."
   ]
  },
  {
   "cell_type": "code",
   "execution_count": 36,
   "metadata": {
    "executionInfo": {
     "elapsed": 627,
     "status": "ok",
     "timestamp": 1711831268791,
     "user": {
      "displayName": "Marko Kumir",
      "userId": "15629419082931327730"
     },
     "user_tz": -60
    },
    "id": "7IsEhR3-pIN0"
   },
   "outputs": [],
   "source": [
    "longest_lemma = max(sorted_lemma_frequency_dict, key=len)\n",
    "# Find the lemma with the maximum length in sorted_lemma_frequency_dict.\n",
    "\n",
    "shortest_lemma = min(sorted_lemma_frequency_dict, key=len)\n",
    "# Find the lemma with the minimum length in sorted_lemma_frequency_dict.\n",
    "\n",
    "longest_frequency = sorted_lemma_frequency_dict[longest_lemma]\n",
    "# Get the frequency of occurrences for the longest lemma.\n",
    "\n",
    "shortest_frequency = sorted_lemma_frequency_dict[shortest_lemma]\n",
    "# Get the frequency of occurrences for the shortest lemma."
   ]
  },
  {
   "cell_type": "code",
   "execution_count": 37,
   "metadata": {
    "colab": {
     "base_uri": "https://localhost:8080/"
    },
    "executionInfo": {
     "elapsed": 2,
     "status": "ok",
     "timestamp": 1711831269318,
     "user": {
      "displayName": "Marko Kumir",
      "userId": "15629419082931327730"
     },
     "user_tz": -60
    },
    "id": "X9GxjCxgpKoq",
    "outputId": "e5ab344e-5ebf-4a47-f4f4-be6bcac94883"
   },
   "outputs": [
    {
     "name": "stdout",
     "output_type": "stream",
     "text": [
      "Longest Lemma: httpwwwherakleahrherakleasavjetujeposlovnislucajevituristickazajednicagradamaloglosinjacasestudylosinjotokvitalnostiikvaliteteusluge, Frequency: 1\n",
      "Shortest Lemma: i, Frequency: 1327549\n"
     ]
    }
   ],
   "source": [
    "print(f\"Longest Lemma: {longest_lemma}, Frequency: {longest_frequency}\")\n",
    "print(f\"Shortest Lemma: {shortest_lemma}, Frequency: {shortest_frequency}\")"
   ]
  },
  {
   "cell_type": "markdown",
   "metadata": {
    "id": "CaFUTVWO2s10"
   },
   "source": [
    "Next, here we find the longest and shortest lemma in the data set based on their character length. We retrieve the lemma with the maximum and minimum length using the max and min functions. Additionally, we retrieve the frequencies associated with the longest and shortest lemma from a sorted dictionary containing the lemmas and their corresponding frequencies."
   ]
  },
  {
   "cell_type": "code",
   "execution_count": 38,
   "metadata": {
    "colab": {
     "base_uri": "https://localhost:8080/"
    },
    "executionInfo": {
     "elapsed": 5,
     "status": "ok",
     "timestamp": 1711831271338,
     "user": {
      "displayName": "Marko Kumir",
      "userId": "15629419082931327730"
     },
     "user_tz": -60
    },
    "id": "jBcWT6BPpdbK",
    "outputId": "7674b2ec-9e8f-4abb-b015-95101db597bb"
   },
   "outputs": [
    {
     "name": "stdout",
     "output_type": "stream",
     "text": [
      "Average Token Length: 9.04\n",
      "Average Lemma Length: 8.62\n"
     ]
    }
   ],
   "source": [
    "# Calculate the total length of all tokens and lemmas in their respective dictionaries.\n",
    "total_token_length = sum(len(token) for token in sorted_token_lemma_dict)\n",
    "total_lemma_length = sum(len(lemma) for lemma in sorted_lemma_frequency_dict)\n",
    "\n",
    "# Calculate the total number of tokens and lemmas in their respective dictionaries.\n",
    "total_tokens = len(sorted_token_lemma_dict)\n",
    "total_lemmas = len(sorted_lemma_frequency_dict)\n",
    "\n",
    "# Calculate the average length of tokens and lemmas.\n",
    "average_token_length = total_token_length / total_tokens\n",
    "average_lemma_length = total_lemma_length / total_lemmas\n",
    "\n",
    "# Print the average length of tokens and lemmas with two decimal places.\n",
    "print(f\"Average Token Length: {average_token_length:.2f}\")\n",
    "print(f\"Average Lemma Length: {average_lemma_length:.2f}\")"
   ]
  },
  {
   "cell_type": "markdown",
   "metadata": {
    "id": "kToXFrJVj93W"
   },
   "source": [
    "Here we calculated the average length of tokens and lemmas."
   ]
  },
  {
   "cell_type": "code",
   "execution_count": 39,
   "metadata": {
    "executionInfo": {
     "elapsed": 916,
     "status": "ok",
     "timestamp": 1711831274803,
     "user": {
      "displayName": "Marko Kumir",
      "userId": "15629419082931327730"
     },
     "user_tz": -60
    },
    "id": "rB56WwFRqkIe"
   },
   "outputs": [],
   "source": [
    "token_lengths = [len(token) for token in sorted_token_lemma_dict]\n",
    "# Create a list containing the lengths of all tokens in sorted_token_lemma_dict.\n",
    "\n",
    "lemma_lengths = [len(lemma) for lemma in sorted_lemma_frequency_dict]\n",
    "# Create a list containing the lengths of all lemmas in sorted_lemma_frequency_dict."
   ]
  },
  {
   "cell_type": "code",
   "execution_count": 40,
   "metadata": {
    "colab": {
     "base_uri": "https://localhost:8080/",
     "height": 1000
    },
    "executionInfo": {
     "elapsed": 3491,
     "status": "ok",
     "timestamp": 1711831278291,
     "user": {
      "displayName": "Marko Kumir",
      "userId": "15629419082931327730"
     },
     "user_tz": -60
    },
    "id": "uO-m284X24l7",
    "outputId": "a1482748-2ad9-4523-8538-bd494e33de47"
   },
   "outputs": [
    {
     "name": "stderr",
     "output_type": "stream",
     "text": [
      "<ipython-input-40-d451dfd514f7>:1: MatplotlibDeprecationWarning: The seaborn styles shipped by Matplotlib are deprecated since 3.6, as they no longer correspond to the styles shipped by seaborn. However, they will remain available as 'seaborn-v0_8-<style>'. Alternatively, directly use the seaborn API instead.\n",
      "  plt.style.use('seaborn-darkgrid')\n"
     ]
    },
    {
     "data": {
      "image/png": "[encoded data removed]",
      "text/plain": [
       "<Figure size 800x1000 with 2 Axes>"
      ]
     },
     "metadata": {},
     "output_type": "display_data"
    }
   ],
   "source": [
    "plt.style.use('seaborn-darkgrid')\n",
    "# Set the style of the plots to 'seaborn-darkgrid'.\n",
    "\n",
    "fig, axs = plt.subplots(2, 1, figsize=(8, 10))\n",
    "# Create subplots with 2 rows and 1 column, with a specified size for the figure.\n",
    "\n",
    "axs[0].hist(token_lengths, bins=50, color='#ff9900', edgecolor='black', alpha=0.7)\n",
    "# Plot a histogram of token lengths with 50 bins, using specified colors and transparency.\n",
    "axs[0].set_title('Token Length Distribution', fontsize=16)\n",
    "# Set the title for the first subplot.\n",
    "axs[0].set_xlabel('Length', fontsize=14)\n",
    "# Label the x-axis of the first subplot.\n",
    "axs[0].set_ylabel('Frequency', fontsize=14)\n",
    "# Label the y-axis of the first subplot.\n",
    "axs[0].tick_params(axis='both', which='major', labelsize=12)\n",
    "# Adjust tick parameters for better readability in the first subplot.\n",
    "\n",
    "axs[1].hist(lemma_lengths, bins=50, color='#ffff66', edgecolor='black', alpha=0.7)\n",
    "# Plot a histogram of lemma lengths with 50 bins, using specified colors and transparency.\n",
    "axs[1].set_title('Lemma Length Distribution', fontsize=16)\n",
    "# Set the title for the second subplot.\n",
    "axs[1].set_xlabel('Length', fontsize=14)\n",
    "# Label the x-axis of the second subplot.\n",
    "axs[1].set_ylabel('Frequency', fontsize=14)\n",
    "# Label the y-axis of the second subplot.\n",
    "axs[1].tick_params(axis='both', which='major', labelsize=12)\n",
    "# Adjust tick parameters for better readability in the second subplot.\n",
    "\n",
    "plt.tight_layout()\n",
    "# Adjust layout to prevent overlapping elements.\n",
    "\n",
    "plt.show()\n",
    "# Display the plot."
   ]
  },
  {
   "cell_type": "markdown",
   "metadata": {
    "id": "28CIM-I-mMMS"
   },
   "source": [
    "In these two graphs we can see the distribution of lengths for tokens and lemmas.\n",
    "\n",
    "The first graph shows the distribution of token lengths and we can see that most tokens are around 10 characters long. After that, most tokens are approximately 3 to 10 characters and 10 to approximately 15 characters. The number of tokens of other lengths is considerably small.\n",
    "\n",
    "On the second graph, we can see the distribution of lemmas lengths. Most lemmas have a length of 5 to 15 characters."
   ]
  },
  {
   "cell_type": "markdown",
   "metadata": {
    "id": "H6hk-0XvvlOb"
   },
   "source": [
    "#### Token and Lemma Count Distribution"
   ]
  },
  {
   "cell_type": "code",
   "execution_count": 41,
   "metadata": {
    "colab": {
     "base_uri": "https://localhost:8080/",
     "height": 557
    },
    "executionInfo": {
     "elapsed": 1704,
     "status": "ok",
     "timestamp": 1711831283108,
     "user": {
      "displayName": "Marko Kumir",
      "userId": "15629419082931327730"
     },
     "user_tz": -60
    },
    "id": "hxtEAvefvrI7",
    "outputId": "3ee348ad-c32c-4ec8-e37d-83f5cdf36c0c"
   },
   "outputs": [
    {
     "data": {
      "image/png": "[encoded data removed]",
      "text/plain": [
       "<Figure size 1000x600 with 1 Axes>"
      ]
     },
     "metadata": {},
     "output_type": "display_data"
    }
   ],
   "source": [
    "count_frequency = Counter(data['count'] for data in sorted_token_lemma_dict.values())\n",
    "# Count the frequency of counts (number of occurrences) of tokens in sorted_token_lemma_dict.\n",
    "\n",
    "freqs = sorted(count_frequency.items())\n",
    "# Sort the frequencies in ascending order.\n",
    "\n",
    "counts, frequencies = zip(*freqs)\n",
    "# Unpack the sorted frequencies into counts and frequencies.\n",
    "\n",
    "plt.figure(figsize=(10, 6))\n",
    "# Create a new figure with a specified size.\n",
    "plt.scatter(range(len(frequencies)), frequencies, marker=\".\")\n",
    "# Plot a scatter plot of frequencies against their respective counts.\n",
    "plt.title(\"Frequency of token counts\")\n",
    "# Set the title of the plot.\n",
    "plt.xlabel(\"Token Count\")\n",
    "# Label the x-axis.\n",
    "plt.ylabel(\"Freq\")\n",
    "# Label the y-axis.\n",
    "plt.yscale(\"log\")\n",
    "# Set the y-scale to logarithmic for better visualization of the data.\n",
    "\n",
    "plt.show()\n",
    "# Display the plot."
   ]
  },
  {
   "cell_type": "markdown",
   "metadata": {
    "id": "7xEuHCjOvI1c"
   },
   "source": [
    "This graph shows the frequency of occurrence of tokens using a logarithmic scale.\n",
    "\n",
    "We can see that very few tokens appear between 10,000 and 100,000 times and most tokens appear between 1 and 100 times. That is, the most common frequency of occurence is between 10<sup>0</sup> and 10<sup>2</sup>, and the least is between 10<sup>4</sup> and 10<sup>6</sup>."
   ]
  },
  {
   "cell_type": "markdown",
   "metadata": {
    "id": "sB1EqhQxZiYE"
   },
   "source": [
    "The plot shows a clear exponential decay pattern, suggesting that as the token count increases, the frequency of tokens decreases exponentially."
   ]
  },
  {
   "cell_type": "code",
   "execution_count": 57,
   "metadata": {
    "colab": {
     "base_uri": "https://localhost:8080/",
     "height": 557
    },
    "executionInfo": {
     "elapsed": 1328,
     "status": "ok",
     "timestamp": 1711831939075,
     "user": {
      "displayName": "Marko Kumir",
      "userId": "15629419082931327730"
     },
     "user_tz": -60
    },
    "id": "z4pSHNqIwv6D",
    "outputId": "66266f10-43a8-4cc9-ec28-f3ec6df5278e"
   },
   "outputs": [
    {
     "data": {
      "image/png": "[encoded data removed]",
      "text/plain": [
       "<Figure size 1000x600 with 1 Axes>"
      ]
     },
     "metadata": {},
     "output_type": "display_data"
    }
   ],
   "source": [
    "count_frequency = Counter(sorted_lemma_frequency_dict.values())\n",
    "\n",
    "freqs = sorted(count_frequency.items())\n",
    "# Sort the lemma-frequency pairs in ascending order based on frequency.\n",
    "\n",
    "lemmas, frequencies = zip(*freqs)\n",
    "# Unpack the sorted lemma-frequency pairs into lemmas and frequencies.\n",
    "\n",
    "plt.figure(figsize=(10, 6))\n",
    "# Create a new figure with a specified size.\n",
    "plt.scatter(range(len(frequencies)), frequencies, marker=\".\")\n",
    "# Plot a scatter plot of frequencies against their respective lemmas.\n",
    "plt.title(\"Frequency of lemma counts\")\n",
    "# Set the title of the plot.\n",
    "plt.xlabel(\"Lemma count\")\n",
    "# Label the x-axis.\n",
    "plt.ylabel(\"Freq\")\n",
    "# Label the y-axis.\n",
    "plt.yscale(\"log\")\n",
    "# Set the y-scale to logarithmic for better visualization of the data.\n",
    "\n",
    "plt.show()\n",
    "# Display the plot."
   ]
  },
  {
   "cell_type": "markdown",
   "metadata": {
    "id": "KnL-12gYvLoq"
   },
   "source": [
    "This graph shows the frequency of occurrence of lemmas using a logarithmic scale. Similar to the previous graph depicting token counts, we can observe that very few lemmas appear with high frequencies, while most lemmas appear with lower frequencies. The most common frequency of occurrence is between 10<sup>0</sup> and 10<sup>2</sup>, indicating that the majority of lemmas occur relatively infrequently in the dataset. Conversely, frequencies between 10<sup>4</sup> and 10<sup>6</sup> are rare, suggesting that only a small number of lemmas occur very frequently."
   ]
  },
  {
   "cell_type": "markdown",
   "metadata": {
    "id": "nuLGlhixuePv"
   },
   "source": [
    "#### Tokens for the most frequent lemma"
   ]
  },
  {
   "cell_type": "code",
   "execution_count": null,
   "metadata": {
    "colab": {
     "base_uri": "https://localhost:8080/"
    },
    "executionInfo": {
     "elapsed": 702,
     "status": "ok",
     "timestamp": 1711491364640,
     "user": {
      "displayName": "Marko Kumir",
      "userId": "15629419082931327730"
     },
     "user_tz": -60
    },
    "id": "enK1nezcukxR",
    "outputId": "a602384f-e1d8-4c46-adba-a84aa2fe9254"
   },
   "outputs": [
    {
     "name": "stdout",
     "output_type": "stream",
     "text": [
      "Tokens for most frequent lemma 'biti':\n",
      "je: 1348528\n",
      "su: 435947\n",
      "bi: 132495\n",
      "sam: 126013\n",
      "nije: 117650\n",
      "smo: 84467\n",
      "biti: 79903\n",
      "bio: 59151\n",
      "bila: 40558\n",
      "nisu: 31989\n",
      "bili: 25573\n",
      "si: 24158\n",
      "ste: 21512\n",
      "bih: 18841\n",
      "nisam: 17512\n",
      "bit: 13434\n",
      "bude: 11141\n",
      "jest: 8100\n",
      "bile: 8086\n",
      "nismo: 7305\n",
      "bismo: 6044\n",
      "biste: 4489\n",
      "jesu: 4069\n",
      "budu: 3836\n",
      "niste: 3221\n",
      "jeste: 3023\n",
      "nisi: 2747\n",
      "jesam: 1369\n",
      "jesi: 1318\n",
      "budemo: 1121\n",
      "jesmo: 1111\n",
      "budem: 964\n",
      "bijaše: 752\n",
      "budete: 708\n",
      "budeš: 421\n",
      "bijahu: 195\n",
      "bijah: 78\n",
      "bije: 42\n",
      "bješe: 42\n",
      "biju: 22\n",
      "bijasmo: 17\n",
      "bite: 13\n",
      "biš: 7\n",
      "bimo: 7\n",
      "bjehu: 6\n",
      "bij: 4\n",
      "bijaste: 4\n",
      "bijemo: 3\n",
      "bijući: 3\n",
      "bito: 3\n",
      "bijen: 2\n",
      "bijem: 2\n",
      "bjesmo: 2\n",
      "biješ: 2\n",
      "bidu: 2\n",
      "bijene: 1\n",
      "bijeno: 1\n",
      "bijeni: 1\n",
      "bjeh: 1\n",
      "bitim: 1\n",
      "bijena: 1\n"
     ]
    }
   ],
   "source": [
    "# Get the most frequent lemma from the sorted lemma-frequency dictionary.\n",
    "most_frequent_lemma = list(sorted_lemma_frequency_dict.keys())[0]\n",
    "\n",
    "# Initialize a list to store tokens associated with the most frequent lemma along with their frequencies.\n",
    "tokens_for_most_frequent_lemma = []\n",
    "\n",
    "# Iterate through sorted_token_lemma_dict to find tokens corresponding to the most frequent lemma.\n",
    "for token, data in sorted_token_lemma_dict.items():\n",
    "    if data['lemma'] == most_frequent_lemma:\n",
    "        tokens_for_most_frequent_lemma.append((token, data['count']))\n",
    "\n",
    "# Print the tokens associated with the most frequent lemma along with their frequencies.\n",
    "print(f\"Tokens for most frequent lemma '{most_frequent_lemma}':\")\n",
    "for token, frequency in tokens_for_most_frequent_lemma:\n",
    "    print(f\"{token}: {frequency}\")"
   ]
  },
  {
   "cell_type": "code",
   "execution_count": null,
   "metadata": {
    "colab": {
     "base_uri": "https://localhost:8080/",
     "height": 546
    },
    "executionInfo": {
     "elapsed": 1390,
     "status": "ok",
     "timestamp": 1711491366027,
     "user": {
      "displayName": "Marko Kumir",
      "userId": "15629419082931327730"
     },
     "user_tz": -60
    },
    "id": "1HYZxkRJwcwh",
    "outputId": "a30ee90f-5b2b-45e9-e15b-bd059d961440"
   },
   "outputs": [
    {
     "data": {
      "image/png": "[encoded data removed]",
      "text/plain": [
       "<Figure size 1000x600 with 1 Axes>"
      ]
     },
     "metadata": {},
     "output_type": "display_data"
    }
   ],
   "source": [
    "# Extract only the tokens from the list of tuples\n",
    "tokens_only = [token for token, _ in tokens_for_most_frequent_lemma]\n",
    "\n",
    "# Create a word cloud object with specified dimensions, background color, and colormap,\n",
    "# generated from the tokens associated with the most frequent lemma.\n",
    "wordcloud = WordCloud(width=800, height=400, background_color='white', colormap='viridis').generate(' '.join(tokens_only))\n",
    "\n",
    "# Create a new figure with a specified size.\n",
    "plt.figure(figsize=(10, 6))\n",
    "# Display the word cloud as an image with bilinear interpolation.\n",
    "plt.imshow(wordcloud, interpolation='bilinear')\n",
    "# Set the title of the plot to indicate it's a word cloud for the most frequent lemma.\n",
    "plt.title(f'Word Cloud for Most Frequent Lemma \"{most_frequent_lemma}\"', fontsize=16)\n",
    "# Hide axis for better presentation.\n",
    "plt.axis('off')\n",
    "# Adjust layout to prevent overlapping elements.\n",
    "plt.tight_layout()\n",
    "\n",
    "# Show the plot.\n",
    "plt.show()"
   ]
  },
  {
   "cell_type": "markdown",
   "metadata": {
    "id": "J3ChVFBLnRiS"
   },
   "source": [
    "This word cloud shows all the tokens that have as their lemma the most common lemma in the data set, i.e. the lemma \"biti\"."
   ]
  },
  {
   "cell_type": "markdown",
   "metadata": {
    "id": "DEKoxie7bU_c"
   },
   "source": [
    "## Vectorization"
   ]
  },
  {
   "cell_type": "code",
   "execution_count": null,
   "metadata": {
    "colab": {
     "base_uri": "https://localhost:8080/"
    },
    "executionInfo": {
     "elapsed": 11134,
     "status": "ok",
     "timestamp": 1711662228587,
     "user": {
      "displayName": "Marko Kumir",
      "userId": "15629419082931327730"
     },
     "user_tz": -60
    },
    "id": "i6qhozgSsYcz",
    "outputId": "0566bd3f-0b7d-4905-a4d8-8e44786ffd9e"
   },
   "outputs": [
    {
     "name": "stdout",
     "output_type": "stream",
     "text": [
      "Collecting hr-core-news-md==3.7.0\n",
      "  Downloading https://github.com/explosion/spacy-models/releases/download/hr_core_news_md-3.7.0/hr_core_news_md-3.7.0-py3-none-any.whl (67.5 MB)\n",
      "\u001b[2K     \u001b[90m━━━━━━━━━━━━━━━━━━━━━━━━━━━━━━━━━━━━━━━━\u001b[0m \u001b[32m67.5/67.5 MB\u001b[0m \u001b[31m20.8 MB/s\u001b[0m eta \u001b[36m0:00:00\u001b[0m\n",
      "\u001b[?25hRequirement already satisfied: spacy<3.8.0,>=3.7.0 in /usr/local/lib/python3.10/dist-packages (from hr-core-news-md==3.7.0) (3.7.4)\n",
      "Requirement already satisfied: spacy-legacy<3.1.0,>=3.0.11 in /usr/local/lib/python3.10/dist-packages (from spacy<3.8.0,>=3.7.0->hr-core-news-md==3.7.0) (3.0.12)\n",
      "Requirement already satisfied: spacy-loggers<2.0.0,>=1.0.0 in /usr/local/lib/python3.10/dist-packages (from spacy<3.8.0,>=3.7.0->hr-core-news-md==3.7.0) (1.0.5)\n",
      "Requirement already satisfied: murmurhash<1.1.0,>=0.28.0 in /usr/local/lib/python3.10/dist-packages (from spacy<3.8.0,>=3.7.0->hr-core-news-md==3.7.0) (1.0.10)\n",
      "Requirement already satisfied: cymem<2.1.0,>=2.0.2 in /usr/local/lib/python3.10/dist-packages (from spacy<3.8.0,>=3.7.0->hr-core-news-md==3.7.0) (2.0.8)\n",
      "Requirement already satisfied: preshed<3.1.0,>=3.0.2 in /usr/local/lib/python3.10/dist-packages (from spacy<3.8.0,>=3.7.0->hr-core-news-md==3.7.0) (3.0.9)\n",
      "Requirement already satisfied: thinc<8.3.0,>=8.2.2 in /usr/local/lib/python3.10/dist-packages (from spacy<3.8.0,>=3.7.0->hr-core-news-md==3.7.0) (8.2.3)\n",
      "Requirement already satisfied: wasabi<1.2.0,>=0.9.1 in /usr/local/lib/python3.10/dist-packages (from spacy<3.8.0,>=3.7.0->hr-core-news-md==3.7.0) (1.1.2)\n",
      "Requirement already satisfied: srsly<3.0.0,>=2.4.3 in /usr/local/lib/python3.10/dist-packages (from spacy<3.8.0,>=3.7.0->hr-core-news-md==3.7.0) (2.4.8)\n",
      "Requirement already satisfied: catalogue<2.1.0,>=2.0.6 in /usr/local/lib/python3.10/dist-packages (from spacy<3.8.0,>=3.7.0->hr-core-news-md==3.7.0) (2.0.10)\n",
      "Requirement already satisfied: weasel<0.4.0,>=0.1.0 in /usr/local/lib/python3.10/dist-packages (from spacy<3.8.0,>=3.7.0->hr-core-news-md==3.7.0) (0.3.4)\n",
      "Requirement already satisfied: typer<0.10.0,>=0.3.0 in /usr/local/lib/python3.10/dist-packages (from spacy<3.8.0,>=3.7.0->hr-core-news-md==3.7.0) (0.9.4)\n",
      "Requirement already satisfied: smart-open<7.0.0,>=5.2.1 in /usr/local/lib/python3.10/dist-packages (from spacy<3.8.0,>=3.7.0->hr-core-news-md==3.7.0) (6.4.0)\n",
      "Requirement already satisfied: tqdm<5.0.0,>=4.38.0 in /usr/local/lib/python3.10/dist-packages (from spacy<3.8.0,>=3.7.0->hr-core-news-md==3.7.0) (4.66.2)\n",
      "Requirement already satisfied: requests<3.0.0,>=2.13.0 in /usr/local/lib/python3.10/dist-packages (from spacy<3.8.0,>=3.7.0->hr-core-news-md==3.7.0) (2.31.0)\n",
      "Requirement already satisfied: pydantic!=1.8,!=1.8.1,<3.0.0,>=1.7.4 in /usr/local/lib/python3.10/dist-packages (from spacy<3.8.0,>=3.7.0->hr-core-news-md==3.7.0) (2.6.4)\n",
      "Requirement already satisfied: jinja2 in /usr/local/lib/python3.10/dist-packages (from spacy<3.8.0,>=3.7.0->hr-core-news-md==3.7.0) (3.1.3)\n",
      "Requirement already satisfied: setuptools in /usr/local/lib/python3.10/dist-packages (from spacy<3.8.0,>=3.7.0->hr-core-news-md==3.7.0) (67.7.2)\n",
      "Requirement already satisfied: packaging>=20.0 in /usr/local/lib/python3.10/dist-packages (from spacy<3.8.0,>=3.7.0->hr-core-news-md==3.7.0) (24.0)\n",
      "Requirement already satisfied: langcodes<4.0.0,>=3.2.0 in /usr/local/lib/python3.10/dist-packages (from spacy<3.8.0,>=3.7.0->hr-core-news-md==3.7.0) (3.3.0)\n",
      "Requirement already satisfied: numpy>=1.19.0 in /usr/local/lib/python3.10/dist-packages (from spacy<3.8.0,>=3.7.0->hr-core-news-md==3.7.0) (1.25.2)\n",
      "Requirement already satisfied: annotated-types>=0.4.0 in /usr/local/lib/python3.10/dist-packages (from pydantic!=1.8,!=1.8.1,<3.0.0,>=1.7.4->spacy<3.8.0,>=3.7.0->hr-core-news-md==3.7.0) (0.6.0)\n",
      "Requirement already satisfied: pydantic-core==2.16.3 in /usr/local/lib/python3.10/dist-packages (from pydantic!=1.8,!=1.8.1,<3.0.0,>=1.7.4->spacy<3.8.0,>=3.7.0->hr-core-news-md==3.7.0) (2.16.3)\n",
      "Requirement already satisfied: typing-extensions>=4.6.1 in /usr/local/lib/python3.10/dist-packages (from pydantic!=1.8,!=1.8.1,<3.0.0,>=1.7.4->spacy<3.8.0,>=3.7.0->hr-core-news-md==3.7.0) (4.10.0)\n",
      "Requirement already satisfied: charset-normalizer<4,>=2 in /usr/local/lib/python3.10/dist-packages (from requests<3.0.0,>=2.13.0->spacy<3.8.0,>=3.7.0->hr-core-news-md==3.7.0) (3.3.2)\n",
      "Requirement already satisfied: idna<4,>=2.5 in /usr/local/lib/python3.10/dist-packages (from requests<3.0.0,>=2.13.0->spacy<3.8.0,>=3.7.0->hr-core-news-md==3.7.0) (3.6)\n",
      "Requirement already satisfied: urllib3<3,>=1.21.1 in /usr/local/lib/python3.10/dist-packages (from requests<3.0.0,>=2.13.0->spacy<3.8.0,>=3.7.0->hr-core-news-md==3.7.0) (2.0.7)\n",
      "Requirement already satisfied: certifi>=2017.4.17 in /usr/local/lib/python3.10/dist-packages (from requests<3.0.0,>=2.13.0->spacy<3.8.0,>=3.7.0->hr-core-news-md==3.7.0) (2024.2.2)\n",
      "Requirement already satisfied: blis<0.8.0,>=0.7.8 in /usr/local/lib/python3.10/dist-packages (from thinc<8.3.0,>=8.2.2->spacy<3.8.0,>=3.7.0->hr-core-news-md==3.7.0) (0.7.11)\n",
      "Requirement already satisfied: confection<1.0.0,>=0.0.1 in /usr/local/lib/python3.10/dist-packages (from thinc<8.3.0,>=8.2.2->spacy<3.8.0,>=3.7.0->hr-core-news-md==3.7.0) (0.1.4)\n",
      "Requirement already satisfied: click<9.0.0,>=7.1.1 in /usr/local/lib/python3.10/dist-packages (from typer<0.10.0,>=0.3.0->spacy<3.8.0,>=3.7.0->hr-core-news-md==3.7.0) (8.1.7)\n",
      "Requirement already satisfied: cloudpathlib<0.17.0,>=0.7.0 in /usr/local/lib/python3.10/dist-packages (from weasel<0.4.0,>=0.1.0->spacy<3.8.0,>=3.7.0->hr-core-news-md==3.7.0) (0.16.0)\n",
      "Requirement already satisfied: MarkupSafe>=2.0 in /usr/local/lib/python3.10/dist-packages (from jinja2->spacy<3.8.0,>=3.7.0->hr-core-news-md==3.7.0) (2.1.5)\n",
      "\u001b[38;5;2m✔ Download and installation successful\u001b[0m\n",
      "You can now load the package via spacy.load('hr_core_news_md')\n",
      "\u001b[38;5;3m⚠ Restart to reload dependencies\u001b[0m\n",
      "If you are in a Jupyter or Colab notebook, you may need to restart Python in\n",
      "order to load all the package's dependencies. You can do this by selecting the\n",
      "'Restart kernel' or 'Restart runtime' option.\n"
     ]
    }
   ],
   "source": [
    "!python -m spacy download hr_core_news_md"
   ]
  },
  {
   "cell_type": "code",
   "execution_count": null,
   "metadata": {
    "id": "8lC6DII3sclH"
   },
   "outputs": [],
   "source": [
    "# Load the pre-trained Croatian language model provided by spaCy,\n",
    "# which includes word vectors trained on large Croatian corpora.\n",
    "nlp_hr = spacy.load(\"hr_core_news_md\")"
   ]
  },
  {
   "cell_type": "markdown",
   "metadata": {
    "id": "6PnqZ4GGsRut"
   },
   "source": [
    "We loaded one of the pre-trained models provided by spaCy specifically for Croatian languange processing. The \"hr_core_news_md\" model is trained on a large corpus of Croatian text and includes word vectors and linguistic annotations. We used \"hr_core_news_md\" for vectorizing our tokens and lemmas."
   ]
  },
  {
   "cell_type": "markdown",
   "metadata": {
    "id": "Basg-qaqxgJ1"
   },
   "source": [
    "### Train"
   ]
  },
  {
   "cell_type": "code",
   "execution_count": null,
   "metadata": {
    "id": "PG06ZHuMsdw_"
   },
   "outputs": [],
   "source": [
    "train = pd.read_csv('hrWaC2.1.01_train_dataset.csv')"
   ]
  },
  {
   "cell_type": "code",
   "execution_count": null,
   "metadata": {
    "id": "WnPRBqoT5sbt"
   },
   "outputs": [],
   "source": [
    "# Convert the 'Token' column of the 'train' dataset to string type,\n",
    "# ensuring all values are treated as strings.\n",
    "train['Token'] = train['Token'].astype(str)\n",
    "\n",
    "# Convert the 'Lemma' column of the 'train' dataset to string type,\n",
    "# ensuring all values are treated as strings.\n",
    "train['Lemma'] = train['Lemma'].astype(str)"
   ]
  },
  {
   "cell_type": "code",
   "execution_count": null,
   "metadata": {
    "id": "WbgPBZPrtgle"
   },
   "outputs": [],
   "source": [
    "def word_to_vector(data):\n",
    "    vectorized_tokens = []  # Initialize an empty list to store token vectors.\n",
    "    vectorized_lemmas = []  # Initialize an empty list to store lemma vectors.\n",
    "\n",
    "    # Create a tqdm progress bar instance to track the vectorization progress.\n",
    "    with tqdm(total=len(data), desc=\"Vectorizing words\") as pbar:\n",
    "        # Iterate over each row of the DataFrame, accessing 'Token' and 'Lemma' columns simultaneously.\n",
    "        for token, lemma in zip(data['Token'], data['Lemma']):\n",
    "            # Append the vector representation of the token to the 'vectorized_tokens' list using the loaded Croatian spaCy model.\n",
    "            vectorized_tokens.append(nlp_hr(token).vector)\n",
    "            # Append the vector representation of the lemma to the 'vectorized_lemmas' list using the loaded Croatian spaCy model.\n",
    "            vectorized_lemmas.append(nlp_hr(lemma).vector)\n",
    "            # Update the progress bar to reflect processing of one word.\n",
    "            pbar.update(1)\n",
    "\n",
    "    # Return the lists of token vectors and lemma vectors.\n",
    "    return vectorized_tokens, vectorized_lemmas"
   ]
  },
  {
   "cell_type": "code",
   "execution_count": null,
   "metadata": {
    "colab": {
     "base_uri": "https://localhost:8080/"
    },
    "executionInfo": {
     "elapsed": 8614548,
     "status": "ok",
     "timestamp": 1711509603229,
     "user": {
      "displayName": "Marko Kumir",
      "userId": "15629419082931327730"
     },
     "user_tz": -60
    },
    "id": "WszcK_wxcEzL",
    "outputId": "7698c937-7307-4ffc-860b-6e2aeb38591d"
   },
   "outputs": [
    {
     "name": "stderr",
     "output_type": "stream",
     "text": [
      "Vectorizing words: 100%|██████████| 549443/549443 [2:23:34<00:00, 63.78it/s]\n"
     ]
    }
   ],
   "source": [
    "# Call the 'word_to_vector' function with the 'train' dataset as input, which vectorizes tokens and lemmas in the training dataset.\n",
    "vectorized_tokens_train, vectorized_lemmas_train = word_to_vector(train)"
   ]
  },
  {
   "cell_type": "code",
   "execution_count": null,
   "metadata": {
    "colab": {
     "base_uri": "https://localhost:8080/"
    },
    "executionInfo": {
     "elapsed": 5,
     "status": "ok",
     "timestamp": 1711509603230,
     "user": {
      "displayName": "Marko Kumir",
      "userId": "15629419082931327730"
     },
     "user_tz": -60
    },
    "id": "Et2aksoLmeE6",
    "outputId": "ecd94105-b359-4782-abde-875286a6b39d"
   },
   "outputs": [
    {
     "name": "stdout",
     "output_type": "stream",
     "text": [
      "The length of vectorized tokens in the training dataset: 549443\n",
      "The length of vectorized lemmas in the training dataset: 549443\n"
     ]
    }
   ],
   "source": [
    "print(\"The length of vectorized tokens in the training dataset:\", len(vectorized_tokens_train))\n",
    "print(\"The length of vectorized lemmas in the training dataset:\", len(vectorized_lemmas_train))"
   ]
  },
  {
   "cell_type": "code",
   "execution_count": null,
   "metadata": {
    "id": "YFPSyo8jvEdG"
   },
   "outputs": [],
   "source": [
    "# Save arrays to files\n",
    "np.save('vectorized_tokens_train.npy', vectorized_tokens_train)\n",
    "np.save('vectorized_lemmas_train.npy', vectorized_lemmas_train)"
   ]
  },
  {
   "cell_type": "markdown",
   "metadata": {
    "id": "ir9c77ovxbh8"
   },
   "source": [
    "###Test"
   ]
  },
  {
   "cell_type": "code",
   "execution_count": null,
   "metadata": {
    "id": "WNQ6r4r4xaS6"
   },
   "outputs": [],
   "source": [
    "test = pd.read_csv('hrWaC2.1.01_test_dataset.csv')"
   ]
  },
  {
   "cell_type": "code",
   "execution_count": null,
   "metadata": {
    "id": "fTe8SkUexaS6"
   },
   "outputs": [],
   "source": [
    "# Convert the 'Token' column of the 'test' dataset to string type,\n",
    "# ensuring all values are treated as strings.\n",
    "test['Token'] = test['Token'].astype(str)\n",
    "\n",
    "# Convert the 'Lemma' column of the 'test' dataset to string type,\n",
    "# ensuring all values are treated as strings.\n",
    "test['Lemma'] = test['Lemma'].astype(str)"
   ]
  },
  {
   "cell_type": "code",
   "execution_count": null,
   "metadata": {
    "colab": {
     "base_uri": "https://localhost:8080/"
    },
    "executionInfo": {
     "elapsed": 867081,
     "status": "ok",
     "timestamp": 1711663105542,
     "user": {
      "displayName": "Marko Kumir",
      "userId": "15629419082931327730"
     },
     "user_tz": -60
    },
    "id": "DvkP7DMzxaS7",
    "outputId": "26e4113b-5c00-4fa1-d47a-8a30d76700fd"
   },
   "outputs": [
    {
     "name": "stderr",
     "output_type": "stream",
     "text": [
      "Vectorizing words: 100%|██████████| 54944/54944 [14:27<00:00, 63.30it/s]\n"
     ]
    }
   ],
   "source": [
    "# Call the 'word_to_vector' function with the 'test' dataset as input, which vectorizes tokens and lemmas in the testing dataset.\n",
    "vectorized_tokens_test, vectorized_lemmas_test = word_to_vector(test)"
   ]
  },
  {
   "cell_type": "code",
   "execution_count": null,
   "metadata": {
    "colab": {
     "base_uri": "https://localhost:8080/"
    },
    "executionInfo": {
     "elapsed": 18,
     "status": "ok",
     "timestamp": 1711663105543,
     "user": {
      "displayName": "Marko Kumir",
      "userId": "15629419082931327730"
     },
     "user_tz": -60
    },
    "id": "OpUP_CNrWHFP",
    "outputId": "786f24e7-1bb0-4ef0-da24-7379b7045ed3"
   },
   "outputs": [
    {
     "name": "stdout",
     "output_type": "stream",
     "text": [
      "The length of vectorized tokens in the testing dataset: 54944\n",
      "The length of vectorized lemmas in the testing dataset: 54944\n"
     ]
    }
   ],
   "source": [
    "print(\"The length of vectorized tokens in the testing dataset:\", len(vectorized_tokens_test))\n",
    "print(\"The length of vectorized lemmas in the testing dataset:\", len(vectorized_lemmas_test))"
   ]
  },
  {
   "cell_type": "code",
   "execution_count": null,
   "metadata": {
    "id": "-rx1uTCGxaS7"
   },
   "outputs": [],
   "source": [
    "# Save arrays to files\n",
    "np.save('vectorized_tokens_test.npy', vectorized_tokens_test)\n",
    "np.save('vectorized_lemmas_test.npy', vectorized_lemmas_test)"
   ]
  }
 ],
 "metadata": {
  "colab": {
   "authorship_tag": "ABX9TyMAgPEPVI8yCizjUbuXW9Be",
   "collapsed_sections": [
    "-Sjv3sTkhi67",
    "JcmMeN47h4MU",
    "FfgAX0PiqVVL",
    "4HFuCDT4rqqL",
    "rX3_RCbrPJB0",
    "zx3V7F2-jMbc",
    "DEKoxie7bU_c",
    "Basg-qaqxgJ1"
   ],
   "machine_shape": "hm",
   "mount_file_id": "10ZxbjNTF9HDQwFNDSbup761mwkKlBOpL",
   "provenance": [],
   "toc_visible": true
  },
  "kernelspec": {
   "display_name": "Python 3",
   "name": "python3"
  },
  "language_info": {
   "name": "python"
  }
 },
 "nbformat": 4,
 "nbformat_minor": 0
}
